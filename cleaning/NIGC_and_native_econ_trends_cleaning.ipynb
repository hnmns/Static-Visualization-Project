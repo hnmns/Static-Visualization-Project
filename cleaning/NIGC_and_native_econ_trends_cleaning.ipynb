{
 "cells": [
  {
   "cell_type": "code",
   "execution_count": null,
   "id": "17e64b9a",
   "metadata": {},
   "outputs": [],
   "source": [
    "import pandas as pd\n",
    "import numpy as np\n",
    "import camelot"
   ]
  },
  {
   "cell_type": "markdown",
   "id": "c8053bc9",
   "metadata": {},
   "source": [
    "## NIGC Gaming Tribe Report 2025"
   ]
  },
  {
   "cell_type": "code",
   "execution_count": null,
   "id": "4196b8e2",
   "metadata": {},
   "outputs": [],
   "source": [
    "tables_a = camelot.read_pdf('../data/TribesAlphabeticalList_NIGC_GamingTribeReport_2025.pdf',\n",
    "                          flavor='stream',\n",
    "                          row_tol=5,\n",
    "                          pages='1-4')\n",
    "report_a = tables_a[0].df\n",
    "# report_a\n"
   ]
  },
  {
   "cell_type": "code",
   "execution_count": 138,
   "id": "5154aae9",
   "metadata": {},
   "outputs": [],
   "source": [
    "tables_a_df_list = [table.df.iloc[3:, :] for table in tables_a]"
   ]
  },
  {
   "cell_type": "code",
   "execution_count": 197,
   "id": "be917f6d",
   "metadata": {},
   "outputs": [
    {
     "data": {
      "text/html": [
       "<div>\n",
       "<style scoped>\n",
       "    .dataframe tbody tr th:only-of-type {\n",
       "        vertical-align: middle;\n",
       "    }\n",
       "\n",
       "    .dataframe tbody tr th {\n",
       "        vertical-align: top;\n",
       "    }\n",
       "\n",
       "    .dataframe thead th {\n",
       "        text-align: right;\n",
       "    }\n",
       "</style>\n",
       "<table border=\"1\" class=\"dataframe\">\n",
       "  <thead>\n",
       "    <tr style=\"text-align: right;\">\n",
       "      <th></th>\n",
       "      <th>0</th>\n",
       "      <th>1</th>\n",
       "      <th>2</th>\n",
       "      <th>3</th>\n",
       "    </tr>\n",
       "  </thead>\n",
       "  <tbody>\n",
       "    <tr>\n",
       "      <th>3</th>\n",
       "      <td>Absentee Shawnee Tribe of Indians of OK</td>\n",
       "      <td>2025 S. Gordon Cooper Dr., Shawnee OK 74801</td>\n",
       "      <td>Class Type: Class II &amp; III   See 25 CFR 502.3 &amp; 4</td>\n",
       "      <td>Email Address: Governor@astribe.com</td>\n",
       "    </tr>\n",
       "    <tr>\n",
       "      <th>4</th>\n",
       "      <td></td>\n",
       "      <td>Thunderbird Casino - Shawnee</td>\n",
       "      <td>2025 S. Gordon Cooper Dr., Shawnee OK 74801</td>\n",
       "      <td>Game Class Type:  Class II &amp; III  See 25 CFR 5...</td>\n",
       "    </tr>\n",
       "    <tr>\n",
       "      <th>5</th>\n",
       "      <td></td>\n",
       "      <td>Work Phone: 405-360-9270</td>\n",
       "      <td>Work Fax: 405-573-3211</td>\n",
       "      <td>Email Address: LisaF@TBECInc.com</td>\n",
       "    </tr>\n",
       "    <tr>\n",
       "      <th>6</th>\n",
       "      <td></td>\n",
       "      <td>Thunderbird Entertainment Center</td>\n",
       "      <td>2025 S. Gordon Cooper Dr., Shawnee OK 74801</td>\n",
       "      <td>Game Class Type:  Class II &amp; III  See 25 CFR 5...</td>\n",
       "    </tr>\n",
       "    <tr>\n",
       "      <th>7</th>\n",
       "      <td></td>\n",
       "      <td>Work Phone: 405-360-9270</td>\n",
       "      <td>Work Fax: 405-360-9288</td>\n",
       "      <td>Email Address: LisaF@TBECInc.com</td>\n",
       "    </tr>\n",
       "    <tr>\n",
       "      <th>...</th>\n",
       "      <td>...</td>\n",
       "      <td>...</td>\n",
       "      <td>...</td>\n",
       "      <td>...</td>\n",
       "    </tr>\n",
       "    <tr>\n",
       "      <th>68</th>\n",
       "      <td></td>\n",
       "      <td>Work Phone: 918-423-8161</td>\n",
       "      <td>Work Fax: 918-423-7938</td>\n",
       "      <td>Email Address: ltucker@choctawnation.com</td>\n",
       "    </tr>\n",
       "    <tr>\n",
       "      <th>69</th>\n",
       "      <td></td>\n",
       "      <td>Choctaw Casino - Atoka Travel Plaza</td>\n",
       "      <td>P.O. Drawer 1210, Durant OK 74702</td>\n",
       "      <td>Game Class Type:  Class II &amp; III  See 25 CFR 5...</td>\n",
       "    </tr>\n",
       "    <tr>\n",
       "      <th>70</th>\n",
       "      <td></td>\n",
       "      <td>Work Phone: 580-364-0056</td>\n",
       "      <td>Work Fax: 580-364-0057</td>\n",
       "      <td>Email Address: Tclem@choctawnation.com</td>\n",
       "    </tr>\n",
       "    <tr>\n",
       "      <th>71</th>\n",
       "      <td></td>\n",
       "      <td>Choctaw Casino - Poteau Travel Plaza</td>\n",
       "      <td>P.O. Drawer 1210, Durant OK 74702</td>\n",
       "      <td>Game Class Type:  Class II &amp; III  See 25 CFR 5...</td>\n",
       "    </tr>\n",
       "    <tr>\n",
       "      <th>72</th>\n",
       "      <td></td>\n",
       "      <td>Work Phone: 918-649-0273</td>\n",
       "      <td>Work Fax: 918-649-0534</td>\n",
       "      <td>Email Address: ashipman@choctawnation.com</td>\n",
       "    </tr>\n",
       "  </tbody>\n",
       "</table>\n",
       "<p>281 rows × 4 columns</p>\n",
       "</div>"
      ],
      "text/plain": [
       "                                          0  \\\n",
       "3   Absentee Shawnee Tribe of Indians of OK   \n",
       "4                                             \n",
       "5                                             \n",
       "6                                             \n",
       "7                                             \n",
       "..                                      ...   \n",
       "68                                            \n",
       "69                                            \n",
       "70                                            \n",
       "71                                            \n",
       "72                                            \n",
       "\n",
       "                                              1  \\\n",
       "3   2025 S. Gordon Cooper Dr., Shawnee OK 74801   \n",
       "4                  Thunderbird Casino - Shawnee   \n",
       "5                      Work Phone: 405-360-9270   \n",
       "6              Thunderbird Entertainment Center   \n",
       "7                      Work Phone: 405-360-9270   \n",
       "..                                          ...   \n",
       "68                     Work Phone: 918-423-8161   \n",
       "69          Choctaw Casino - Atoka Travel Plaza   \n",
       "70                     Work Phone: 580-364-0056   \n",
       "71         Choctaw Casino - Poteau Travel Plaza   \n",
       "72                     Work Phone: 918-649-0273   \n",
       "\n",
       "                                                    2  \\\n",
       "3   Class Type: Class II & III   See 25 CFR 502.3 & 4   \n",
       "4         2025 S. Gordon Cooper Dr., Shawnee OK 74801   \n",
       "5                              Work Fax: 405-573-3211   \n",
       "6         2025 S. Gordon Cooper Dr., Shawnee OK 74801   \n",
       "7                              Work Fax: 405-360-9288   \n",
       "..                                                ...   \n",
       "68                             Work Fax: 918-423-7938   \n",
       "69                  P.O. Drawer 1210, Durant OK 74702   \n",
       "70                             Work Fax: 580-364-0057   \n",
       "71                  P.O. Drawer 1210, Durant OK 74702   \n",
       "72                             Work Fax: 918-649-0534   \n",
       "\n",
       "                                                    3  \n",
       "3                 Email Address: Governor@astribe.com  \n",
       "4   Game Class Type:  Class II & III  See 25 CFR 5...  \n",
       "5                    Email Address: LisaF@TBECInc.com  \n",
       "6   Game Class Type:  Class II & III  See 25 CFR 5...  \n",
       "7                    Email Address: LisaF@TBECInc.com  \n",
       "..                                                ...  \n",
       "68           Email Address: ltucker@choctawnation.com  \n",
       "69  Game Class Type:  Class II & III  See 25 CFR 5...  \n",
       "70             Email Address: Tclem@choctawnation.com  \n",
       "71  Game Class Type:  Class II & III  See 25 CFR 5...  \n",
       "72          Email Address: ashipman@choctawnation.com  \n",
       "\n",
       "[281 rows x 4 columns]"
      ]
     },
     "execution_count": 197,
     "metadata": {},
     "output_type": "execute_result"
    }
   ],
   "source": [
    "report_df = pd.concat(tables_a_df_list, axis=0)\n",
    "report_df"
   ]
  },
  {
   "cell_type": "code",
   "execution_count": 198,
   "id": "c32def65",
   "metadata": {},
   "outputs": [],
   "source": [
    "report_df.reset_index(drop=True, inplace=True)"
   ]
  },
  {
   "cell_type": "code",
   "execution_count": 199,
   "id": "90c53fa7",
   "metadata": {},
   "outputs": [
    {
     "data": {
      "text/plain": [
       "array([ 14,  32,  48,  51,  76,  88,  98, 103, 109, 131, 235, 245])"
      ]
     },
     "execution_count": 199,
     "metadata": {},
     "output_type": "execute_result"
    }
   ],
   "source": [
    "is_nonempty = (report_df[0]!='').to_numpy()+0\n",
    "# Find all indices where there are two 1's in a row\n",
    "# This indicates a place where a tribe/nation name spilled over to two rows.\n",
    "name_bleeds_over_idx = np.where((is_nonempty[:-1] == 1) & (is_nonempty[1:]==1))[0]\n",
    "name_bleeds_over_idx"
   ]
  },
  {
   "cell_type": "code",
   "execution_count": 200,
   "id": "50b8fed9",
   "metadata": {},
   "outputs": [],
   "source": [
    "for i in name_bleeds_over_idx:\n",
    "    report_df.loc[i, 0] += ' ' + report_df.loc[i+1, 0]\n",
    "    report_df.loc[i+1, 0] = '' # No longer need the bleed-over text, it has been absorbed into the full name above\n"
   ]
  },
  {
   "cell_type": "markdown",
   "id": "dcc92c4b",
   "metadata": {},
   "source": [
    "The `row_tol` parameter does not help us here since the multi-line tribe/nation name has the same distance between lines as the tribe/nation address and first facility name do. We may as well just keep all of these lines separate and rejoin the tribe/nation names based on adjacency and presence of a newline character. We then just extract the two-letter state abbreviation from the address with regular expressions. Are there any cases of a tribe/nation owning a facility in another state's borders?"
   ]
  },
  {
   "cell_type": "markdown",
   "id": "4f9e6547",
   "metadata": {},
   "source": [
    "Steps\n",
    "1. Remove all rows that have empty column 0 AND have a column 1 that contains a row containing \"Work Phone\"\n",
    "2. Stamp the tribe/nation name onto each of their facilities' names.\n",
    "3. Extend to all pages of the pdf, not just the first page."
   ]
  },
  {
   "cell_type": "code",
   "execution_count": 93,
   "id": "73b1c09f",
   "metadata": {},
   "outputs": [],
   "source": [
    "# report_a[1][report_a[1].str.contains('Work Phone')]"
   ]
  },
  {
   "cell_type": "code",
   "execution_count": 202,
   "id": "3482ea9e",
   "metadata": {},
   "outputs": [],
   "source": [
    "report_df = report_df.loc[~report_df[1].str.contains('Work Phone'), :]"
   ]
  },
  {
   "cell_type": "code",
   "execution_count": 203,
   "id": "b9ca3cab",
   "metadata": {},
   "outputs": [],
   "source": [
    "report_df_clean = report_df.replace('', np.nan)"
   ]
  },
  {
   "cell_type": "code",
   "execution_count": 204,
   "id": "ba29383e",
   "metadata": {},
   "outputs": [],
   "source": [
    "is_facility_idx = report_df_clean[0].isna()"
   ]
  },
  {
   "cell_type": "code",
   "execution_count": 205,
   "id": "1791ae0a",
   "metadata": {},
   "outputs": [],
   "source": [
    "report_df_clean['is_facility'] = is_facility_idx"
   ]
  },
  {
   "cell_type": "code",
   "execution_count": 206,
   "id": "b079a208",
   "metadata": {},
   "outputs": [],
   "source": [
    "report_df_clean[0] = report_df_clean[0].ffill()"
   ]
  },
  {
   "cell_type": "code",
   "execution_count": 207,
   "id": "c075e2b3",
   "metadata": {},
   "outputs": [
    {
     "data": {
      "text/html": [
       "<div>\n",
       "<style scoped>\n",
       "    .dataframe tbody tr th:only-of-type {\n",
       "        vertical-align: middle;\n",
       "    }\n",
       "\n",
       "    .dataframe tbody tr th {\n",
       "        vertical-align: top;\n",
       "    }\n",
       "\n",
       "    .dataframe thead th {\n",
       "        text-align: right;\n",
       "    }\n",
       "</style>\n",
       "<table border=\"1\" class=\"dataframe\">\n",
       "  <thead>\n",
       "    <tr style=\"text-align: right;\">\n",
       "      <th></th>\n",
       "      <th>0</th>\n",
       "      <th>1</th>\n",
       "      <th>2</th>\n",
       "      <th>3</th>\n",
       "      <th>is_facility</th>\n",
       "    </tr>\n",
       "  </thead>\n",
       "  <tbody>\n",
       "    <tr>\n",
       "      <th>0</th>\n",
       "      <td>Absentee Shawnee Tribe of Indians of OK</td>\n",
       "      <td>2025 S. Gordon Cooper Dr., Shawnee OK 74801</td>\n",
       "      <td>Class Type: Class II &amp; III   See 25 CFR 502.3 &amp; 4</td>\n",
       "      <td>Email Address: Governor@astribe.com</td>\n",
       "      <td>False</td>\n",
       "    </tr>\n",
       "    <tr>\n",
       "      <th>1</th>\n",
       "      <td>Absentee Shawnee Tribe of Indians of OK</td>\n",
       "      <td>Thunderbird Casino - Shawnee</td>\n",
       "      <td>2025 S. Gordon Cooper Dr., Shawnee OK 74801</td>\n",
       "      <td>Game Class Type:  Class II &amp; III  See 25 CFR 5...</td>\n",
       "      <td>True</td>\n",
       "    </tr>\n",
       "    <tr>\n",
       "      <th>3</th>\n",
       "      <td>Absentee Shawnee Tribe of Indians of OK</td>\n",
       "      <td>Thunderbird Entertainment Center</td>\n",
       "      <td>2025 S. Gordon Cooper Dr., Shawnee OK 74801</td>\n",
       "      <td>Game Class Type:  Class II &amp; III  See 25 CFR 5...</td>\n",
       "      <td>True</td>\n",
       "    </tr>\n",
       "    <tr>\n",
       "      <th>5</th>\n",
       "      <td>Agua Caliente Band of Cahuilla Indians</td>\n",
       "      <td>5401 Dinah Shore Dr., Palm Springs CA 92264</td>\n",
       "      <td>Class Type: Class II &amp; III   See 25 CFR 502.3 &amp; 4</td>\n",
       "      <td>Email Address: laviles@aguacaliente.net</td>\n",
       "      <td>False</td>\n",
       "    </tr>\n",
       "    <tr>\n",
       "      <th>6</th>\n",
       "      <td>Agua Caliente Band of Cahuilla Indians</td>\n",
       "      <td>Agua Caliente Casino Rancho Mirage</td>\n",
       "      <td>5401 Dinah Shore Dr., Palm Springs CA 92264</td>\n",
       "      <td>Game Class Type:  Class II &amp; III  See 25 CFR 5...</td>\n",
       "      <td>True</td>\n",
       "    </tr>\n",
       "    <tr>\n",
       "      <th>...</th>\n",
       "      <td>...</td>\n",
       "      <td>...</td>\n",
       "      <td>...</td>\n",
       "      <td>...</td>\n",
       "      <td>...</td>\n",
       "    </tr>\n",
       "    <tr>\n",
       "      <th>271</th>\n",
       "      <td>Choctaw Nation of Oklahoma</td>\n",
       "      <td>Choctaw Casino - Grant Travel Plaza</td>\n",
       "      <td>P.O. Drawer 1210, Durant OK 74702</td>\n",
       "      <td>Game Class Type:  Class II &amp; III  See 25 CFR 5...</td>\n",
       "      <td>True</td>\n",
       "    </tr>\n",
       "    <tr>\n",
       "      <th>273</th>\n",
       "      <td>Choctaw Nation of Oklahoma</td>\n",
       "      <td>Choctaw Casino - Stigler</td>\n",
       "      <td>P.O. Drawer 1210, Durant OK 74702</td>\n",
       "      <td>Game Class Type:  Class II &amp; III  See 25 CFR 5...</td>\n",
       "      <td>True</td>\n",
       "    </tr>\n",
       "    <tr>\n",
       "      <th>275</th>\n",
       "      <td>Choctaw Nation of Oklahoma</td>\n",
       "      <td>Choctaw Casino - McAlester</td>\n",
       "      <td>P.O. Drawer 1210, Durant OK 74702</td>\n",
       "      <td>Game Class Type:  Class II &amp; III  See 25 CFR 5...</td>\n",
       "      <td>True</td>\n",
       "    </tr>\n",
       "    <tr>\n",
       "      <th>277</th>\n",
       "      <td>Choctaw Nation of Oklahoma</td>\n",
       "      <td>Choctaw Casino - Atoka Travel Plaza</td>\n",
       "      <td>P.O. Drawer 1210, Durant OK 74702</td>\n",
       "      <td>Game Class Type:  Class II &amp; III  See 25 CFR 5...</td>\n",
       "      <td>True</td>\n",
       "    </tr>\n",
       "    <tr>\n",
       "      <th>279</th>\n",
       "      <td>Choctaw Nation of Oklahoma</td>\n",
       "      <td>Choctaw Casino - Poteau Travel Plaza</td>\n",
       "      <td>P.O. Drawer 1210, Durant OK 74702</td>\n",
       "      <td>Game Class Type:  Class II &amp; III  See 25 CFR 5...</td>\n",
       "      <td>True</td>\n",
       "    </tr>\n",
       "  </tbody>\n",
       "</table>\n",
       "<p>161 rows × 5 columns</p>\n",
       "</div>"
      ],
      "text/plain": [
       "                                           0  \\\n",
       "0    Absentee Shawnee Tribe of Indians of OK   \n",
       "1    Absentee Shawnee Tribe of Indians of OK   \n",
       "3    Absentee Shawnee Tribe of Indians of OK   \n",
       "5     Agua Caliente Band of Cahuilla Indians   \n",
       "6     Agua Caliente Band of Cahuilla Indians   \n",
       "..                                       ...   \n",
       "271               Choctaw Nation of Oklahoma   \n",
       "273               Choctaw Nation of Oklahoma   \n",
       "275               Choctaw Nation of Oklahoma   \n",
       "277               Choctaw Nation of Oklahoma   \n",
       "279               Choctaw Nation of Oklahoma   \n",
       "\n",
       "                                               1  \\\n",
       "0    2025 S. Gordon Cooper Dr., Shawnee OK 74801   \n",
       "1                   Thunderbird Casino - Shawnee   \n",
       "3               Thunderbird Entertainment Center   \n",
       "5    5401 Dinah Shore Dr., Palm Springs CA 92264   \n",
       "6             Agua Caliente Casino Rancho Mirage   \n",
       "..                                           ...   \n",
       "271          Choctaw Casino - Grant Travel Plaza   \n",
       "273                     Choctaw Casino - Stigler   \n",
       "275                   Choctaw Casino - McAlester   \n",
       "277          Choctaw Casino - Atoka Travel Plaza   \n",
       "279         Choctaw Casino - Poteau Travel Plaza   \n",
       "\n",
       "                                                     2  \\\n",
       "0    Class Type: Class II & III   See 25 CFR 502.3 & 4   \n",
       "1          2025 S. Gordon Cooper Dr., Shawnee OK 74801   \n",
       "3          2025 S. Gordon Cooper Dr., Shawnee OK 74801   \n",
       "5    Class Type: Class II & III   See 25 CFR 502.3 & 4   \n",
       "6          5401 Dinah Shore Dr., Palm Springs CA 92264   \n",
       "..                                                 ...   \n",
       "271                  P.O. Drawer 1210, Durant OK 74702   \n",
       "273                  P.O. Drawer 1210, Durant OK 74702   \n",
       "275                  P.O. Drawer 1210, Durant OK 74702   \n",
       "277                  P.O. Drawer 1210, Durant OK 74702   \n",
       "279                  P.O. Drawer 1210, Durant OK 74702   \n",
       "\n",
       "                                                     3  is_facility  \n",
       "0                  Email Address: Governor@astribe.com        False  \n",
       "1    Game Class Type:  Class II & III  See 25 CFR 5...         True  \n",
       "3    Game Class Type:  Class II & III  See 25 CFR 5...         True  \n",
       "5              Email Address: laviles@aguacaliente.net        False  \n",
       "6    Game Class Type:  Class II & III  See 25 CFR 5...         True  \n",
       "..                                                 ...          ...  \n",
       "271  Game Class Type:  Class II & III  See 25 CFR 5...         True  \n",
       "273  Game Class Type:  Class II & III  See 25 CFR 5...         True  \n",
       "275  Game Class Type:  Class II & III  See 25 CFR 5...         True  \n",
       "277  Game Class Type:  Class II & III  See 25 CFR 5...         True  \n",
       "279  Game Class Type:  Class II & III  See 25 CFR 5...         True  \n",
       "\n",
       "[161 rows x 5 columns]"
      ]
     },
     "execution_count": 207,
     "metadata": {},
     "output_type": "execute_result"
    }
   ],
   "source": [
    "report_df_clean"
   ]
  },
  {
   "cell_type": "code",
   "execution_count": 208,
   "id": "1c34fadb",
   "metadata": {},
   "outputs": [],
   "source": [
    "# report_df_clean.to_csv('../data/raw_gaming_report.csv')"
   ]
  },
  {
   "cell_type": "code",
   "execution_count": 210,
   "id": "4f770475",
   "metadata": {},
   "outputs": [],
   "source": [
    "# Addresses are in different columns for facilities and non-facilities\n",
    "report_df_clean['address'] = np.where(report_df_clean['is_facility'], report_df_clean[2], report_df_clean[1])"
   ]
  },
  {
   "cell_type": "code",
   "execution_count": 212,
   "id": "252835b3",
   "metadata": {},
   "outputs": [],
   "source": [
    "report_df_clean['classes_raw'] = np.where(report_df_clean['is_facility'], report_df_clean[3], report_df_clean[2])"
   ]
  },
  {
   "cell_type": "code",
   "execution_count": 214,
   "id": "bbc2c0c5",
   "metadata": {},
   "outputs": [],
   "source": [
    "report_df_clean['facility_name'] = np.where(report_df_clean['is_facility'], report_df_clean[1], np.nan)"
   ]
  },
  {
   "cell_type": "code",
   "execution_count": 217,
   "id": "d00f1c3c",
   "metadata": {},
   "outputs": [],
   "source": [
    "report_df_clean.drop(columns=[1,2,3], inplace=True)"
   ]
  },
  {
   "cell_type": "code",
   "execution_count": 222,
   "id": "fb660ba0",
   "metadata": {},
   "outputs": [],
   "source": [
    "report_df_clean['state'] = report_df_clean['address'].str.extract(r'([A-Z]{2})')"
   ]
  },
  {
   "cell_type": "code",
   "execution_count": 228,
   "id": "3c753714",
   "metadata": {},
   "outputs": [
    {
     "data": {
      "text/plain": [
       "0      False\n",
       "1      False\n",
       "3      False\n",
       "5      False\n",
       "6      False\n",
       "       ...  \n",
       "271    False\n",
       "273    False\n",
       "275    False\n",
       "277    False\n",
       "279    False\n",
       "Name: classes_raw, Length: 161, dtype: object"
      ]
     },
     "execution_count": 228,
     "metadata": {},
     "output_type": "execute_result"
    }
   ],
   "source": [
    "report_df_clean['classes_raw'].str.contains('Class III')"
   ]
  },
  {
   "cell_type": "code",
   "execution_count": 229,
   "id": "db810cff",
   "metadata": {},
   "outputs": [],
   "source": [
    "report_df_clean['classes'] = ''"
   ]
  },
  {
   "cell_type": "code",
   "execution_count": 233,
   "id": "039575fc",
   "metadata": {},
   "outputs": [
    {
     "data": {
      "text/plain": [
       "0      True\n",
       "1      True\n",
       "3      True\n",
       "5      True\n",
       "6      True\n",
       "       ... \n",
       "271    True\n",
       "273    True\n",
       "275    True\n",
       "277    True\n",
       "279    True\n",
       "Name: classes_raw, Length: 161, dtype: object"
      ]
     },
     "execution_count": 233,
     "metadata": {},
     "output_type": "execute_result"
    }
   ],
   "source": [
    "report_df_clean['classes_raw'].str.contains('Class II & III')"
   ]
  },
  {
   "cell_type": "code",
   "execution_count": 235,
   "id": "1755481c",
   "metadata": {},
   "outputs": [
    {
     "data": {
      "text/plain": [
       "array(['Class Type: Class II & III   See 25 CFR 502.3 & 4',\n",
       "       'Game Class Type:  Class II & III  See 25 CFR 502.3 & 4',\n",
       "       'Game Class Type:  Class II  See 25 CFR 502.3 & 4',\n",
       "       'Game Class Type:  Class III  See 25 CFR 502.3 & 4',\n",
       "       'Class Type: Class II   See 25 CFR 502.3 & 4',\n",
       "       'P.O. Box 337 37302 Rancheria Lane, Auberry CA 93602 Game Class Type:  Class III  See 25 CFR 502.3 & 4',\n",
       "       'Class Type: Class III   See 25 CFR 502.3 & 4', nan,\n",
       "       'tribalcouncil@cahuilla-nsn.gov',\n",
       "       'Class Type:   See 25 CFR 502.3 & 4'], dtype=object)"
      ]
     },
     "execution_count": 235,
     "metadata": {},
     "output_type": "execute_result"
    }
   ],
   "source": [
    "report_df_clean['classes_raw'].unique()"
   ]
  },
  {
   "cell_type": "code",
   "execution_count": null,
   "id": "0070207d",
   "metadata": {},
   "outputs": [],
   "source": [
    "# report_df_clean.to_csv('../data/raw_gaming_report.csv')\n",
    "# Save, then manually fix the extra row spaces for:\n",
    "    # Big Sandy Band of Western Mono Indians\n",
    "    # Bois Forte\n",
    "    # Cahuilla Band\n",
    "    # Campo Band of Diegueno Mission of the Campo Indian Reservation\n",
    "    # Chicken Ranch Rancheria of Me-wuk Indians of California\n",
    "    # More?\n"
   ]
  },
  {
   "cell_type": "code",
   "execution_count": 243,
   "id": "ce67e41d",
   "metadata": {},
   "outputs": [],
   "source": [
    "report_df_clean = pd.read_csv('../data/raw_gaming_report.csv').iloc[:,1:]"
   ]
  },
  {
   "cell_type": "code",
   "execution_count": 244,
   "id": "267f003d",
   "metadata": {},
   "outputs": [
    {
     "data": {
      "text/html": [
       "<div>\n",
       "<style scoped>\n",
       "    .dataframe tbody tr th:only-of-type {\n",
       "        vertical-align: middle;\n",
       "    }\n",
       "\n",
       "    .dataframe tbody tr th {\n",
       "        vertical-align: top;\n",
       "    }\n",
       "\n",
       "    .dataframe thead th {\n",
       "        text-align: right;\n",
       "    }\n",
       "</style>\n",
       "<table border=\"1\" class=\"dataframe\">\n",
       "  <thead>\n",
       "    <tr style=\"text-align: right;\">\n",
       "      <th></th>\n",
       "      <th>0</th>\n",
       "      <th>is_facility</th>\n",
       "      <th>address</th>\n",
       "      <th>classes_raw</th>\n",
       "      <th>facility_name</th>\n",
       "      <th>state</th>\n",
       "      <th>classes</th>\n",
       "    </tr>\n",
       "  </thead>\n",
       "  <tbody>\n",
       "    <tr>\n",
       "      <th>0</th>\n",
       "      <td>Absentee Shawnee Tribe of Indians of OK</td>\n",
       "      <td>False</td>\n",
       "      <td>2025 S. Gordon Cooper Dr., Shawnee OK 74801</td>\n",
       "      <td>Class Type: Class II &amp; III   See 25 CFR 502.3 &amp; 4</td>\n",
       "      <td>NaN</td>\n",
       "      <td>OK</td>\n",
       "      <td>NaN</td>\n",
       "    </tr>\n",
       "    <tr>\n",
       "      <th>1</th>\n",
       "      <td>Absentee Shawnee Tribe of Indians of OK</td>\n",
       "      <td>True</td>\n",
       "      <td>2025 S. Gordon Cooper Dr., Shawnee OK 74801</td>\n",
       "      <td>Game Class Type:  Class II &amp; III  See 25 CFR 5...</td>\n",
       "      <td>Thunderbird Casino - Shawnee</td>\n",
       "      <td>OK</td>\n",
       "      <td>NaN</td>\n",
       "    </tr>\n",
       "    <tr>\n",
       "      <th>2</th>\n",
       "      <td>Absentee Shawnee Tribe of Indians of OK</td>\n",
       "      <td>True</td>\n",
       "      <td>2025 S. Gordon Cooper Dr., Shawnee OK 74801</td>\n",
       "      <td>Game Class Type:  Class II &amp; III  See 25 CFR 5...</td>\n",
       "      <td>Thunderbird Entertainment Center</td>\n",
       "      <td>OK</td>\n",
       "      <td>NaN</td>\n",
       "    </tr>\n",
       "    <tr>\n",
       "      <th>3</th>\n",
       "      <td>Agua Caliente Band of Cahuilla Indians</td>\n",
       "      <td>False</td>\n",
       "      <td>5401 Dinah Shore Dr., Palm Springs CA 92264</td>\n",
       "      <td>Class Type: Class II &amp; III   See 25 CFR 502.3 &amp; 4</td>\n",
       "      <td>NaN</td>\n",
       "      <td>CA</td>\n",
       "      <td>NaN</td>\n",
       "    </tr>\n",
       "    <tr>\n",
       "      <th>4</th>\n",
       "      <td>Agua Caliente Band of Cahuilla Indians</td>\n",
       "      <td>True</td>\n",
       "      <td>5401 Dinah Shore Dr., Palm Springs CA 92264</td>\n",
       "      <td>Game Class Type:  Class II &amp; III  See 25 CFR 5...</td>\n",
       "      <td>Agua Caliente Casino Rancho Mirage</td>\n",
       "      <td>CA</td>\n",
       "      <td>NaN</td>\n",
       "    </tr>\n",
       "    <tr>\n",
       "      <th>...</th>\n",
       "      <td>...</td>\n",
       "      <td>...</td>\n",
       "      <td>...</td>\n",
       "      <td>...</td>\n",
       "      <td>...</td>\n",
       "      <td>...</td>\n",
       "      <td>...</td>\n",
       "    </tr>\n",
       "    <tr>\n",
       "      <th>149</th>\n",
       "      <td>Choctaw Nation of Oklahoma</td>\n",
       "      <td>True</td>\n",
       "      <td>P.O. Drawer 1210, Durant OK 74702</td>\n",
       "      <td>Game Class Type:  Class II &amp; III  See 25 CFR 5...</td>\n",
       "      <td>Choctaw Casino - Grant Travel Plaza</td>\n",
       "      <td>OK</td>\n",
       "      <td>NaN</td>\n",
       "    </tr>\n",
       "    <tr>\n",
       "      <th>150</th>\n",
       "      <td>Choctaw Nation of Oklahoma</td>\n",
       "      <td>True</td>\n",
       "      <td>P.O. Drawer 1210, Durant OK 74702</td>\n",
       "      <td>Game Class Type:  Class II &amp; III  See 25 CFR 5...</td>\n",
       "      <td>Choctaw Casino - Stigler</td>\n",
       "      <td>OK</td>\n",
       "      <td>NaN</td>\n",
       "    </tr>\n",
       "    <tr>\n",
       "      <th>151</th>\n",
       "      <td>Choctaw Nation of Oklahoma</td>\n",
       "      <td>True</td>\n",
       "      <td>P.O. Drawer 1210, Durant OK 74702</td>\n",
       "      <td>Game Class Type:  Class II &amp; III  See 25 CFR 5...</td>\n",
       "      <td>Choctaw Casino - McAlester</td>\n",
       "      <td>OK</td>\n",
       "      <td>NaN</td>\n",
       "    </tr>\n",
       "    <tr>\n",
       "      <th>152</th>\n",
       "      <td>Choctaw Nation of Oklahoma</td>\n",
       "      <td>True</td>\n",
       "      <td>P.O. Drawer 1210, Durant OK 74702</td>\n",
       "      <td>Game Class Type:  Class II &amp; III  See 25 CFR 5...</td>\n",
       "      <td>Choctaw Casino - Atoka Travel Plaza</td>\n",
       "      <td>OK</td>\n",
       "      <td>NaN</td>\n",
       "    </tr>\n",
       "    <tr>\n",
       "      <th>153</th>\n",
       "      <td>Choctaw Nation of Oklahoma</td>\n",
       "      <td>True</td>\n",
       "      <td>P.O. Drawer 1210, Durant OK 74702</td>\n",
       "      <td>Game Class Type:  Class II &amp; III  See 25 CFR 5...</td>\n",
       "      <td>Choctaw Casino - Poteau Travel Plaza</td>\n",
       "      <td>OK</td>\n",
       "      <td>NaN</td>\n",
       "    </tr>\n",
       "  </tbody>\n",
       "</table>\n",
       "<p>154 rows × 7 columns</p>\n",
       "</div>"
      ],
      "text/plain": [
       "                                           0  is_facility  \\\n",
       "0    Absentee Shawnee Tribe of Indians of OK        False   \n",
       "1    Absentee Shawnee Tribe of Indians of OK         True   \n",
       "2    Absentee Shawnee Tribe of Indians of OK         True   \n",
       "3     Agua Caliente Band of Cahuilla Indians        False   \n",
       "4     Agua Caliente Band of Cahuilla Indians         True   \n",
       "..                                       ...          ...   \n",
       "149               Choctaw Nation of Oklahoma         True   \n",
       "150               Choctaw Nation of Oklahoma         True   \n",
       "151               Choctaw Nation of Oklahoma         True   \n",
       "152               Choctaw Nation of Oklahoma         True   \n",
       "153               Choctaw Nation of Oklahoma         True   \n",
       "\n",
       "                                         address  \\\n",
       "0    2025 S. Gordon Cooper Dr., Shawnee OK 74801   \n",
       "1    2025 S. Gordon Cooper Dr., Shawnee OK 74801   \n",
       "2    2025 S. Gordon Cooper Dr., Shawnee OK 74801   \n",
       "3    5401 Dinah Shore Dr., Palm Springs CA 92264   \n",
       "4    5401 Dinah Shore Dr., Palm Springs CA 92264   \n",
       "..                                           ...   \n",
       "149            P.O. Drawer 1210, Durant OK 74702   \n",
       "150            P.O. Drawer 1210, Durant OK 74702   \n",
       "151            P.O. Drawer 1210, Durant OK 74702   \n",
       "152            P.O. Drawer 1210, Durant OK 74702   \n",
       "153            P.O. Drawer 1210, Durant OK 74702   \n",
       "\n",
       "                                           classes_raw  \\\n",
       "0    Class Type: Class II & III   See 25 CFR 502.3 & 4   \n",
       "1    Game Class Type:  Class II & III  See 25 CFR 5...   \n",
       "2    Game Class Type:  Class II & III  See 25 CFR 5...   \n",
       "3    Class Type: Class II & III   See 25 CFR 502.3 & 4   \n",
       "4    Game Class Type:  Class II & III  See 25 CFR 5...   \n",
       "..                                                 ...   \n",
       "149  Game Class Type:  Class II & III  See 25 CFR 5...   \n",
       "150  Game Class Type:  Class II & III  See 25 CFR 5...   \n",
       "151  Game Class Type:  Class II & III  See 25 CFR 5...   \n",
       "152  Game Class Type:  Class II & III  See 25 CFR 5...   \n",
       "153  Game Class Type:  Class II & III  See 25 CFR 5...   \n",
       "\n",
       "                            facility_name state  classes  \n",
       "0                                     NaN    OK      NaN  \n",
       "1            Thunderbird Casino - Shawnee    OK      NaN  \n",
       "2        Thunderbird Entertainment Center    OK      NaN  \n",
       "3                                     NaN    CA      NaN  \n",
       "4      Agua Caliente Casino Rancho Mirage    CA      NaN  \n",
       "..                                    ...   ...      ...  \n",
       "149   Choctaw Casino - Grant Travel Plaza    OK      NaN  \n",
       "150              Choctaw Casino - Stigler    OK      NaN  \n",
       "151            Choctaw Casino - McAlester    OK      NaN  \n",
       "152   Choctaw Casino - Atoka Travel Plaza    OK      NaN  \n",
       "153  Choctaw Casino - Poteau Travel Plaza    OK      NaN  \n",
       "\n",
       "[154 rows x 7 columns]"
      ]
     },
     "execution_count": 244,
     "metadata": {},
     "output_type": "execute_result"
    }
   ],
   "source": [
    "report_df_clean"
   ]
  },
  {
   "cell_type": "code",
   "execution_count": null,
   "id": "b44378cf",
   "metadata": {},
   "outputs": [],
   "source": [
    "# Since so many state values were on subsequent empty lines, must update after manually cleaning those problem rows\n",
    "report_df_clean['state'] = report_df_clean['address'].str.extract(r'([A-Z]{2})')"
   ]
  },
  {
   "cell_type": "code",
   "execution_count": null,
   "id": "8e7a8ba0",
   "metadata": {},
   "outputs": [],
   "source": [
    "report_df_clean.loc[:, 'classes'] = 'Other'\n",
    "report_df_clean.loc[report_df_clean['classes_raw'].str.contains('Class II'), 'classes'] = 'Class II'\n",
    "report_df_clean.loc[report_df_clean['classes_raw'].str.contains('Class III'), 'classes'] = 'Class III'\n",
    "report_df_clean.loc[report_df_clean['classes_raw'].str.contains('Class II & III'), 'classes'] = 'Class II & III'\n",
    "\n"
   ]
  },
  {
   "cell_type": "markdown",
   "id": "af241077",
   "metadata": {},
   "source": [
    "The Catawba Indian Nation operates [***one*** Class III facility](https://www.americangaming.org/wp-content/uploads/2025/02/North-Carolina_AGA-Gaming-Regulatory-Fact-Sheet-2025.pdf) in North Carolina. There is a typo in the pdf saying that the facility is in South Carolina, but that is just where the nation is based."
   ]
  },
  {
   "cell_type": "code",
   "execution_count": 275,
   "id": "96004362",
   "metadata": {},
   "outputs": [],
   "source": [
    "report_df_clean.loc[(report_df_clean.iloc[:,0]=='Catawba Indian Nation') & (~report_df_clean['is_facility']),\n",
    "                     'classes'] = 'Class III'"
   ]
  },
  {
   "cell_type": "code",
   "execution_count": 279,
   "id": "971377f3",
   "metadata": {},
   "outputs": [],
   "source": [
    "report_df_clean.loc[(report_df_clean.iloc[:,0]=='Catawba Indian Nation') & (report_df_clean['is_facility']),\n",
    "                     'address'] = '538 Kings Mountain Blvd, Kings Mountain, NC 28086'\n"
   ]
  },
  {
   "cell_type": "code",
   "execution_count": 280,
   "id": "5964d785",
   "metadata": {},
   "outputs": [],
   "source": [
    "report_df_clean.loc[(report_df_clean.iloc[:,0]=='Catawba Indian Nation') & (report_df_clean['is_facility']),\n",
    "                     'state'] = 'NC'\n"
   ]
  },
  {
   "cell_type": "code",
   "execution_count": 278,
   "id": "0cef5f21",
   "metadata": {},
   "outputs": [
    {
     "data": {
      "text/plain": [
       "classes\n",
       "Class II & III    113\n",
       "Class III          24\n",
       "Class II           17\n",
       "Name: count, dtype: int64"
      ]
     },
     "execution_count": 278,
     "metadata": {},
     "output_type": "execute_result"
    }
   ],
   "source": [
    "report_df_clean['classes'].value_counts()"
   ]
  },
  {
   "cell_type": "code",
   "execution_count": 283,
   "id": "e44eab56",
   "metadata": {},
   "outputs": [],
   "source": [
    "report_df_clean.drop(columns=['classes_raw'], inplace=True)"
   ]
  },
  {
   "cell_type": "code",
   "execution_count": 287,
   "id": "e0a110cf",
   "metadata": {},
   "outputs": [],
   "source": [
    "report_df_clean.rename(columns={'0':'owner_name'}, inplace=True)"
   ]
  },
  {
   "cell_type": "code",
   "execution_count": null,
   "id": "f1918573",
   "metadata": {},
   "outputs": [],
   "source": [
    "# report_df_clean.loc[\n",
    "#     :, ['facility_name', 'owner_name', 'is_facility', 'address', 'state', 'classes']\n",
    "#     ].to_csv('../data/clean_gaming_report.csv')"
   ]
  },
  {
   "cell_type": "markdown",
   "id": "00f3c800",
   "metadata": {},
   "source": [
    "### Load from here"
   ]
  },
  {
   "cell_type": "code",
   "execution_count": 11,
   "id": "916021de",
   "metadata": {},
   "outputs": [],
   "source": [
    "report_df_clean = pd.read_csv('../data/clean_gaming_report.csv')"
   ]
  },
  {
   "cell_type": "code",
   "execution_count": 12,
   "id": "53712db4",
   "metadata": {},
   "outputs": [],
   "source": [
    "owner_names = report_df_clean['owner_name'].unique().tolist()"
   ]
  },
  {
   "cell_type": "markdown",
   "id": "4addc754",
   "metadata": {},
   "source": [
    "I really only care about a handful of items from the NIGC gaming report PDF:\n",
    "* Address of the gaming facility\n",
    "    * Extract the state as well\n",
    "* Name of tribe or nation that owns the facility\n",
    "* Name of the facility\n",
    "* Class type (Could be a string with some junk in it, will extract Class number later)\n",
    "* For now, don't really need all the contact info"
   ]
  },
  {
   "cell_type": "markdown",
   "id": "d492574d",
   "metadata": {},
   "source": [
    "## Native Economic Trends"
   ]
  },
  {
   "cell_type": "code",
   "execution_count": 14,
   "id": "81e1baad",
   "metadata": {},
   "outputs": [],
   "source": [
    "import pandas as pd\n",
    "import difflib"
   ]
  },
  {
   "cell_type": "code",
   "execution_count": 5,
   "id": "b0353689",
   "metadata": {},
   "outputs": [],
   "source": [
    "econ = pd.read_excel('../data/native-economic-trends-data_current.xlsx', sheet_name=1)"
   ]
  },
  {
   "cell_type": "code",
   "execution_count": 13,
   "id": "eeea2f33",
   "metadata": {},
   "outputs": [],
   "source": [
    "geonames = econ['geoname_mostrecent'].unique().tolist()"
   ]
  },
  {
   "cell_type": "markdown",
   "id": "9bad3756",
   "metadata": {},
   "source": [
    "I was considering just using ChatGPT or something to automatically create a crosswalk between the `owner_name` column from the NIGC table and `geoname_mostrecent` here. I should be responsible about validating this crosswalk.\n",
    "\n",
    "`difflib` should do the trick, too."
   ]
  },
  {
   "cell_type": "code",
   "execution_count": 25,
   "id": "50c70a0d",
   "metadata": {},
   "outputs": [],
   "source": [
    "best_geonames = []\n",
    "for owner_name in owner_names:\n",
    "    best = difflib.get_close_matches(owner_name, geonames, n=1, cutoff=0.42)\n",
    "    best_geonames.append(best[0] if best else None)"
   ]
  },
  {
   "cell_type": "code",
   "execution_count": 27,
   "id": "1c9b1555",
   "metadata": {},
   "outputs": [
    {
     "data": {
      "text/plain": [
       "False"
      ]
     },
     "execution_count": 27,
     "metadata": {},
     "output_type": "execute_result"
    }
   ],
   "source": [
    "any([item is None for item in best_geonames]) # Every owner name had a match!"
   ]
  },
  {
   "cell_type": "code",
   "execution_count": 29,
   "id": "027d6afd",
   "metadata": {},
   "outputs": [],
   "source": [
    "owner_land_crosswalk = pd.DataFrame({'owner_name': owner_names, 'geoname_mostrecent':best_geonames})"
   ]
  },
  {
   "cell_type": "code",
   "execution_count": 31,
   "id": "7aad40ac",
   "metadata": {},
   "outputs": [
    {
     "data": {
      "text/plain": [
       "(34, 2)"
      ]
     },
     "execution_count": 31,
     "metadata": {},
     "output_type": "execute_result"
    }
   ],
   "source": [
    "owner_land_crosswalk.shape"
   ]
  }
 ],
 "metadata": {
  "kernelspec": {
   "display_name": "static-visualization-project",
   "language": "python",
   "name": "python3"
  },
  "language_info": {
   "codemirror_mode": {
    "name": "ipython",
    "version": 3
   },
   "file_extension": ".py",
   "mimetype": "text/x-python",
   "name": "python",
   "nbconvert_exporter": "python",
   "pygments_lexer": "ipython3",
   "version": "3.13.7"
  }
 },
 "nbformat": 4,
 "nbformat_minor": 5
}
