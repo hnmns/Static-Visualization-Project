{
 "cells": [
  {
   "cell_type": "code",
   "execution_count": 48,
   "id": "17e64b9a",
   "metadata": {},
   "outputs": [],
   "source": [
    "import pandas as pd\n",
    "import numpy as np\n",
    "import camelot"
   ]
  },
  {
   "cell_type": "markdown",
   "id": "c8053bc9",
   "metadata": {},
   "source": [
    "## NIGC Gaming Tribe Report 2025"
   ]
  },
  {
   "cell_type": "code",
   "execution_count": 61,
   "id": "4196b8e2",
   "metadata": {},
   "outputs": [],
   "source": [
    "tables_a = camelot.read_pdf('../data/TribesAlphabeticalList_NIGC_GamingTribeReport_2025.pdf',\n",
    "                          flavor='stream',\n",
    "                          row_tol=5,\n",
    "                          pages='all')\n",
    "report_a = tables_a[0].df\n",
    "# report_a\n"
   ]
  },
  {
   "cell_type": "code",
   "execution_count": 62,
   "id": "5154aae9",
   "metadata": {},
   "outputs": [],
   "source": [
    "tables_a_df_list = [table.df.iloc[3:, :] for table in tables_a]"
   ]
  },
  {
   "cell_type": "code",
   "execution_count": 64,
   "id": "be917f6d",
   "metadata": {},
   "outputs": [
    {
     "data": {
      "text/html": [
       "<div>\n",
       "<style scoped>\n",
       "    .dataframe tbody tr th:only-of-type {\n",
       "        vertical-align: middle;\n",
       "    }\n",
       "\n",
       "    .dataframe tbody tr th {\n",
       "        vertical-align: top;\n",
       "    }\n",
       "\n",
       "    .dataframe thead th {\n",
       "        text-align: right;\n",
       "    }\n",
       "</style>\n",
       "<table border=\"1\" class=\"dataframe\">\n",
       "  <thead>\n",
       "    <tr style=\"text-align: right;\">\n",
       "      <th></th>\n",
       "      <th>0</th>\n",
       "      <th>1</th>\n",
       "      <th>2</th>\n",
       "      <th>3</th>\n",
       "    </tr>\n",
       "  </thead>\n",
       "  <tbody>\n",
       "    <tr>\n",
       "      <th>3</th>\n",
       "      <td>Absentee Shawnee Tribe of Indians of OK</td>\n",
       "      <td>2025 S. Gordon Cooper Dr., Shawnee OK 74801</td>\n",
       "      <td>Class Type: Class II &amp; III   See 25 CFR 502.3 &amp; 4</td>\n",
       "      <td>Email Address: Governor@astribe.com</td>\n",
       "    </tr>\n",
       "    <tr>\n",
       "      <th>4</th>\n",
       "      <td></td>\n",
       "      <td>Thunderbird Casino - Shawnee</td>\n",
       "      <td>2025 S. Gordon Cooper Dr., Shawnee OK 74801</td>\n",
       "      <td>Game Class Type:  Class II &amp; III  See 25 CFR 5...</td>\n",
       "    </tr>\n",
       "    <tr>\n",
       "      <th>5</th>\n",
       "      <td></td>\n",
       "      <td>Work Phone: 405-360-9270</td>\n",
       "      <td>Work Fax: 405-573-3211</td>\n",
       "      <td>Email Address: LisaF@TBECInc.com</td>\n",
       "    </tr>\n",
       "    <tr>\n",
       "      <th>6</th>\n",
       "      <td></td>\n",
       "      <td>Thunderbird Entertainment Center</td>\n",
       "      <td>2025 S. Gordon Cooper Dr., Shawnee OK 74801</td>\n",
       "      <td>Game Class Type:  Class II &amp; III  See 25 CFR 5...</td>\n",
       "    </tr>\n",
       "    <tr>\n",
       "      <th>7</th>\n",
       "      <td></td>\n",
       "      <td>Work Phone: 405-360-9270</td>\n",
       "      <td>Work Fax: 405-360-9288</td>\n",
       "      <td>Email Address: LisaF@TBECInc.com</td>\n",
       "    </tr>\n",
       "    <tr>\n",
       "      <th>...</th>\n",
       "      <td>...</td>\n",
       "      <td>...</td>\n",
       "      <td>...</td>\n",
       "      <td>...</td>\n",
       "    </tr>\n",
       "    <tr>\n",
       "      <th>48</th>\n",
       "      <td></td>\n",
       "      <td>Work Phone: 707-482-1777</td>\n",
       "      <td>Work Fax: 707-482-1772</td>\n",
       "      <td>Email Address: rbacon@yuroktribe.nsn.us</td>\n",
       "    </tr>\n",
       "    <tr>\n",
       "      <th>49</th>\n",
       "      <td></td>\n",
       "      <td>Redwood Hotel Casino</td>\n",
       "      <td>P.O. Box 1027 190 Klamath Blvd., Klamath CA 95548</td>\n",
       "      <td>Game Class Type:  Class III  See 25 CFR 502.3 &amp; 4</td>\n",
       "    </tr>\n",
       "    <tr>\n",
       "      <th>50</th>\n",
       "      <td></td>\n",
       "      <td>Work Phone: 707-482-1777</td>\n",
       "      <td>Work Fax: 707-482-1772</td>\n",
       "      <td>Email Address: rbacon@yuroktribe.nsn.us</td>\n",
       "    </tr>\n",
       "    <tr>\n",
       "      <th>51</th>\n",
       "      <td></td>\n",
       "      <td>Redwood Hotel Casino</td>\n",
       "      <td>P.O. Box 1027 190 Klamath Blvd., Klamath CA 95548</td>\n",
       "      <td>Game Class Type:  Class III  See 25 CFR 502.3 &amp; 4</td>\n",
       "    </tr>\n",
       "    <tr>\n",
       "      <th>52</th>\n",
       "      <td></td>\n",
       "      <td>Work Phone: 707-482-1777</td>\n",
       "      <td>Work Fax: 707-482-1772</td>\n",
       "      <td>Email Address: rbacon@yuroktribe.nsn.us</td>\n",
       "    </tr>\n",
       "  </tbody>\n",
       "</table>\n",
       "<p>1551 rows × 4 columns</p>\n",
       "</div>"
      ],
      "text/plain": [
       "                                          0  \\\n",
       "3   Absentee Shawnee Tribe of Indians of OK   \n",
       "4                                             \n",
       "5                                             \n",
       "6                                             \n",
       "7                                             \n",
       "..                                      ...   \n",
       "48                                            \n",
       "49                                            \n",
       "50                                            \n",
       "51                                            \n",
       "52                                            \n",
       "\n",
       "                                              1  \\\n",
       "3   2025 S. Gordon Cooper Dr., Shawnee OK 74801   \n",
       "4                  Thunderbird Casino - Shawnee   \n",
       "5                      Work Phone: 405-360-9270   \n",
       "6              Thunderbird Entertainment Center   \n",
       "7                      Work Phone: 405-360-9270   \n",
       "..                                          ...   \n",
       "48                     Work Phone: 707-482-1777   \n",
       "49                         Redwood Hotel Casino   \n",
       "50                     Work Phone: 707-482-1777   \n",
       "51                         Redwood Hotel Casino   \n",
       "52                     Work Phone: 707-482-1777   \n",
       "\n",
       "                                                    2  \\\n",
       "3   Class Type: Class II & III   See 25 CFR 502.3 & 4   \n",
       "4         2025 S. Gordon Cooper Dr., Shawnee OK 74801   \n",
       "5                              Work Fax: 405-573-3211   \n",
       "6         2025 S. Gordon Cooper Dr., Shawnee OK 74801   \n",
       "7                              Work Fax: 405-360-9288   \n",
       "..                                                ...   \n",
       "48                             Work Fax: 707-482-1772   \n",
       "49  P.O. Box 1027 190 Klamath Blvd., Klamath CA 95548   \n",
       "50                             Work Fax: 707-482-1772   \n",
       "51  P.O. Box 1027 190 Klamath Blvd., Klamath CA 95548   \n",
       "52                             Work Fax: 707-482-1772   \n",
       "\n",
       "                                                    3  \n",
       "3                 Email Address: Governor@astribe.com  \n",
       "4   Game Class Type:  Class II & III  See 25 CFR 5...  \n",
       "5                    Email Address: LisaF@TBECInc.com  \n",
       "6   Game Class Type:  Class II & III  See 25 CFR 5...  \n",
       "7                    Email Address: LisaF@TBECInc.com  \n",
       "..                                                ...  \n",
       "48            Email Address: rbacon@yuroktribe.nsn.us  \n",
       "49  Game Class Type:  Class III  See 25 CFR 502.3 & 4  \n",
       "50            Email Address: rbacon@yuroktribe.nsn.us  \n",
       "51  Game Class Type:  Class III  See 25 CFR 502.3 & 4  \n",
       "52            Email Address: rbacon@yuroktribe.nsn.us  \n",
       "\n",
       "[1551 rows x 4 columns]"
      ]
     },
     "execution_count": 64,
     "metadata": {},
     "output_type": "execute_result"
    }
   ],
   "source": [
    "report_df = pd.concat(tables_a_df_list, axis=0)\n",
    "report_df"
   ]
  },
  {
   "cell_type": "code",
   "execution_count": 65,
   "id": "c32def65",
   "metadata": {},
   "outputs": [],
   "source": [
    "report_df.reset_index(drop=True, inplace=True)"
   ]
  },
  {
   "cell_type": "code",
   "execution_count": null,
   "id": "90c53fa7",
   "metadata": {},
   "outputs": [
    {
     "data": {
      "text/plain": [
       "array([  14,   32,   48,   51,   76,   88,   98,  103,  109,  131,  235,\n",
       "        245,  327,  346,  359,  362,  372,  375,  383,  386,  389,  416,\n",
       "        425,  446,  459,  470,  474,  491,  500,  504,  572,  600,  624,\n",
       "        627,  650,  656,  666,  674,  686,  691,  718,  719,  720,  721,\n",
       "        722,  723,  724,  725,  726,  727,  728,  729,  730,  731,  732,\n",
       "        733,  734,  735,  736,  737,  738,  739,  740,  741,  742,  743,\n",
       "        744,  745,  746,  747,  748,  749,  750,  751,  752,  753,  754,\n",
       "        755,  756,  757,  758,  800,  806,  863,  893,  905,  930,  954,\n",
       "       1015, 1024, 1037, 1044, 1047, 1059, 1080, 1085, 1096, 1103, 1150,\n",
       "       1166, 1169, 1182, 1266, 1292, 1304, 1338, 1390, 1415, 1492, 1522])"
      ]
     },
     "execution_count": 66,
     "metadata": {},
     "output_type": "execute_result"
    }
   ],
   "source": [
    "is_nonempty0 = (report_df[0]!='').to_numpy()+0\n",
    "# Find all indices where there are two 1's in a row\n",
    "# This indicates a place where a tribe/nation name spilled over to two rows.\n",
    "name_bleeds_over0_idx = np.where((is_nonempty0[:-1] == 1) & (is_nonempty0[1:]==1))[0]\n",
    "# name_bleeds_over0_idx\n",
    "for i in name_bleeds_over0_idx:\n",
    "    report_df.loc[i, 0] += ' ' + report_df.loc[i+1, 0]\n",
    "    report_df.loc[i+1, 0] = '' # No longer need the bleed-over text, it has been absorbed into the full name above\n"
   ]
  },
  {
   "cell_type": "markdown",
   "id": "dcc92c4b",
   "metadata": {},
   "source": [
    "The `row_tol` parameter does not help us here since the multi-line tribe/nation name has the same distance between lines as the tribe/nation address and first facility name do. We may as well just keep all of these lines separate and rejoin the tribe/nation names based on adjacency and presence of a newline character. We then just extract the two-letter state abbreviation from the address with regular expressions. Are there any cases of a tribe/nation owning a facility in another state's borders?"
   ]
  },
  {
   "cell_type": "markdown",
   "id": "4f9e6547",
   "metadata": {},
   "source": [
    "Steps\n",
    "1. Remove all rows that have empty column 0 AND have a column 1 that contains a row containing \"Work Phone\"\n",
    "2. Stamp the tribe/nation name onto each of their facilities' names.\n",
    "3. Extend to all pages of the pdf, not just the first page."
   ]
  },
  {
   "cell_type": "code",
   "execution_count": 68,
   "id": "73b1c09f",
   "metadata": {},
   "outputs": [],
   "source": [
    "# report_a[1][report_a[1].str.contains('Work Phone')]"
   ]
  },
  {
   "cell_type": "code",
   "execution_count": 69,
   "id": "3482ea9e",
   "metadata": {},
   "outputs": [],
   "source": [
    "report_df = report_df.loc[~report_df[1].str.contains('Work Phone'), :]"
   ]
  },
  {
   "cell_type": "code",
   "execution_count": 70,
   "id": "b9ca3cab",
   "metadata": {},
   "outputs": [],
   "source": [
    "report_df_clean = report_df.replace('', np.nan)"
   ]
  },
  {
   "cell_type": "code",
   "execution_count": 71,
   "id": "ba29383e",
   "metadata": {},
   "outputs": [],
   "source": [
    "is_facility_idx = report_df_clean[0].isna()"
   ]
  },
  {
   "cell_type": "code",
   "execution_count": 72,
   "id": "1791ae0a",
   "metadata": {},
   "outputs": [],
   "source": [
    "report_df_clean['is_facility'] = is_facility_idx"
   ]
  },
  {
   "cell_type": "code",
   "execution_count": 73,
   "id": "b079a208",
   "metadata": {},
   "outputs": [],
   "source": [
    "report_df_clean[0] = report_df_clean[0].ffill()"
   ]
  },
  {
   "cell_type": "code",
   "execution_count": 99,
   "id": "8126da9b",
   "metadata": {},
   "outputs": [],
   "source": [
    "report_df_clean.reset_index(inplace=True, drop=True)"
   ]
  },
  {
   "cell_type": "code",
   "execution_count": 102,
   "id": "12a35f2b",
   "metadata": {},
   "outputs": [
    {
     "data": {
      "text/html": [
       "<div>\n",
       "<style scoped>\n",
       "    .dataframe tbody tr th:only-of-type {\n",
       "        vertical-align: middle;\n",
       "    }\n",
       "\n",
       "    .dataframe tbody tr th {\n",
       "        vertical-align: top;\n",
       "    }\n",
       "\n",
       "    .dataframe thead th {\n",
       "        text-align: right;\n",
       "    }\n",
       "</style>\n",
       "<table border=\"1\" class=\"dataframe\">\n",
       "  <thead>\n",
       "    <tr style=\"text-align: right;\">\n",
       "      <th></th>\n",
       "      <th>0</th>\n",
       "      <th>1</th>\n",
       "      <th>2</th>\n",
       "      <th>3</th>\n",
       "      <th>is_facility</th>\n",
       "    </tr>\n",
       "  </thead>\n",
       "  <tbody>\n",
       "    <tr>\n",
       "      <th>0</th>\n",
       "      <td>Absentee Shawnee Tribe of Indians of OK</td>\n",
       "      <td>2025 S. Gordon Cooper Dr., Shawnee OK 74801</td>\n",
       "      <td>Class Type: Class II &amp; III   See 25 CFR 502.3 &amp; 4</td>\n",
       "      <td>Email Address: Governor@astribe.com</td>\n",
       "      <td>False</td>\n",
       "    </tr>\n",
       "    <tr>\n",
       "      <th>1</th>\n",
       "      <td>Absentee Shawnee Tribe of Indians of OK</td>\n",
       "      <td>Thunderbird Casino - Shawnee</td>\n",
       "      <td>2025 S. Gordon Cooper Dr., Shawnee OK 74801</td>\n",
       "      <td>Game Class Type:  Class II &amp; III  See 25 CFR 5...</td>\n",
       "      <td>True</td>\n",
       "    </tr>\n",
       "    <tr>\n",
       "      <th>2</th>\n",
       "      <td>Absentee Shawnee Tribe of Indians of OK</td>\n",
       "      <td>Thunderbird Entertainment Center</td>\n",
       "      <td>2025 S. Gordon Cooper Dr., Shawnee OK 74801</td>\n",
       "      <td>Game Class Type:  Class II &amp; III  See 25 CFR 5...</td>\n",
       "      <td>True</td>\n",
       "    </tr>\n",
       "    <tr>\n",
       "      <th>3</th>\n",
       "      <td>Agua Caliente Band of Cahuilla Indians</td>\n",
       "      <td>5401 Dinah Shore Dr., Palm Springs CA 92264</td>\n",
       "      <td>Class Type: Class II &amp; III   See 25 CFR 502.3 &amp; 4</td>\n",
       "      <td>Email Address: laviles@aguacaliente.net</td>\n",
       "      <td>False</td>\n",
       "    </tr>\n",
       "    <tr>\n",
       "      <th>4</th>\n",
       "      <td>Agua Caliente Band of Cahuilla Indians</td>\n",
       "      <td>Agua Caliente Casino Rancho Mirage</td>\n",
       "      <td>5401 Dinah Shore Dr., Palm Springs CA 92264</td>\n",
       "      <td>Game Class Type:  Class II &amp; III  See 25 CFR 5...</td>\n",
       "      <td>True</td>\n",
       "    </tr>\n",
       "    <tr>\n",
       "      <th>...</th>\n",
       "      <td>...</td>\n",
       "      <td>...</td>\n",
       "      <td>...</td>\n",
       "      <td>...</td>\n",
       "      <td>...</td>\n",
       "    </tr>\n",
       "    <tr>\n",
       "      <th>967</th>\n",
       "      <td>Yurok Tribe of the Yurok Reservation</td>\n",
       "      <td>P.O. Box 1027 190 Klamath Blvd., Klamath CA 95548</td>\n",
       "      <td>Class Type: Class II &amp; III   See 25 CFR 502.3 &amp; 4</td>\n",
       "      <td>Email Address: jjames@yuroktribe.nsn.us</td>\n",
       "      <td>False</td>\n",
       "    </tr>\n",
       "    <tr>\n",
       "      <th>968</th>\n",
       "      <td>Yurok Tribe of the Yurok Reservation</td>\n",
       "      <td>Redwood Hotel Casino</td>\n",
       "      <td>P.O. Box 1027 190 Klamath Blvd., Klamath CA 95548</td>\n",
       "      <td>Game Class Type:  Class III  See 25 CFR 502.3 &amp; 4</td>\n",
       "      <td>True</td>\n",
       "    </tr>\n",
       "    <tr>\n",
       "      <th>969</th>\n",
       "      <td>Yurok Tribe of the Yurok Reservation</td>\n",
       "      <td>Redwood Hotel Casino</td>\n",
       "      <td>P.O. Box 1027 190 Klamath Blvd., Klamath CA 95548</td>\n",
       "      <td>Game Class Type:  Class III  See 25 CFR 502.3 &amp; 4</td>\n",
       "      <td>True</td>\n",
       "    </tr>\n",
       "    <tr>\n",
       "      <th>970</th>\n",
       "      <td>Yurok Tribe of the Yurok Reservation</td>\n",
       "      <td>Redwood Hotel Casino</td>\n",
       "      <td>P.O. Box 1027 190 Klamath Blvd., Klamath CA 95548</td>\n",
       "      <td>Game Class Type:  Class III  See 25 CFR 502.3 &amp; 4</td>\n",
       "      <td>True</td>\n",
       "    </tr>\n",
       "    <tr>\n",
       "      <th>971</th>\n",
       "      <td>Yurok Tribe of the Yurok Reservation</td>\n",
       "      <td>Redwood Hotel Casino</td>\n",
       "      <td>P.O. Box 1027 190 Klamath Blvd., Klamath CA 95548</td>\n",
       "      <td>Game Class Type:  Class III  See 25 CFR 502.3 &amp; 4</td>\n",
       "      <td>True</td>\n",
       "    </tr>\n",
       "  </tbody>\n",
       "</table>\n",
       "<p>972 rows × 5 columns</p>\n",
       "</div>"
      ],
      "text/plain": [
       "                                           0  \\\n",
       "0    Absentee Shawnee Tribe of Indians of OK   \n",
       "1    Absentee Shawnee Tribe of Indians of OK   \n",
       "2    Absentee Shawnee Tribe of Indians of OK   \n",
       "3     Agua Caliente Band of Cahuilla Indians   \n",
       "4     Agua Caliente Band of Cahuilla Indians   \n",
       "..                                       ...   \n",
       "967     Yurok Tribe of the Yurok Reservation   \n",
       "968     Yurok Tribe of the Yurok Reservation   \n",
       "969     Yurok Tribe of the Yurok Reservation   \n",
       "970     Yurok Tribe of the Yurok Reservation   \n",
       "971     Yurok Tribe of the Yurok Reservation   \n",
       "\n",
       "                                                     1  \\\n",
       "0          2025 S. Gordon Cooper Dr., Shawnee OK 74801   \n",
       "1                         Thunderbird Casino - Shawnee   \n",
       "2                     Thunderbird Entertainment Center   \n",
       "3          5401 Dinah Shore Dr., Palm Springs CA 92264   \n",
       "4                   Agua Caliente Casino Rancho Mirage   \n",
       "..                                                 ...   \n",
       "967  P.O. Box 1027 190 Klamath Blvd., Klamath CA 95548   \n",
       "968                               Redwood Hotel Casino   \n",
       "969                               Redwood Hotel Casino   \n",
       "970                               Redwood Hotel Casino   \n",
       "971                               Redwood Hotel Casino   \n",
       "\n",
       "                                                     2  \\\n",
       "0    Class Type: Class II & III   See 25 CFR 502.3 & 4   \n",
       "1          2025 S. Gordon Cooper Dr., Shawnee OK 74801   \n",
       "2          2025 S. Gordon Cooper Dr., Shawnee OK 74801   \n",
       "3    Class Type: Class II & III   See 25 CFR 502.3 & 4   \n",
       "4          5401 Dinah Shore Dr., Palm Springs CA 92264   \n",
       "..                                                 ...   \n",
       "967  Class Type: Class II & III   See 25 CFR 502.3 & 4   \n",
       "968  P.O. Box 1027 190 Klamath Blvd., Klamath CA 95548   \n",
       "969  P.O. Box 1027 190 Klamath Blvd., Klamath CA 95548   \n",
       "970  P.O. Box 1027 190 Klamath Blvd., Klamath CA 95548   \n",
       "971  P.O. Box 1027 190 Klamath Blvd., Klamath CA 95548   \n",
       "\n",
       "                                                     3  is_facility  \n",
       "0                  Email Address: Governor@astribe.com        False  \n",
       "1    Game Class Type:  Class II & III  See 25 CFR 5...         True  \n",
       "2    Game Class Type:  Class II & III  See 25 CFR 5...         True  \n",
       "3              Email Address: laviles@aguacaliente.net        False  \n",
       "4    Game Class Type:  Class II & III  See 25 CFR 5...         True  \n",
       "..                                                 ...          ...  \n",
       "967            Email Address: jjames@yuroktribe.nsn.us        False  \n",
       "968  Game Class Type:  Class III  See 25 CFR 502.3 & 4         True  \n",
       "969  Game Class Type:  Class III  See 25 CFR 502.3 & 4         True  \n",
       "970  Game Class Type:  Class III  See 25 CFR 502.3 & 4         True  \n",
       "971  Game Class Type:  Class III  See 25 CFR 502.3 & 4         True  \n",
       "\n",
       "[972 rows x 5 columns]"
      ]
     },
     "execution_count": 102,
     "metadata": {},
     "output_type": "execute_result"
    }
   ],
   "source": [
    "report_df_clean"
   ]
  },
  {
   "cell_type": "code",
   "execution_count": 108,
   "id": "f9a6cd8c",
   "metadata": {},
   "outputs": [],
   "source": [
    "report_copy = report_df_clean.copy()"
   ]
  },
  {
   "cell_type": "code",
   "execution_count": null,
   "id": "5b8a765b",
   "metadata": {},
   "outputs": [],
   "source": [
    "# report_copy.to_csv('../data/temp_gaming_report.csv', index=False)"
   ]
  },
  {
   "cell_type": "markdown",
   "id": "c28fb0ba",
   "metadata": {},
   "source": [
    "Manually edit addresses that get combined with Class Type strings, could be in either column 1 or 2."
   ]
  },
  {
   "cell_type": "code",
   "execution_count": 188,
   "id": "9305a995",
   "metadata": {},
   "outputs": [],
   "source": [
    "report_df_clean = pd.read_csv('../data/temp_gaming_report.csv')"
   ]
  },
  {
   "cell_type": "code",
   "execution_count": 189,
   "id": "0b424f9a",
   "metadata": {},
   "outputs": [],
   "source": [
    "# overhang_idx = report_df_clean[1].isna()\n",
    "is_empty1_idx = np.where(report_df_clean['1'].isna())[0]\n",
    "# This indicates a place where an address spills over multiple lines\n",
    "# is_empty1_idx\n",
    "for i in is_empty1_idx:\n",
    "    report_df_clean.iloc[i-1, 2] = str(report_df_clean.iloc[i-1, 2]) + ' ' + str(report_df_clean.iloc[i, 2])\n",
    "    report_df_clean.iloc[i, 2] = np.nan # No longer need the bleed-over text, it has been absorbed into the full name above\n"
   ]
  },
  {
   "cell_type": "code",
   "execution_count": 190,
   "id": "1e81dbf3",
   "metadata": {},
   "outputs": [
    {
     "data": {
      "text/html": [
       "<div>\n",
       "<style scoped>\n",
       "    .dataframe tbody tr th:only-of-type {\n",
       "        vertical-align: middle;\n",
       "    }\n",
       "\n",
       "    .dataframe tbody tr th {\n",
       "        vertical-align: top;\n",
       "    }\n",
       "\n",
       "    .dataframe thead th {\n",
       "        text-align: right;\n",
       "    }\n",
       "</style>\n",
       "<table border=\"1\" class=\"dataframe\">\n",
       "  <thead>\n",
       "    <tr style=\"text-align: right;\">\n",
       "      <th></th>\n",
       "      <th>0</th>\n",
       "      <th>1</th>\n",
       "      <th>2</th>\n",
       "      <th>3</th>\n",
       "      <th>is_facility</th>\n",
       "    </tr>\n",
       "  </thead>\n",
       "  <tbody>\n",
       "    <tr>\n",
       "      <th>53</th>\n",
       "      <td>Bois Forte Band of Minnesota Chippewa Tribe, M...</td>\n",
       "      <td>P.O. Box 16 5344 Lakeshore Drive, Nett Lake MN...</td>\n",
       "      <td>Class Type: Class II &amp; III   See 25 CFR 502.3 &amp; 4</td>\n",
       "      <td>Email Address: cchavers@boisforte-nsn.gov</td>\n",
       "      <td>False</td>\n",
       "    </tr>\n",
       "    <tr>\n",
       "      <th>54</th>\n",
       "      <td>Bois Forte Band of Minnesota Chippewa Tribe, M...</td>\n",
       "      <td>Fortune Bay Casino</td>\n",
       "      <td>P.O. Box 16 5344 Lakeshore Drive, Nett Lake MN...</td>\n",
       "      <td>Game Class Type:  Class II &amp; III  See 25 CFR 5...</td>\n",
       "      <td>True</td>\n",
       "    </tr>\n",
       "    <tr>\n",
       "      <th>55</th>\n",
       "      <td>Bois Forte Band of Minnesota Chippewa Tribe, M...</td>\n",
       "      <td>NaN</td>\n",
       "      <td>NaN</td>\n",
       "      <td>NaN</td>\n",
       "      <td>True</td>\n",
       "    </tr>\n",
       "  </tbody>\n",
       "</table>\n",
       "</div>"
      ],
      "text/plain": [
       "                                                    0  \\\n",
       "53  Bois Forte Band of Minnesota Chippewa Tribe, M...   \n",
       "54  Bois Forte Band of Minnesota Chippewa Tribe, M...   \n",
       "55  Bois Forte Band of Minnesota Chippewa Tribe, M...   \n",
       "\n",
       "                                                    1  \\\n",
       "53  P.O. Box 16 5344 Lakeshore Drive, Nett Lake MN...   \n",
       "54                                 Fortune Bay Casino   \n",
       "55                                                NaN   \n",
       "\n",
       "                                                    2  \\\n",
       "53  Class Type: Class II & III   See 25 CFR 502.3 & 4   \n",
       "54  P.O. Box 16 5344 Lakeshore Drive, Nett Lake MN...   \n",
       "55                                                NaN   \n",
       "\n",
       "                                                    3  is_facility  \n",
       "53          Email Address: cchavers@boisforte-nsn.gov        False  \n",
       "54  Game Class Type:  Class II & III  See 25 CFR 5...         True  \n",
       "55                                                NaN         True  "
      ]
     },
     "execution_count": 190,
     "metadata": {},
     "output_type": "execute_result"
    }
   ],
   "source": [
    "report_df_clean.iloc[53:56, :]"
   ]
  },
  {
   "cell_type": "code",
   "execution_count": 193,
   "id": "ab9a0347",
   "metadata": {},
   "outputs": [],
   "source": [
    "report_df_clean = report_df_clean.loc[~report_df_clean['1'].isna(), :]"
   ]
  },
  {
   "cell_type": "code",
   "execution_count": null,
   "id": "c1d99431",
   "metadata": {},
   "outputs": [],
   "source": [
    "# report_df_clean.to_csv('../data/clean_gaming_report.csv', index=False)"
   ]
  },
  {
   "cell_type": "code",
   "execution_count": 233,
   "id": "ec4b45b2",
   "metadata": {},
   "outputs": [],
   "source": [
    "report_df_clean = pd.read_csv('../data/clean_gaming_report.csv')"
   ]
  },
  {
   "cell_type": "code",
   "execution_count": 234,
   "id": "4f770475",
   "metadata": {},
   "outputs": [],
   "source": [
    "# Addresses are in different columns for facilities and non-facilities\n",
    "report_df_clean.loc[:, 'address'] = np.where(report_df_clean['is_facility'], report_df_clean['2'], report_df_clean['1'])"
   ]
  },
  {
   "cell_type": "code",
   "execution_count": 235,
   "id": "252835b3",
   "metadata": {},
   "outputs": [],
   "source": [
    "report_df_clean.loc[:, 'classes_raw'] = np.where(report_df_clean['is_facility'], report_df_clean['3'], report_df_clean['2'])"
   ]
  },
  {
   "cell_type": "code",
   "execution_count": 236,
   "id": "bbc2c0c5",
   "metadata": {},
   "outputs": [],
   "source": [
    "report_df_clean['facility_name'] = np.where(report_df_clean['is_facility'], report_df_clean['1'], np.nan)"
   ]
  },
  {
   "cell_type": "code",
   "execution_count": 237,
   "id": "d00f1c3c",
   "metadata": {},
   "outputs": [],
   "source": [
    "report_df_clean.drop(columns=['1','2','3'], inplace=True)"
   ]
  },
  {
   "cell_type": "code",
   "execution_count": 238,
   "id": "fb660ba0",
   "metadata": {},
   "outputs": [],
   "source": [
    "report_df_clean['state'] = report_df_clean['address'].str.extract(r'([A-Z]{2})')"
   ]
  },
  {
   "cell_type": "code",
   "execution_count": 239,
   "id": "3c753714",
   "metadata": {},
   "outputs": [
    {
     "data": {
      "text/plain": [
       "0      False\n",
       "1      False\n",
       "2      False\n",
       "3      False\n",
       "4      False\n",
       "       ...  \n",
       "857    False\n",
       "858     True\n",
       "859     True\n",
       "860     True\n",
       "861     True\n",
       "Name: classes_raw, Length: 862, dtype: object"
      ]
     },
     "execution_count": 239,
     "metadata": {},
     "output_type": "execute_result"
    }
   ],
   "source": [
    "report_df_clean['classes_raw'].str.contains('Class III')"
   ]
  },
  {
   "cell_type": "code",
   "execution_count": 240,
   "id": "db810cff",
   "metadata": {},
   "outputs": [],
   "source": [
    "report_df_clean['classes'] = ''"
   ]
  },
  {
   "cell_type": "code",
   "execution_count": 241,
   "id": "039575fc",
   "metadata": {},
   "outputs": [
    {
     "data": {
      "text/plain": [
       "0       True\n",
       "1       True\n",
       "2       True\n",
       "3       True\n",
       "4       True\n",
       "       ...  \n",
       "857     True\n",
       "858    False\n",
       "859    False\n",
       "860    False\n",
       "861    False\n",
       "Name: classes_raw, Length: 862, dtype: object"
      ]
     },
     "execution_count": 241,
     "metadata": {},
     "output_type": "execute_result"
    }
   ],
   "source": [
    "report_df_clean['classes_raw'].str.contains('Class II & III')"
   ]
  },
  {
   "cell_type": "code",
   "execution_count": 242,
   "id": "a3f45563",
   "metadata": {},
   "outputs": [],
   "source": [
    "# report_df_clean['classes_raw'].unique()"
   ]
  },
  {
   "cell_type": "code",
   "execution_count": 243,
   "id": "0070207d",
   "metadata": {},
   "outputs": [],
   "source": [
    "# report_df_clean.to_csv('../data/raw_gaming_report.csv')\n",
    "# Save, then manually fix the extra row spaces for:\n",
    "    # Big Sandy Band of Western Mono Indians\n",
    "    # Bois Forte\n",
    "    # Cahuilla Band\n",
    "    # Campo Band of Diegueno Mission of the Campo Indian Reservation\n",
    "    # Chicken Ranch Rancheria of Me-wuk Indians of California\n",
    "    # More?\n"
   ]
  },
  {
   "cell_type": "code",
   "execution_count": 244,
   "id": "ce67e41d",
   "metadata": {},
   "outputs": [],
   "source": [
    "# report_df_clean = pd.read_csv('../data/raw_gaming_report.csv').iloc[:,1:]"
   ]
  },
  {
   "cell_type": "code",
   "execution_count": 245,
   "id": "b44378cf",
   "metadata": {},
   "outputs": [],
   "source": [
    "# Since so many state values were on subsequent empty lines, must update after manually cleaning those problem rows\n",
    "report_df_clean['state'] = report_df_clean['address'].str.extract(r'([A-Z]{2})')"
   ]
  },
  {
   "cell_type": "code",
   "execution_count": 246,
   "id": "c1d70737",
   "metadata": {},
   "outputs": [],
   "source": [
    "report_df_clean.reset_index(inplace=True, drop=True)"
   ]
  },
  {
   "cell_type": "code",
   "execution_count": 247,
   "id": "5dcbf2a5",
   "metadata": {},
   "outputs": [],
   "source": [
    "# Split address value by the '\\nGame Class' string\n",
    "# Populate classes_raw\n",
    "# Fix address value\n",
    "# report_df_clean.loc[report_df_clean['classes_raw'].isna(),:]#, 'address'].str.find('\\n')\n",
    "classes_raw_isna_idx = report_df_clean['classes_raw'].isna()\n",
    "report_df_clean.loc[classes_raw_isna_idx, 'classes_raw'] = report_df_clean.loc[classes_raw_isna_idx, 'address']"
   ]
  },
  {
   "cell_type": "code",
   "execution_count": 250,
   "id": "f55f6ada",
   "metadata": {},
   "outputs": [],
   "source": [
    "address_class_idx = report_df_clean.loc[classes_raw_isna_idx, 'address'].str.find('\\nGame')"
   ]
  },
  {
   "cell_type": "code",
   "execution_count": 263,
   "id": "363ee2cd",
   "metadata": {},
   "outputs": [
    {
     "data": {
      "text/plain": [
       "0                                         Work Phone: 405-379-3321\n",
       "is_facility                                                   True\n",
       "address          Email Address: joel.chaffin@creeknationcasino.com\n",
       "classes_raw      Email Address: joel.chaffin@creeknationcasino.com\n",
       "facility_name                               Work Fax: 405-379-3504\n",
       "state                                                          NaN\n",
       "classes                                                           \n",
       "Name: 437, dtype: object"
      ]
     },
     "execution_count": 263,
     "metadata": {},
     "output_type": "execute_result"
    }
   ],
   "source": [
    "report_df_clean.iloc[437,:]"
   ]
  },
  {
   "cell_type": "markdown",
   "id": "af34a27e",
   "metadata": {},
   "source": [
    "OK, so the address is a lost cause at this point. So many of them are merged with Game Class strings, so my script thinks they are in a state abbreviated 'II'. At least that only applies to the script for facilities, since the state for nations should still be accurate. I will just apply a new 'nation_state' column to unify them better, because the revenue still goes back to wherever the nation is based, not where the facility is."
   ]
  },
  {
   "cell_type": "code",
   "execution_count": 269,
   "id": "209b590a",
   "metadata": {},
   "outputs": [],
   "source": [
    "report_df_clean.loc[classes_raw_isna_idx, 'address'] = report_df_clean.loc[classes_raw_isna_idx, 'address'].str.extract(r'^(.*?)\\sGame Class')"
   ]
  },
  {
   "cell_type": "code",
   "execution_count": 270,
   "id": "8e7a8ba0",
   "metadata": {},
   "outputs": [],
   "source": [
    "report_df_clean.loc[:, 'classes'] = 'Other'\n",
    "report_df_clean.loc[report_df_clean['classes_raw'].str.contains('Class II'), 'classes'] = 'Class II'\n",
    "report_df_clean.loc[report_df_clean['classes_raw'].str.contains('Class III'), 'classes'] = 'Class III'\n",
    "report_df_clean.loc[report_df_clean['classes_raw'].str.contains('Class II & III'), 'classes'] = 'Class II & III'\n",
    "\n"
   ]
  },
  {
   "cell_type": "code",
   "execution_count": 272,
   "id": "22bafab2",
   "metadata": {},
   "outputs": [],
   "source": [
    "# report_df_clean"
   ]
  },
  {
   "cell_type": "code",
   "execution_count": null,
   "id": "03a37bcc",
   "metadata": {},
   "outputs": [],
   "source": [
    "# report_df_clean.to_csv('../data/clean_gaming_report.csv')"
   ]
  },
  {
   "cell_type": "markdown",
   "id": "af241077",
   "metadata": {},
   "source": [
    "The Catawba Indian Nation operates [***one*** Class III facility](https://www.americangaming.org/wp-content/uploads/2025/02/North-Carolina_AGA-Gaming-Regulatory-Fact-Sheet-2025.pdf) in North Carolina. There is a typo in the pdf saying that the facility is in South Carolina, but that is just where the nation is based."
   ]
  },
  {
   "cell_type": "code",
   "execution_count": 274,
   "id": "96004362",
   "metadata": {},
   "outputs": [],
   "source": [
    "report_df_clean.loc[(report_df_clean.iloc[:,0]=='Catawba Indian Nation') & (~report_df_clean['is_facility']),\n",
    "                     'classes'] = 'Class III'"
   ]
  },
  {
   "cell_type": "code",
   "execution_count": 275,
   "id": "971377f3",
   "metadata": {},
   "outputs": [],
   "source": [
    "report_df_clean.loc[(report_df_clean.iloc[:,0]=='Catawba Indian Nation') & (report_df_clean['is_facility']),\n",
    "                     'address'] = '538 Kings Mountain Blvd, Kings Mountain, NC 28086'\n"
   ]
  },
  {
   "cell_type": "code",
   "execution_count": 276,
   "id": "5964d785",
   "metadata": {},
   "outputs": [],
   "source": [
    "report_df_clean.loc[(report_df_clean.iloc[:,0]=='Catawba Indian Nation') & (report_df_clean['is_facility']),\n",
    "                     'state'] = 'NC'\n"
   ]
  },
  {
   "cell_type": "code",
   "execution_count": 277,
   "id": "0cef5f21",
   "metadata": {},
   "outputs": [
    {
     "data": {
      "text/plain": [
       "classes\n",
       "Class II & III    574\n",
       "Class III         142\n",
       "Class II          120\n",
       "Other              26\n",
       "Name: count, dtype: int64"
      ]
     },
     "execution_count": 277,
     "metadata": {},
     "output_type": "execute_result"
    }
   ],
   "source": [
    "report_df_clean['classes'].value_counts()"
   ]
  },
  {
   "cell_type": "code",
   "execution_count": 278,
   "id": "e44eab56",
   "metadata": {},
   "outputs": [],
   "source": [
    "report_df_clean.drop(columns=['classes_raw'], inplace=True)"
   ]
  },
  {
   "cell_type": "code",
   "execution_count": 279,
   "id": "e0a110cf",
   "metadata": {},
   "outputs": [],
   "source": [
    "report_df_clean.rename(columns={'0':'owner_name'}, inplace=True)"
   ]
  },
  {
   "cell_type": "code",
   "execution_count": 325,
   "id": "bfb7d243",
   "metadata": {},
   "outputs": [],
   "source": [
    "owner_name_mapping = report_df_clean.copy().loc[:, ['owner_name', 'state', 'is_facility']]\n",
    "owner_name_mapping = owner_name_mapping.loc[~owner_name_mapping['is_facility'], ['owner_name', 'state']]\n",
    "owner_name_mapping.rename(columns={'state':'owner_state'}, inplace=True)\n"
   ]
  },
  {
   "cell_type": "code",
   "execution_count": 337,
   "id": "8e5b7671",
   "metadata": {},
   "outputs": [],
   "source": [
    "report_df_clean = report_df_clean.merge(owner_name_mapping, on='owner_name')"
   ]
  },
  {
   "cell_type": "code",
   "execution_count": null,
   "id": "f1918573",
   "metadata": {},
   "outputs": [],
   "source": [
    "# report_df_clean.loc[\n",
    "#     :, ['facility_name', 'owner_name', 'is_facility', 'address', 'state', 'owner_state', 'classes']\n",
    "#     ].to_csv('../data/clean/clean_gaming_report.csv', index=False)"
   ]
  },
  {
   "cell_type": "markdown",
   "id": "00f3c800",
   "metadata": {},
   "source": [
    "### Load from here"
   ]
  },
  {
   "cell_type": "code",
   "execution_count": 339,
   "id": "916021de",
   "metadata": {},
   "outputs": [],
   "source": [
    "import pandas as pd\n",
    "report_df_clean = pd.read_csv('../data/clean/clean_gaming_report.csv')"
   ]
  },
  {
   "cell_type": "code",
   "execution_count": 340,
   "id": "53712db4",
   "metadata": {},
   "outputs": [],
   "source": [
    "owner_names = report_df_clean['owner_name'].unique().tolist()"
   ]
  },
  {
   "cell_type": "markdown",
   "id": "4addc754",
   "metadata": {},
   "source": [
    "I really only care about a handful of items from the NIGC gaming report PDF:\n",
    "* Address of the gaming facility\n",
    "    * Extract the state as well\n",
    "* Name of tribe or nation that owns the facility\n",
    "* Name of the facility\n",
    "* Class type (Could be a string with some junk in it, will extract Class number later)\n",
    "* For now, don't really need all the contact info"
   ]
  },
  {
   "cell_type": "markdown",
   "id": "d492574d",
   "metadata": {},
   "source": [
    "## Native Economic Trends"
   ]
  },
  {
   "cell_type": "code",
   "execution_count": 341,
   "id": "81e1baad",
   "metadata": {},
   "outputs": [],
   "source": [
    "import pandas as pd\n",
    "import difflib"
   ]
  },
  {
   "cell_type": "code",
   "execution_count": 342,
   "id": "b0353689",
   "metadata": {},
   "outputs": [],
   "source": [
    "econ = pd.read_excel('../data/native-economic-trends-data_current.xlsx', sheet_name=1)"
   ]
  },
  {
   "cell_type": "code",
   "execution_count": 343,
   "id": "eeea2f33",
   "metadata": {},
   "outputs": [],
   "source": [
    "geonames = econ['geoname_mostrecent'].unique().tolist()"
   ]
  },
  {
   "cell_type": "markdown",
   "id": "9bad3756",
   "metadata": {},
   "source": [
    "I was considering just using ChatGPT or something to automatically create a crosswalk between the `owner_name` column from the NIGC table and `geoname_mostrecent` here. I should be responsible about validating this crosswalk.\n",
    "\n",
    "`difflib` should do the trick, too."
   ]
  },
  {
   "cell_type": "code",
   "execution_count": 344,
   "id": "50c70a0d",
   "metadata": {},
   "outputs": [],
   "source": [
    "best_geonames = []\n",
    "for owner_name in owner_names:\n",
    "    best = difflib.get_close_matches(owner_name, geonames, n=1, cutoff=0.46)\n",
    "    best_geonames.append(best[0] if best else None)"
   ]
  },
  {
   "cell_type": "code",
   "execution_count": 345,
   "id": "1c9b1555",
   "metadata": {},
   "outputs": [
    {
     "data": {
      "text/plain": [
       "36"
      ]
     },
     "execution_count": 345,
     "metadata": {},
     "output_type": "execute_result"
    }
   ],
   "source": [
    "sum([item is None for item in best_geonames]) # Not every owner name had a match!\n",
    "# Increasing get_close_matches cutoff creates erroneous matches"
   ]
  },
  {
   "cell_type": "code",
   "execution_count": 346,
   "id": "027d6afd",
   "metadata": {},
   "outputs": [],
   "source": [
    "owner_land_crosswalk = pd.DataFrame({'owner_name': owner_names, 'geoname_mostrecent':best_geonames})"
   ]
  },
  {
   "cell_type": "code",
   "execution_count": 347,
   "id": "7aad40ac",
   "metadata": {},
   "outputs": [
    {
     "data": {
      "text/plain": [
       "(258, 2)"
      ]
     },
     "execution_count": 347,
     "metadata": {},
     "output_type": "execute_result"
    }
   ],
   "source": [
    "owner_land_crosswalk.shape"
   ]
  },
  {
   "cell_type": "markdown",
   "id": "31b0eb6d",
   "metadata": {},
   "source": [
    "It should be noted that this crosswalk does not go between the gaming facility location and reservation location. However, gaming revenues go toward the owners' economic development, which would be centered on the tribe or nation's location, not necessarily just the facilities' locations."
   ]
  },
  {
   "cell_type": "code",
   "execution_count": 348,
   "id": "b98f262d",
   "metadata": {},
   "outputs": [
    {
     "data": {
      "text/html": [
       "<div>\n",
       "<style scoped>\n",
       "    .dataframe tbody tr th:only-of-type {\n",
       "        vertical-align: middle;\n",
       "    }\n",
       "\n",
       "    .dataframe tbody tr th {\n",
       "        vertical-align: top;\n",
       "    }\n",
       "\n",
       "    .dataframe thead th {\n",
       "        text-align: right;\n",
       "    }\n",
       "</style>\n",
       "<table border=\"1\" class=\"dataframe\">\n",
       "  <thead>\n",
       "    <tr style=\"text-align: right;\">\n",
       "      <th></th>\n",
       "      <th>owner_name</th>\n",
       "      <th>geoname_mostrecent</th>\n",
       "    </tr>\n",
       "  </thead>\n",
       "  <tbody>\n",
       "    <tr>\n",
       "      <th>0</th>\n",
       "      <td>Absentee Shawnee Tribe of Indians of OK</td>\n",
       "      <td>None</td>\n",
       "    </tr>\n",
       "    <tr>\n",
       "      <th>1</th>\n",
       "      <td>Agua Caliente Band of Cahuilla Indians</td>\n",
       "      <td>None</td>\n",
       "    </tr>\n",
       "    <tr>\n",
       "      <th>2</th>\n",
       "      <td>Ak-Chin Indian Communityof the Maricopa Indian...</td>\n",
       "      <td>Prairie Island Indian Community and Off-Reserv...</td>\n",
       "    </tr>\n",
       "    <tr>\n",
       "      <th>3</th>\n",
       "      <td>Alabama-Coushatta Tribe of Texas</td>\n",
       "      <td>Alabama-Coushatta Reservation and Off-Reservat...</td>\n",
       "    </tr>\n",
       "    <tr>\n",
       "      <th>4</th>\n",
       "      <td>Alturas Indian Rancheria, California</td>\n",
       "      <td>Alturas Indian Rancheria</td>\n",
       "    </tr>\n",
       "    <tr>\n",
       "      <th>...</th>\n",
       "      <td>...</td>\n",
       "      <td>...</td>\n",
       "    </tr>\n",
       "    <tr>\n",
       "      <th>253</th>\n",
       "      <td>Yavapai Apache Nation of the Camp Verde Indian...</td>\n",
       "      <td>Yavapai-Apache Nation Reservation</td>\n",
       "    </tr>\n",
       "    <tr>\n",
       "      <th>254</th>\n",
       "      <td>Yavapai-Prescott Indian Tribe</td>\n",
       "      <td>Yavapai-Prescott Reservation</td>\n",
       "    </tr>\n",
       "    <tr>\n",
       "      <th>255</th>\n",
       "      <td>Yocha DeHe Wintun Nation</td>\n",
       "      <td>Yomba Reservation</td>\n",
       "    </tr>\n",
       "    <tr>\n",
       "      <th>256</th>\n",
       "      <td>Ysleta del Sur Pueblo</td>\n",
       "      <td>Isleta Pueblo</td>\n",
       "    </tr>\n",
       "    <tr>\n",
       "      <th>257</th>\n",
       "      <td>Yurok Tribe of the Yurok Reservation</td>\n",
       "      <td>Crow Creek Reservation</td>\n",
       "    </tr>\n",
       "  </tbody>\n",
       "</table>\n",
       "<p>258 rows × 2 columns</p>\n",
       "</div>"
      ],
      "text/plain": [
       "                                            owner_name  \\\n",
       "0              Absentee Shawnee Tribe of Indians of OK   \n",
       "1               Agua Caliente Band of Cahuilla Indians   \n",
       "2    Ak-Chin Indian Communityof the Maricopa Indian...   \n",
       "3                     Alabama-Coushatta Tribe of Texas   \n",
       "4                 Alturas Indian Rancheria, California   \n",
       "..                                                 ...   \n",
       "253  Yavapai Apache Nation of the Camp Verde Indian...   \n",
       "254                      Yavapai-Prescott Indian Tribe   \n",
       "255                           Yocha DeHe Wintun Nation   \n",
       "256                              Ysleta del Sur Pueblo   \n",
       "257               Yurok Tribe of the Yurok Reservation   \n",
       "\n",
       "                                    geoname_mostrecent  \n",
       "0                                                 None  \n",
       "1                                                 None  \n",
       "2    Prairie Island Indian Community and Off-Reserv...  \n",
       "3    Alabama-Coushatta Reservation and Off-Reservat...  \n",
       "4                             Alturas Indian Rancheria  \n",
       "..                                                 ...  \n",
       "253                  Yavapai-Apache Nation Reservation  \n",
       "254                       Yavapai-Prescott Reservation  \n",
       "255                                  Yomba Reservation  \n",
       "256                                      Isleta Pueblo  \n",
       "257                             Crow Creek Reservation  \n",
       "\n",
       "[258 rows x 2 columns]"
      ]
     },
     "execution_count": 348,
     "metadata": {},
     "output_type": "execute_result"
    }
   ],
   "source": [
    "owner_land_crosswalk"
   ]
  },
  {
   "cell_type": "code",
   "execution_count": 349,
   "id": "a79ea91b",
   "metadata": {},
   "outputs": [
    {
     "data": {
      "text/plain": [
       "258"
      ]
     },
     "execution_count": 349,
     "metadata": {},
     "output_type": "execute_result"
    }
   ],
   "source": [
    "owner_land_crosswalk['owner_name'].unique().size"
   ]
  },
  {
   "cell_type": "code",
   "execution_count": 350,
   "id": "465c0ac3",
   "metadata": {},
   "outputs": [
    {
     "data": {
      "text/plain": [
       "258"
      ]
     },
     "execution_count": 350,
     "metadata": {},
     "output_type": "execute_result"
    }
   ],
   "source": [
    "report_df_clean['owner_name'].unique().size"
   ]
  },
  {
   "cell_type": "code",
   "execution_count": 351,
   "id": "47430a00",
   "metadata": {},
   "outputs": [
    {
     "data": {
      "text/plain": [
       "131"
      ]
     },
     "execution_count": 351,
     "metadata": {},
     "output_type": "execute_result"
    }
   ],
   "source": [
    "owner_land_crosswalk['geoname_mostrecent'].unique().size"
   ]
  },
  {
   "cell_type": "code",
   "execution_count": 352,
   "id": "6df2cf9e",
   "metadata": {},
   "outputs": [
    {
     "data": {
      "text/plain": [
       "771"
      ]
     },
     "execution_count": 352,
     "metadata": {},
     "output_type": "execute_result"
    }
   ],
   "source": [
    "econ['geoname_mostrecent'].unique().size"
   ]
  },
  {
   "cell_type": "code",
   "execution_count": null,
   "id": "47daa221",
   "metadata": {},
   "outputs": [],
   "source": [
    "# owner_land_crosswalk.to_csv('../data/unverified_crosswalk.csv', index=False)"
   ]
  },
  {
   "cell_type": "markdown",
   "id": "9ac2ae2f",
   "metadata": {},
   "source": [
    "I will manually edit this crosswalk csv to ensure accuracy. To clarify, there will be a one-to-many mapping from nations to reservations that are shared by multiple nations. For example, \"Citizen Potawatomi Nation-Absentee Shawnee OTSA\" belongs to both \"Absentee Shawnee Tribe of Indians of OK\" and Citizen Potawatomi."
   ]
  },
  {
   "cell_type": "code",
   "execution_count": 359,
   "id": "7c1a4fb8",
   "metadata": {},
   "outputs": [
    {
     "data": {
      "text/html": [
       "<div>\n",
       "<style scoped>\n",
       "    .dataframe tbody tr th:only-of-type {\n",
       "        vertical-align: middle;\n",
       "    }\n",
       "\n",
       "    .dataframe tbody tr th {\n",
       "        vertical-align: top;\n",
       "    }\n",
       "\n",
       "    .dataframe thead th {\n",
       "        text-align: right;\n",
       "    }\n",
       "</style>\n",
       "<table border=\"1\" class=\"dataframe\">\n",
       "  <thead>\n",
       "    <tr style=\"text-align: right;\">\n",
       "      <th></th>\n",
       "      <th>owner_name</th>\n",
       "      <th>geoname_mostrecent</th>\n",
       "      <th>no_reservation_or_not_listed</th>\n",
       "    </tr>\n",
       "  </thead>\n",
       "  <tbody>\n",
       "    <tr>\n",
       "      <th>0</th>\n",
       "      <td>Absentee Shawnee Tribe of Indians of OK</td>\n",
       "      <td>Citizen Potawatomi Nation-Absentee Shawnee OTSA</td>\n",
       "      <td>NaN</td>\n",
       "    </tr>\n",
       "    <tr>\n",
       "      <th>1</th>\n",
       "      <td>Agua Caliente Band of Cahuilla Indians</td>\n",
       "      <td>Agua Caliente Indian Reservation and Off-Reser...</td>\n",
       "      <td>NaN</td>\n",
       "    </tr>\n",
       "    <tr>\n",
       "      <th>2</th>\n",
       "      <td>Ak-Chin Indian Communityof the Maricopa Indian...</td>\n",
       "      <td>Maricopa (Ak Chin) Indian Reservation and Off-...</td>\n",
       "      <td>NaN</td>\n",
       "    </tr>\n",
       "    <tr>\n",
       "      <th>3</th>\n",
       "      <td>Alabama-Coushatta Tribe of Texas</td>\n",
       "      <td>Alabama-Coushatta Reservation and Off-Reservat...</td>\n",
       "      <td>NaN</td>\n",
       "    </tr>\n",
       "    <tr>\n",
       "      <th>4</th>\n",
       "      <td>Alturas Indian Rancheria, California</td>\n",
       "      <td>Alturas Indian Rancheria</td>\n",
       "      <td>NaN</td>\n",
       "    </tr>\n",
       "    <tr>\n",
       "      <th>...</th>\n",
       "      <td>...</td>\n",
       "      <td>...</td>\n",
       "      <td>...</td>\n",
       "    </tr>\n",
       "    <tr>\n",
       "      <th>236</th>\n",
       "      <td>Yavapai Apache Nation of the Camp Verde Indian...</td>\n",
       "      <td>Yavapai-Apache Nation Reservation</td>\n",
       "      <td>NaN</td>\n",
       "    </tr>\n",
       "    <tr>\n",
       "      <th>237</th>\n",
       "      <td>Yavapai-Prescott Indian Tribe</td>\n",
       "      <td>Yavapai-Prescott Reservation</td>\n",
       "      <td>NaN</td>\n",
       "    </tr>\n",
       "    <tr>\n",
       "      <th>238</th>\n",
       "      <td>Yocha DeHe Wintun Nation</td>\n",
       "      <td>Rumsey Indian Rancheria</td>\n",
       "      <td>NaN</td>\n",
       "    </tr>\n",
       "    <tr>\n",
       "      <th>239</th>\n",
       "      <td>Ysleta del Sur Pueblo</td>\n",
       "      <td>Ysleta del Sur Pueblo and Off-Reservation Trus...</td>\n",
       "      <td>NaN</td>\n",
       "    </tr>\n",
       "    <tr>\n",
       "      <th>240</th>\n",
       "      <td>Yurok Tribe of the Yurok Reservation</td>\n",
       "      <td>Yurok Reservation</td>\n",
       "      <td>NaN</td>\n",
       "    </tr>\n",
       "  </tbody>\n",
       "</table>\n",
       "<p>241 rows × 3 columns</p>\n",
       "</div>"
      ],
      "text/plain": [
       "                                            owner_name  \\\n",
       "0              Absentee Shawnee Tribe of Indians of OK   \n",
       "1               Agua Caliente Band of Cahuilla Indians   \n",
       "2    Ak-Chin Indian Communityof the Maricopa Indian...   \n",
       "3                     Alabama-Coushatta Tribe of Texas   \n",
       "4                 Alturas Indian Rancheria, California   \n",
       "..                                                 ...   \n",
       "236  Yavapai Apache Nation of the Camp Verde Indian...   \n",
       "237                      Yavapai-Prescott Indian Tribe   \n",
       "238                           Yocha DeHe Wintun Nation   \n",
       "239                              Ysleta del Sur Pueblo   \n",
       "240               Yurok Tribe of the Yurok Reservation   \n",
       "\n",
       "                                    geoname_mostrecent  \\\n",
       "0      Citizen Potawatomi Nation-Absentee Shawnee OTSA   \n",
       "1    Agua Caliente Indian Reservation and Off-Reser...   \n",
       "2    Maricopa (Ak Chin) Indian Reservation and Off-...   \n",
       "3    Alabama-Coushatta Reservation and Off-Reservat...   \n",
       "4                             Alturas Indian Rancheria   \n",
       "..                                                 ...   \n",
       "236                  Yavapai-Apache Nation Reservation   \n",
       "237                       Yavapai-Prescott Reservation   \n",
       "238                            Rumsey Indian Rancheria   \n",
       "239  Ysleta del Sur Pueblo and Off-Reservation Trus...   \n",
       "240                                  Yurok Reservation   \n",
       "\n",
       "    no_reservation_or_not_listed  \n",
       "0                            NaN  \n",
       "1                            NaN  \n",
       "2                            NaN  \n",
       "3                            NaN  \n",
       "4                            NaN  \n",
       "..                           ...  \n",
       "236                          NaN  \n",
       "237                          NaN  \n",
       "238                          NaN  \n",
       "239                          NaN  \n",
       "240                          NaN  \n",
       "\n",
       "[241 rows x 3 columns]"
      ]
     },
     "execution_count": 359,
     "metadata": {},
     "output_type": "execute_result"
    }
   ],
   "source": [
    "owner_land_crosswalk = pd.read_csv('../data/clean/verified_crosswalk.csv')\n",
    "owner_land_crosswalk"
   ]
  },
  {
   "cell_type": "code",
   "execution_count": 361,
   "id": "cc32e238",
   "metadata": {},
   "outputs": [
    {
     "data": {
      "text/html": [
       "<div>\n",
       "<style scoped>\n",
       "    .dataframe tbody tr th:only-of-type {\n",
       "        vertical-align: middle;\n",
       "    }\n",
       "\n",
       "    .dataframe tbody tr th {\n",
       "        vertical-align: top;\n",
       "    }\n",
       "\n",
       "    .dataframe thead th {\n",
       "        text-align: right;\n",
       "    }\n",
       "</style>\n",
       "<table border=\"1\" class=\"dataframe\">\n",
       "  <thead>\n",
       "    <tr style=\"text-align: right;\">\n",
       "      <th></th>\n",
       "      <th>facility_name</th>\n",
       "      <th>owner_name</th>\n",
       "      <th>is_facility</th>\n",
       "      <th>address</th>\n",
       "      <th>state</th>\n",
       "      <th>owner_state</th>\n",
       "      <th>classes</th>\n",
       "    </tr>\n",
       "  </thead>\n",
       "  <tbody>\n",
       "  </tbody>\n",
       "</table>\n",
       "</div>"
      ],
      "text/plain": [
       "Empty DataFrame\n",
       "Columns: [facility_name, owner_name, is_facility, address, state, owner_state, classes]\n",
       "Index: []"
      ]
     },
     "execution_count": 361,
     "metadata": {},
     "output_type": "execute_result"
    }
   ],
   "source": [
    "report_df_clean.loc[report_df_clean['owner_name']=='Morongo Band of Mission Indians, California', :]"
   ]
  },
  {
   "cell_type": "code",
   "execution_count": 362,
   "id": "58f2ccda",
   "metadata": {},
   "outputs": [
    {
     "data": {
      "text/html": [
       "<div>\n",
       "<style scoped>\n",
       "    .dataframe tbody tr th:only-of-type {\n",
       "        vertical-align: middle;\n",
       "    }\n",
       "\n",
       "    .dataframe tbody tr th {\n",
       "        vertical-align: top;\n",
       "    }\n",
       "\n",
       "    .dataframe thead th {\n",
       "        text-align: right;\n",
       "    }\n",
       "</style>\n",
       "<table border=\"1\" class=\"dataframe\">\n",
       "  <thead>\n",
       "    <tr style=\"text-align: right;\">\n",
       "      <th></th>\n",
       "      <th>facility_name</th>\n",
       "      <th>owner_name</th>\n",
       "      <th>is_facility</th>\n",
       "      <th>address</th>\n",
       "      <th>state</th>\n",
       "      <th>owner_state</th>\n",
       "      <th>classes</th>\n",
       "    </tr>\n",
       "  </thead>\n",
       "  <tbody>\n",
       "  </tbody>\n",
       "</table>\n",
       "</div>"
      ],
      "text/plain": [
       "Empty DataFrame\n",
       "Columns: [facility_name, owner_name, is_facility, address, state, owner_state, classes]\n",
       "Index: []"
      ]
     },
     "execution_count": 362,
     "metadata": {},
     "output_type": "execute_result"
    }
   ],
   "source": [
    "report_df_clean.loc[report_df_clean['facility_name']=='Casino Morongo', :]"
   ]
  },
  {
   "cell_type": "code",
   "execution_count": 366,
   "id": "ef8b43ca",
   "metadata": {},
   "outputs": [
    {
     "data": {
      "text/plain": [
       "facility_name    object\n",
       "owner_name       object\n",
       "is_facility        bool\n",
       "address          object\n",
       "state            object\n",
       "owner_state      object\n",
       "classes          object\n",
       "dtype: object"
      ]
     },
     "execution_count": 366,
     "metadata": {},
     "output_type": "execute_result"
    }
   ],
   "source": [
    "report_df_clean.dtypes"
   ]
  },
  {
   "cell_type": "code",
   "execution_count": 370,
   "id": "81162dad",
   "metadata": {},
   "outputs": [],
   "source": [
    "facility_name = [np.nan, 'Morongo Travel Center @ Morongo Trail', 'Casino Morongo', 'Morongo Casino Resort & Spa', 'Morongo Travel Center @ Seminole Dr.', 'Morongo Canyon Lanes']\n",
    "owner_name = ['Morongo Band of Mission Indians, California'] * len(facility_name)\n",
    "is_facility = [False, True, True, True, True, True]\n",
    "address = ['12700 Pumarra Road, Banning CA 92220'] * len(facility_name)\n",
    "state = ['CA'] * len(facility_name)\n",
    "owner_state = state\n",
    "classes = ['Class II & III'] * 4 + ['Class II'] * 2\n",
    "report_snippet_fix = pd.DataFrame({'facility_name':facility_name,\n",
    "                                   'owner_name':owner_name,\n",
    "                                   'is_facility':is_facility,\n",
    "                                   'address':address,\n",
    "                                   'state':state,\n",
    "                                   'owner_state':owner_state,\n",
    "                                   'classes':classes})"
   ]
  },
  {
   "cell_type": "code",
   "execution_count": 372,
   "id": "2a19f184",
   "metadata": {},
   "outputs": [],
   "source": [
    "report_df_clean_final = pd.concat([report_df_clean, report_snippet_fix], axis=0)"
   ]
  },
  {
   "cell_type": "code",
   "execution_count": 373,
   "id": "a2e99128",
   "metadata": {},
   "outputs": [],
   "source": [
    "report_df_clean_final.reset_index(drop=True, inplace=True)"
   ]
  },
  {
   "cell_type": "code",
   "execution_count": null,
   "id": "e224b962",
   "metadata": {},
   "outputs": [],
   "source": [
    "# report_df_clean_final.to_csv('../data/clean/clean_gaming_report.csv', index=False)"
   ]
  }
 ],
 "metadata": {
  "kernelspec": {
   "display_name": "static-visualization-project",
   "language": "python",
   "name": "python3"
  },
  "language_info": {
   "codemirror_mode": {
    "name": "ipython",
    "version": 3
   },
   "file_extension": ".py",
   "mimetype": "text/x-python",
   "name": "python",
   "nbconvert_exporter": "python",
   "pygments_lexer": "ipython3",
   "version": "3.13.7"
  }
 },
 "nbformat": 4,
 "nbformat_minor": 5
}
