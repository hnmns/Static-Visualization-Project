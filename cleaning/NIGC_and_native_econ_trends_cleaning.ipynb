{
 "cells": [
  {
   "cell_type": "code",
   "execution_count": 48,
   "id": "17e64b9a",
   "metadata": {},
   "outputs": [],
   "source": [
    "import pandas as pd\n",
    "import numpy as np\n",
    "import camelot"
   ]
  },
  {
   "cell_type": "markdown",
   "id": "c8053bc9",
   "metadata": {},
   "source": [
    "## NIGC Gaming Tribe Report 2025"
   ]
  },
  {
   "cell_type": "code",
   "execution_count": 61,
   "id": "4196b8e2",
   "metadata": {},
   "outputs": [],
   "source": [
    "tables_a = camelot.read_pdf('../data/TribesAlphabeticalList_NIGC_GamingTribeReport_2025.pdf',\n",
    "                          flavor='stream',\n",
    "                          row_tol=5,\n",
    "                          pages='all')\n",
    "report_a = tables_a[0].df\n",
    "# report_a\n"
   ]
  },
  {
   "cell_type": "code",
   "execution_count": 62,
   "id": "5154aae9",
   "metadata": {},
   "outputs": [],
   "source": [
    "tables_a_df_list = [table.df.iloc[3:, :] for table in tables_a]"
   ]
  },
  {
   "cell_type": "code",
   "execution_count": 64,
   "id": "be917f6d",
   "metadata": {},
   "outputs": [
    {
     "data": {
      "text/html": [
       "<div>\n",
       "<style scoped>\n",
       "    .dataframe tbody tr th:only-of-type {\n",
       "        vertical-align: middle;\n",
       "    }\n",
       "\n",
       "    .dataframe tbody tr th {\n",
       "        vertical-align: top;\n",
       "    }\n",
       "\n",
       "    .dataframe thead th {\n",
       "        text-align: right;\n",
       "    }\n",
       "</style>\n",
       "<table border=\"1\" class=\"dataframe\">\n",
       "  <thead>\n",
       "    <tr style=\"text-align: right;\">\n",
       "      <th></th>\n",
       "      <th>0</th>\n",
       "      <th>1</th>\n",
       "      <th>2</th>\n",
       "      <th>3</th>\n",
       "    </tr>\n",
       "  </thead>\n",
       "  <tbody>\n",
       "    <tr>\n",
       "      <th>3</th>\n",
       "      <td>Absentee Shawnee Tribe of Indians of OK</td>\n",
       "      <td>2025 S. Gordon Cooper Dr., Shawnee OK 74801</td>\n",
       "      <td>Class Type: Class II &amp; III   See 25 CFR 502.3 &amp; 4</td>\n",
       "      <td>Email Address: Governor@astribe.com</td>\n",
       "    </tr>\n",
       "    <tr>\n",
       "      <th>4</th>\n",
       "      <td></td>\n",
       "      <td>Thunderbird Casino - Shawnee</td>\n",
       "      <td>2025 S. Gordon Cooper Dr., Shawnee OK 74801</td>\n",
       "      <td>Game Class Type:  Class II &amp; III  See 25 CFR 5...</td>\n",
       "    </tr>\n",
       "    <tr>\n",
       "      <th>5</th>\n",
       "      <td></td>\n",
       "      <td>Work Phone: 405-360-9270</td>\n",
       "      <td>Work Fax: 405-573-3211</td>\n",
       "      <td>Email Address: LisaF@TBECInc.com</td>\n",
       "    </tr>\n",
       "    <tr>\n",
       "      <th>6</th>\n",
       "      <td></td>\n",
       "      <td>Thunderbird Entertainment Center</td>\n",
       "      <td>2025 S. Gordon Cooper Dr., Shawnee OK 74801</td>\n",
       "      <td>Game Class Type:  Class II &amp; III  See 25 CFR 5...</td>\n",
       "    </tr>\n",
       "    <tr>\n",
       "      <th>7</th>\n",
       "      <td></td>\n",
       "      <td>Work Phone: 405-360-9270</td>\n",
       "      <td>Work Fax: 405-360-9288</td>\n",
       "      <td>Email Address: LisaF@TBECInc.com</td>\n",
       "    </tr>\n",
       "    <tr>\n",
       "      <th>...</th>\n",
       "      <td>...</td>\n",
       "      <td>...</td>\n",
       "      <td>...</td>\n",
       "      <td>...</td>\n",
       "    </tr>\n",
       "    <tr>\n",
       "      <th>48</th>\n",
       "      <td></td>\n",
       "      <td>Work Phone: 707-482-1777</td>\n",
       "      <td>Work Fax: 707-482-1772</td>\n",
       "      <td>Email Address: rbacon@yuroktribe.nsn.us</td>\n",
       "    </tr>\n",
       "    <tr>\n",
       "      <th>49</th>\n",
       "      <td></td>\n",
       "      <td>Redwood Hotel Casino</td>\n",
       "      <td>P.O. Box 1027 190 Klamath Blvd., Klamath CA 95548</td>\n",
       "      <td>Game Class Type:  Class III  See 25 CFR 502.3 &amp; 4</td>\n",
       "    </tr>\n",
       "    <tr>\n",
       "      <th>50</th>\n",
       "      <td></td>\n",
       "      <td>Work Phone: 707-482-1777</td>\n",
       "      <td>Work Fax: 707-482-1772</td>\n",
       "      <td>Email Address: rbacon@yuroktribe.nsn.us</td>\n",
       "    </tr>\n",
       "    <tr>\n",
       "      <th>51</th>\n",
       "      <td></td>\n",
       "      <td>Redwood Hotel Casino</td>\n",
       "      <td>P.O. Box 1027 190 Klamath Blvd., Klamath CA 95548</td>\n",
       "      <td>Game Class Type:  Class III  See 25 CFR 502.3 &amp; 4</td>\n",
       "    </tr>\n",
       "    <tr>\n",
       "      <th>52</th>\n",
       "      <td></td>\n",
       "      <td>Work Phone: 707-482-1777</td>\n",
       "      <td>Work Fax: 707-482-1772</td>\n",
       "      <td>Email Address: rbacon@yuroktribe.nsn.us</td>\n",
       "    </tr>\n",
       "  </tbody>\n",
       "</table>\n",
       "<p>1551 rows × 4 columns</p>\n",
       "</div>"
      ],
      "text/plain": [
       "                                          0  \\\n",
       "3   Absentee Shawnee Tribe of Indians of OK   \n",
       "4                                             \n",
       "5                                             \n",
       "6                                             \n",
       "7                                             \n",
       "..                                      ...   \n",
       "48                                            \n",
       "49                                            \n",
       "50                                            \n",
       "51                                            \n",
       "52                                            \n",
       "\n",
       "                                              1  \\\n",
       "3   2025 S. Gordon Cooper Dr., Shawnee OK 74801   \n",
       "4                  Thunderbird Casino - Shawnee   \n",
       "5                      Work Phone: 405-360-9270   \n",
       "6              Thunderbird Entertainment Center   \n",
       "7                      Work Phone: 405-360-9270   \n",
       "..                                          ...   \n",
       "48                     Work Phone: 707-482-1777   \n",
       "49                         Redwood Hotel Casino   \n",
       "50                     Work Phone: 707-482-1777   \n",
       "51                         Redwood Hotel Casino   \n",
       "52                     Work Phone: 707-482-1777   \n",
       "\n",
       "                                                    2  \\\n",
       "3   Class Type: Class II & III   See 25 CFR 502.3 & 4   \n",
       "4         2025 S. Gordon Cooper Dr., Shawnee OK 74801   \n",
       "5                              Work Fax: 405-573-3211   \n",
       "6         2025 S. Gordon Cooper Dr., Shawnee OK 74801   \n",
       "7                              Work Fax: 405-360-9288   \n",
       "..                                                ...   \n",
       "48                             Work Fax: 707-482-1772   \n",
       "49  P.O. Box 1027 190 Klamath Blvd., Klamath CA 95548   \n",
       "50                             Work Fax: 707-482-1772   \n",
       "51  P.O. Box 1027 190 Klamath Blvd., Klamath CA 95548   \n",
       "52                             Work Fax: 707-482-1772   \n",
       "\n",
       "                                                    3  \n",
       "3                 Email Address: Governor@astribe.com  \n",
       "4   Game Class Type:  Class II & III  See 25 CFR 5...  \n",
       "5                    Email Address: LisaF@TBECInc.com  \n",
       "6   Game Class Type:  Class II & III  See 25 CFR 5...  \n",
       "7                    Email Address: LisaF@TBECInc.com  \n",
       "..                                                ...  \n",
       "48            Email Address: rbacon@yuroktribe.nsn.us  \n",
       "49  Game Class Type:  Class III  See 25 CFR 502.3 & 4  \n",
       "50            Email Address: rbacon@yuroktribe.nsn.us  \n",
       "51  Game Class Type:  Class III  See 25 CFR 502.3 & 4  \n",
       "52            Email Address: rbacon@yuroktribe.nsn.us  \n",
       "\n",
       "[1551 rows x 4 columns]"
      ]
     },
     "execution_count": 64,
     "metadata": {},
     "output_type": "execute_result"
    }
   ],
   "source": [
    "report_df = pd.concat(tables_a_df_list, axis=0)\n",
    "report_df"
   ]
  },
  {
   "cell_type": "code",
   "execution_count": 65,
   "id": "c32def65",
   "metadata": {},
   "outputs": [],
   "source": [
    "report_df.reset_index(drop=True, inplace=True)"
   ]
  },
  {
   "cell_type": "code",
   "execution_count": null,
   "id": "90c53fa7",
   "metadata": {},
   "outputs": [
    {
     "data": {
      "text/plain": [
       "array([  14,   32,   48,   51,   76,   88,   98,  103,  109,  131,  235,\n",
       "        245,  327,  346,  359,  362,  372,  375,  383,  386,  389,  416,\n",
       "        425,  446,  459,  470,  474,  491,  500,  504,  572,  600,  624,\n",
       "        627,  650,  656,  666,  674,  686,  691,  718,  719,  720,  721,\n",
       "        722,  723,  724,  725,  726,  727,  728,  729,  730,  731,  732,\n",
       "        733,  734,  735,  736,  737,  738,  739,  740,  741,  742,  743,\n",
       "        744,  745,  746,  747,  748,  749,  750,  751,  752,  753,  754,\n",
       "        755,  756,  757,  758,  800,  806,  863,  893,  905,  930,  954,\n",
       "       1015, 1024, 1037, 1044, 1047, 1059, 1080, 1085, 1096, 1103, 1150,\n",
       "       1166, 1169, 1182, 1266, 1292, 1304, 1338, 1390, 1415, 1492, 1522])"
      ]
     },
     "execution_count": 66,
     "metadata": {},
     "output_type": "execute_result"
    }
   ],
   "source": [
    "is_nonempty0 = (report_df[0]!='').to_numpy()+0\n",
    "# Find all indices where there are two 1's in a row\n",
    "# This indicates a place where a tribe/nation name spilled over to two rows.\n",
    "name_bleeds_over0_idx = np.where((is_nonempty0[:-1] == 1) & (is_nonempty0[1:]==1))[0]\n",
    "# name_bleeds_over0_idx\n",
    "for i in name_bleeds_over0_idx:\n",
    "    report_df.loc[i, 0] += ' ' + report_df.loc[i+1, 0]\n",
    "    report_df.loc[i+1, 0] = '' # No longer need the bleed-over text, it has been absorbed into the full name above\n"
   ]
  },
  {
   "cell_type": "markdown",
   "id": "dcc92c4b",
   "metadata": {},
   "source": [
    "The `row_tol` parameter does not help us here since the multi-line tribe/nation name has the same distance between lines as the tribe/nation address and first facility name do. We may as well just keep all of these lines separate and rejoin the tribe/nation names based on adjacency and presence of a newline character. We then just extract the two-letter state abbreviation from the address with regular expressions. Are there any cases of a tribe/nation owning a facility in another state's borders?"
   ]
  },
  {
   "cell_type": "markdown",
   "id": "4f9e6547",
   "metadata": {},
   "source": [
    "Steps\n",
    "1. Remove all rows that have empty column 0 AND have a column 1 that contains a row containing \"Work Phone\"\n",
    "2. Stamp the tribe/nation name onto each of their facilities' names.\n",
    "3. Extend to all pages of the pdf, not just the first page."
   ]
  },
  {
   "cell_type": "code",
   "execution_count": 68,
   "id": "73b1c09f",
   "metadata": {},
   "outputs": [],
   "source": [
    "# report_a[1][report_a[1].str.contains('Work Phone')]"
   ]
  },
  {
   "cell_type": "code",
   "execution_count": 69,
   "id": "3482ea9e",
   "metadata": {},
   "outputs": [],
   "source": [
    "report_df = report_df.loc[~report_df[1].str.contains('Work Phone'), :]"
   ]
  },
  {
   "cell_type": "code",
   "execution_count": 70,
   "id": "b9ca3cab",
   "metadata": {},
   "outputs": [],
   "source": [
    "report_df_clean = report_df.replace('', np.nan)"
   ]
  },
  {
   "cell_type": "code",
   "execution_count": 71,
   "id": "ba29383e",
   "metadata": {},
   "outputs": [],
   "source": [
    "is_facility_idx = report_df_clean[0].isna()"
   ]
  },
  {
   "cell_type": "code",
   "execution_count": 72,
   "id": "1791ae0a",
   "metadata": {},
   "outputs": [],
   "source": [
    "report_df_clean['is_facility'] = is_facility_idx"
   ]
  },
  {
   "cell_type": "code",
   "execution_count": 73,
   "id": "b079a208",
   "metadata": {},
   "outputs": [],
   "source": [
    "report_df_clean[0] = report_df_clean[0].ffill()"
   ]
  },
  {
   "cell_type": "code",
   "execution_count": 99,
   "id": "8126da9b",
   "metadata": {},
   "outputs": [],
   "source": [
    "report_df_clean.reset_index(inplace=True, drop=True)"
   ]
  },
  {
   "cell_type": "code",
   "execution_count": 102,
   "id": "12a35f2b",
   "metadata": {},
   "outputs": [
    {
     "data": {
      "text/html": [
       "<div>\n",
       "<style scoped>\n",
       "    .dataframe tbody tr th:only-of-type {\n",
       "        vertical-align: middle;\n",
       "    }\n",
       "\n",
       "    .dataframe tbody tr th {\n",
       "        vertical-align: top;\n",
       "    }\n",
       "\n",
       "    .dataframe thead th {\n",
       "        text-align: right;\n",
       "    }\n",
       "</style>\n",
       "<table border=\"1\" class=\"dataframe\">\n",
       "  <thead>\n",
       "    <tr style=\"text-align: right;\">\n",
       "      <th></th>\n",
       "      <th>0</th>\n",
       "      <th>1</th>\n",
       "      <th>2</th>\n",
       "      <th>3</th>\n",
       "      <th>is_facility</th>\n",
       "    </tr>\n",
       "  </thead>\n",
       "  <tbody>\n",
       "    <tr>\n",
       "      <th>0</th>\n",
       "      <td>Absentee Shawnee Tribe of Indians of OK</td>\n",
       "      <td>2025 S. Gordon Cooper Dr., Shawnee OK 74801</td>\n",
       "      <td>Class Type: Class II &amp; III   See 25 CFR 502.3 &amp; 4</td>\n",
       "      <td>Email Address: Governor@astribe.com</td>\n",
       "      <td>False</td>\n",
       "    </tr>\n",
       "    <tr>\n",
       "      <th>1</th>\n",
       "      <td>Absentee Shawnee Tribe of Indians of OK</td>\n",
       "      <td>Thunderbird Casino - Shawnee</td>\n",
       "      <td>2025 S. Gordon Cooper Dr., Shawnee OK 74801</td>\n",
       "      <td>Game Class Type:  Class II &amp; III  See 25 CFR 5...</td>\n",
       "      <td>True</td>\n",
       "    </tr>\n",
       "    <tr>\n",
       "      <th>2</th>\n",
       "      <td>Absentee Shawnee Tribe of Indians of OK</td>\n",
       "      <td>Thunderbird Entertainment Center</td>\n",
       "      <td>2025 S. Gordon Cooper Dr., Shawnee OK 74801</td>\n",
       "      <td>Game Class Type:  Class II &amp; III  See 25 CFR 5...</td>\n",
       "      <td>True</td>\n",
       "    </tr>\n",
       "    <tr>\n",
       "      <th>3</th>\n",
       "      <td>Agua Caliente Band of Cahuilla Indians</td>\n",
       "      <td>5401 Dinah Shore Dr., Palm Springs CA 92264</td>\n",
       "      <td>Class Type: Class II &amp; III   See 25 CFR 502.3 &amp; 4</td>\n",
       "      <td>Email Address: laviles@aguacaliente.net</td>\n",
       "      <td>False</td>\n",
       "    </tr>\n",
       "    <tr>\n",
       "      <th>4</th>\n",
       "      <td>Agua Caliente Band of Cahuilla Indians</td>\n",
       "      <td>Agua Caliente Casino Rancho Mirage</td>\n",
       "      <td>5401 Dinah Shore Dr., Palm Springs CA 92264</td>\n",
       "      <td>Game Class Type:  Class II &amp; III  See 25 CFR 5...</td>\n",
       "      <td>True</td>\n",
       "    </tr>\n",
       "    <tr>\n",
       "      <th>...</th>\n",
       "      <td>...</td>\n",
       "      <td>...</td>\n",
       "      <td>...</td>\n",
       "      <td>...</td>\n",
       "      <td>...</td>\n",
       "    </tr>\n",
       "    <tr>\n",
       "      <th>967</th>\n",
       "      <td>Yurok Tribe of the Yurok Reservation</td>\n",
       "      <td>P.O. Box 1027 190 Klamath Blvd., Klamath CA 95548</td>\n",
       "      <td>Class Type: Class II &amp; III   See 25 CFR 502.3 &amp; 4</td>\n",
       "      <td>Email Address: jjames@yuroktribe.nsn.us</td>\n",
       "      <td>False</td>\n",
       "    </tr>\n",
       "    <tr>\n",
       "      <th>968</th>\n",
       "      <td>Yurok Tribe of the Yurok Reservation</td>\n",
       "      <td>Redwood Hotel Casino</td>\n",
       "      <td>P.O. Box 1027 190 Klamath Blvd., Klamath CA 95548</td>\n",
       "      <td>Game Class Type:  Class III  See 25 CFR 502.3 &amp; 4</td>\n",
       "      <td>True</td>\n",
       "    </tr>\n",
       "    <tr>\n",
       "      <th>969</th>\n",
       "      <td>Yurok Tribe of the Yurok Reservation</td>\n",
       "      <td>Redwood Hotel Casino</td>\n",
       "      <td>P.O. Box 1027 190 Klamath Blvd., Klamath CA 95548</td>\n",
       "      <td>Game Class Type:  Class III  See 25 CFR 502.3 &amp; 4</td>\n",
       "      <td>True</td>\n",
       "    </tr>\n",
       "    <tr>\n",
       "      <th>970</th>\n",
       "      <td>Yurok Tribe of the Yurok Reservation</td>\n",
       "      <td>Redwood Hotel Casino</td>\n",
       "      <td>P.O. Box 1027 190 Klamath Blvd., Klamath CA 95548</td>\n",
       "      <td>Game Class Type:  Class III  See 25 CFR 502.3 &amp; 4</td>\n",
       "      <td>True</td>\n",
       "    </tr>\n",
       "    <tr>\n",
       "      <th>971</th>\n",
       "      <td>Yurok Tribe of the Yurok Reservation</td>\n",
       "      <td>Redwood Hotel Casino</td>\n",
       "      <td>P.O. Box 1027 190 Klamath Blvd., Klamath CA 95548</td>\n",
       "      <td>Game Class Type:  Class III  See 25 CFR 502.3 &amp; 4</td>\n",
       "      <td>True</td>\n",
       "    </tr>\n",
       "  </tbody>\n",
       "</table>\n",
       "<p>972 rows × 5 columns</p>\n",
       "</div>"
      ],
      "text/plain": [
       "                                           0  \\\n",
       "0    Absentee Shawnee Tribe of Indians of OK   \n",
       "1    Absentee Shawnee Tribe of Indians of OK   \n",
       "2    Absentee Shawnee Tribe of Indians of OK   \n",
       "3     Agua Caliente Band of Cahuilla Indians   \n",
       "4     Agua Caliente Band of Cahuilla Indians   \n",
       "..                                       ...   \n",
       "967     Yurok Tribe of the Yurok Reservation   \n",
       "968     Yurok Tribe of the Yurok Reservation   \n",
       "969     Yurok Tribe of the Yurok Reservation   \n",
       "970     Yurok Tribe of the Yurok Reservation   \n",
       "971     Yurok Tribe of the Yurok Reservation   \n",
       "\n",
       "                                                     1  \\\n",
       "0          2025 S. Gordon Cooper Dr., Shawnee OK 74801   \n",
       "1                         Thunderbird Casino - Shawnee   \n",
       "2                     Thunderbird Entertainment Center   \n",
       "3          5401 Dinah Shore Dr., Palm Springs CA 92264   \n",
       "4                   Agua Caliente Casino Rancho Mirage   \n",
       "..                                                 ...   \n",
       "967  P.O. Box 1027 190 Klamath Blvd., Klamath CA 95548   \n",
       "968                               Redwood Hotel Casino   \n",
       "969                               Redwood Hotel Casino   \n",
       "970                               Redwood Hotel Casino   \n",
       "971                               Redwood Hotel Casino   \n",
       "\n",
       "                                                     2  \\\n",
       "0    Class Type: Class II & III   See 25 CFR 502.3 & 4   \n",
       "1          2025 S. Gordon Cooper Dr., Shawnee OK 74801   \n",
       "2          2025 S. Gordon Cooper Dr., Shawnee OK 74801   \n",
       "3    Class Type: Class II & III   See 25 CFR 502.3 & 4   \n",
       "4          5401 Dinah Shore Dr., Palm Springs CA 92264   \n",
       "..                                                 ...   \n",
       "967  Class Type: Class II & III   See 25 CFR 502.3 & 4   \n",
       "968  P.O. Box 1027 190 Klamath Blvd., Klamath CA 95548   \n",
       "969  P.O. Box 1027 190 Klamath Blvd., Klamath CA 95548   \n",
       "970  P.O. Box 1027 190 Klamath Blvd., Klamath CA 95548   \n",
       "971  P.O. Box 1027 190 Klamath Blvd., Klamath CA 95548   \n",
       "\n",
       "                                                     3  is_facility  \n",
       "0                  Email Address: Governor@astribe.com        False  \n",
       "1    Game Class Type:  Class II & III  See 25 CFR 5...         True  \n",
       "2    Game Class Type:  Class II & III  See 25 CFR 5...         True  \n",
       "3              Email Address: laviles@aguacaliente.net        False  \n",
       "4    Game Class Type:  Class II & III  See 25 CFR 5...         True  \n",
       "..                                                 ...          ...  \n",
       "967            Email Address: jjames@yuroktribe.nsn.us        False  \n",
       "968  Game Class Type:  Class III  See 25 CFR 502.3 & 4         True  \n",
       "969  Game Class Type:  Class III  See 25 CFR 502.3 & 4         True  \n",
       "970  Game Class Type:  Class III  See 25 CFR 502.3 & 4         True  \n",
       "971  Game Class Type:  Class III  See 25 CFR 502.3 & 4         True  \n",
       "\n",
       "[972 rows x 5 columns]"
      ]
     },
     "execution_count": 102,
     "metadata": {},
     "output_type": "execute_result"
    }
   ],
   "source": [
    "report_df_clean"
   ]
  },
  {
   "cell_type": "code",
   "execution_count": 108,
   "id": "f9a6cd8c",
   "metadata": {},
   "outputs": [],
   "source": [
    "report_copy = report_df_clean.copy()"
   ]
  },
  {
   "cell_type": "code",
   "execution_count": null,
   "id": "5b8a765b",
   "metadata": {},
   "outputs": [],
   "source": [
    "# report_copy.to_csv('../data/temp_gaming_report.csv', index=False)"
   ]
  },
  {
   "cell_type": "markdown",
   "id": "c28fb0ba",
   "metadata": {},
   "source": [
    "Manually edit addresses that get combined with Class Type strings, could be in either column 1 or 2."
   ]
  },
  {
   "cell_type": "code",
   "execution_count": 188,
   "id": "9305a995",
   "metadata": {},
   "outputs": [],
   "source": [
    "report_df_clean = pd.read_csv('../data/temp_gaming_report.csv')"
   ]
  },
  {
   "cell_type": "code",
   "execution_count": 189,
   "id": "0b424f9a",
   "metadata": {},
   "outputs": [],
   "source": [
    "# overhang_idx = report_df_clean[1].isna()\n",
    "is_empty1_idx = np.where(report_df_clean['1'].isna())[0]\n",
    "# This indicates a place where an address spills over multiple lines\n",
    "# is_empty1_idx\n",
    "for i in is_empty1_idx:\n",
    "    report_df_clean.iloc[i-1, 2] = str(report_df_clean.iloc[i-1, 2]) + ' ' + str(report_df_clean.iloc[i, 2])\n",
    "    report_df_clean.iloc[i, 2] = np.nan # No longer need the bleed-over text, it has been absorbed into the full name above\n"
   ]
  },
  {
   "cell_type": "code",
   "execution_count": 190,
   "id": "1e81dbf3",
   "metadata": {},
   "outputs": [
    {
     "data": {
      "text/html": [
       "<div>\n",
       "<style scoped>\n",
       "    .dataframe tbody tr th:only-of-type {\n",
       "        vertical-align: middle;\n",
       "    }\n",
       "\n",
       "    .dataframe tbody tr th {\n",
       "        vertical-align: top;\n",
       "    }\n",
       "\n",
       "    .dataframe thead th {\n",
       "        text-align: right;\n",
       "    }\n",
       "</style>\n",
       "<table border=\"1\" class=\"dataframe\">\n",
       "  <thead>\n",
       "    <tr style=\"text-align: right;\">\n",
       "      <th></th>\n",
       "      <th>0</th>\n",
       "      <th>1</th>\n",
       "      <th>2</th>\n",
       "      <th>3</th>\n",
       "      <th>is_facility</th>\n",
       "    </tr>\n",
       "  </thead>\n",
       "  <tbody>\n",
       "    <tr>\n",
       "      <th>53</th>\n",
       "      <td>Bois Forte Band of Minnesota Chippewa Tribe, M...</td>\n",
       "      <td>P.O. Box 16 5344 Lakeshore Drive, Nett Lake MN...</td>\n",
       "      <td>Class Type: Class II &amp; III   See 25 CFR 502.3 &amp; 4</td>\n",
       "      <td>Email Address: cchavers@boisforte-nsn.gov</td>\n",
       "      <td>False</td>\n",
       "    </tr>\n",
       "    <tr>\n",
       "      <th>54</th>\n",
       "      <td>Bois Forte Band of Minnesota Chippewa Tribe, M...</td>\n",
       "      <td>Fortune Bay Casino</td>\n",
       "      <td>P.O. Box 16 5344 Lakeshore Drive, Nett Lake MN...</td>\n",
       "      <td>Game Class Type:  Class II &amp; III  See 25 CFR 5...</td>\n",
       "      <td>True</td>\n",
       "    </tr>\n",
       "    <tr>\n",
       "      <th>55</th>\n",
       "      <td>Bois Forte Band of Minnesota Chippewa Tribe, M...</td>\n",
       "      <td>NaN</td>\n",
       "      <td>NaN</td>\n",
       "      <td>NaN</td>\n",
       "      <td>True</td>\n",
       "    </tr>\n",
       "  </tbody>\n",
       "</table>\n",
       "</div>"
      ],
      "text/plain": [
       "                                                    0  \\\n",
       "53  Bois Forte Band of Minnesota Chippewa Tribe, M...   \n",
       "54  Bois Forte Band of Minnesota Chippewa Tribe, M...   \n",
       "55  Bois Forte Band of Minnesota Chippewa Tribe, M...   \n",
       "\n",
       "                                                    1  \\\n",
       "53  P.O. Box 16 5344 Lakeshore Drive, Nett Lake MN...   \n",
       "54                                 Fortune Bay Casino   \n",
       "55                                                NaN   \n",
       "\n",
       "                                                    2  \\\n",
       "53  Class Type: Class II & III   See 25 CFR 502.3 & 4   \n",
       "54  P.O. Box 16 5344 Lakeshore Drive, Nett Lake MN...   \n",
       "55                                                NaN   \n",
       "\n",
       "                                                    3  is_facility  \n",
       "53          Email Address: cchavers@boisforte-nsn.gov        False  \n",
       "54  Game Class Type:  Class II & III  See 25 CFR 5...         True  \n",
       "55                                                NaN         True  "
      ]
     },
     "execution_count": 190,
     "metadata": {},
     "output_type": "execute_result"
    }
   ],
   "source": [
    "report_df_clean.iloc[53:56, :]"
   ]
  },
  {
   "cell_type": "code",
   "execution_count": 193,
   "id": "ab9a0347",
   "metadata": {},
   "outputs": [],
   "source": [
    "report_df_clean = report_df_clean.loc[~report_df_clean['1'].isna(), :]"
   ]
  },
  {
   "cell_type": "code",
   "execution_count": null,
   "id": "c1d99431",
   "metadata": {},
   "outputs": [],
   "source": [
    "# report_df_clean.to_csv('../data/clean_gaming_report.csv', index=False)"
   ]
  },
  {
   "cell_type": "code",
   "execution_count": 233,
   "id": "ec4b45b2",
   "metadata": {},
   "outputs": [],
   "source": [
    "report_df_clean = pd.read_csv('../data/clean_gaming_report.csv')"
   ]
  },
  {
   "cell_type": "code",
   "execution_count": 234,
   "id": "4f770475",
   "metadata": {},
   "outputs": [],
   "source": [
    "# Addresses are in different columns for facilities and non-facilities\n",
    "report_df_clean.loc[:, 'address'] = np.where(report_df_clean['is_facility'], report_df_clean['2'], report_df_clean['1'])"
   ]
  },
  {
   "cell_type": "code",
   "execution_count": 235,
   "id": "252835b3",
   "metadata": {},
   "outputs": [],
   "source": [
    "report_df_clean.loc[:, 'classes_raw'] = np.where(report_df_clean['is_facility'], report_df_clean['3'], report_df_clean['2'])"
   ]
  },
  {
   "cell_type": "code",
   "execution_count": 236,
   "id": "bbc2c0c5",
   "metadata": {},
   "outputs": [],
   "source": [
    "report_df_clean['facility_name'] = np.where(report_df_clean['is_facility'], report_df_clean['1'], np.nan)"
   ]
  },
  {
   "cell_type": "code",
   "execution_count": 237,
   "id": "d00f1c3c",
   "metadata": {},
   "outputs": [],
   "source": [
    "report_df_clean.drop(columns=['1','2','3'], inplace=True)"
   ]
  },
  {
   "cell_type": "code",
   "execution_count": 238,
   "id": "fb660ba0",
   "metadata": {},
   "outputs": [],
   "source": [
    "report_df_clean['state'] = report_df_clean['address'].str.extract(r'([A-Z]{2})')"
   ]
  },
  {
   "cell_type": "code",
   "execution_count": 239,
   "id": "3c753714",
   "metadata": {},
   "outputs": [
    {
     "data": {
      "text/plain": [
       "0      False\n",
       "1      False\n",
       "2      False\n",
       "3      False\n",
       "4      False\n",
       "       ...  \n",
       "857    False\n",
       "858     True\n",
       "859     True\n",
       "860     True\n",
       "861     True\n",
       "Name: classes_raw, Length: 862, dtype: object"
      ]
     },
     "execution_count": 239,
     "metadata": {},
     "output_type": "execute_result"
    }
   ],
   "source": [
    "report_df_clean['classes_raw'].str.contains('Class III')"
   ]
  },
  {
   "cell_type": "code",
   "execution_count": 240,
   "id": "db810cff",
   "metadata": {},
   "outputs": [],
   "source": [
    "report_df_clean['classes'] = ''"
   ]
  },
  {
   "cell_type": "code",
   "execution_count": 241,
   "id": "039575fc",
   "metadata": {},
   "outputs": [
    {
     "data": {
      "text/plain": [
       "0       True\n",
       "1       True\n",
       "2       True\n",
       "3       True\n",
       "4       True\n",
       "       ...  \n",
       "857     True\n",
       "858    False\n",
       "859    False\n",
       "860    False\n",
       "861    False\n",
       "Name: classes_raw, Length: 862, dtype: object"
      ]
     },
     "execution_count": 241,
     "metadata": {},
     "output_type": "execute_result"
    }
   ],
   "source": [
    "report_df_clean['classes_raw'].str.contains('Class II & III')"
   ]
  },
  {
   "cell_type": "code",
   "execution_count": 242,
   "id": "a3f45563",
   "metadata": {},
   "outputs": [],
   "source": [
    "# report_df_clean['classes_raw'].unique()"
   ]
  },
  {
   "cell_type": "code",
   "execution_count": 243,
   "id": "0070207d",
   "metadata": {},
   "outputs": [],
   "source": [
    "# report_df_clean.to_csv('../data/raw_gaming_report.csv')\n",
    "# Save, then manually fix the extra row spaces for:\n",
    "    # Big Sandy Band of Western Mono Indians\n",
    "    # Bois Forte\n",
    "    # Cahuilla Band\n",
    "    # Campo Band of Diegueno Mission of the Campo Indian Reservation\n",
    "    # Chicken Ranch Rancheria of Me-wuk Indians of California\n",
    "    # More?\n"
   ]
  },
  {
   "cell_type": "code",
   "execution_count": 244,
   "id": "ce67e41d",
   "metadata": {},
   "outputs": [],
   "source": [
    "# report_df_clean = pd.read_csv('../data/raw_gaming_report.csv').iloc[:,1:]"
   ]
  },
  {
   "cell_type": "code",
   "execution_count": 245,
   "id": "b44378cf",
   "metadata": {},
   "outputs": [],
   "source": [
    "# Since so many state values were on subsequent empty lines, must update after manually cleaning those problem rows\n",
    "report_df_clean['state'] = report_df_clean['address'].str.extract(r'([A-Z]{2})')"
   ]
  },
  {
   "cell_type": "code",
   "execution_count": 246,
   "id": "c1d70737",
   "metadata": {},
   "outputs": [],
   "source": [
    "report_df_clean.reset_index(inplace=True, drop=True)"
   ]
  },
  {
   "cell_type": "code",
   "execution_count": 247,
   "id": "5dcbf2a5",
   "metadata": {},
   "outputs": [],
   "source": [
    "# Split address value by the '\\nGame Class' string\n",
    "# Populate classes_raw\n",
    "# Fix address value\n",
    "# report_df_clean.loc[report_df_clean['classes_raw'].isna(),:]#, 'address'].str.find('\\n')\n",
    "classes_raw_isna_idx = report_df_clean['classes_raw'].isna()\n",
    "report_df_clean.loc[classes_raw_isna_idx, 'classes_raw'] = report_df_clean.loc[classes_raw_isna_idx, 'address']"
   ]
  },
  {
   "cell_type": "code",
   "execution_count": 250,
   "id": "f55f6ada",
   "metadata": {},
   "outputs": [],
   "source": [
    "address_class_idx = report_df_clean.loc[classes_raw_isna_idx, 'address'].str.find('\\nGame')"
   ]
  },
  {
   "cell_type": "code",
   "execution_count": 263,
   "id": "363ee2cd",
   "metadata": {},
   "outputs": [
    {
     "data": {
      "text/plain": [
       "0                                         Work Phone: 405-379-3321\n",
       "is_facility                                                   True\n",
       "address          Email Address: joel.chaffin@creeknationcasino.com\n",
       "classes_raw      Email Address: joel.chaffin@creeknationcasino.com\n",
       "facility_name                               Work Fax: 405-379-3504\n",
       "state                                                          NaN\n",
       "classes                                                           \n",
       "Name: 437, dtype: object"
      ]
     },
     "execution_count": 263,
     "metadata": {},
     "output_type": "execute_result"
    }
   ],
   "source": [
    "report_df_clean.iloc[437,:]"
   ]
  },
  {
   "cell_type": "markdown",
   "id": "af34a27e",
   "metadata": {},
   "source": [
    "OK, so the address is a lost cause at this point. So many of them are merged with Game Class strings, so my script thinks they are in a state abbreviated 'II'. At least that only applies to the script for facilities, since the state for nations should still be accurate. I will just apply a new 'nation_state' column to unify them better, because the revenue still goes back to wherever the nation is based, not where the facility is."
   ]
  },
  {
   "cell_type": "code",
   "execution_count": 269,
   "id": "209b590a",
   "metadata": {},
   "outputs": [],
   "source": [
    "report_df_clean.loc[classes_raw_isna_idx, 'address'] = report_df_clean.loc[classes_raw_isna_idx, 'address'].str.extract(r'^(.*?)\\sGame Class')"
   ]
  },
  {
   "cell_type": "code",
   "execution_count": 270,
   "id": "8e7a8ba0",
   "metadata": {},
   "outputs": [],
   "source": [
    "report_df_clean.loc[:, 'classes'] = 'Other'\n",
    "report_df_clean.loc[report_df_clean['classes_raw'].str.contains('Class II'), 'classes'] = 'Class II'\n",
    "report_df_clean.loc[report_df_clean['classes_raw'].str.contains('Class III'), 'classes'] = 'Class III'\n",
    "report_df_clean.loc[report_df_clean['classes_raw'].str.contains('Class II & III'), 'classes'] = 'Class II & III'\n",
    "\n"
   ]
  },
  {
   "cell_type": "code",
   "execution_count": 272,
   "id": "22bafab2",
   "metadata": {},
   "outputs": [],
   "source": [
    "# report_df_clean"
   ]
  },
  {
   "cell_type": "code",
   "execution_count": null,
   "id": "03a37bcc",
   "metadata": {},
   "outputs": [],
   "source": [
    "# report_df_clean.to_csv('../data/clean_gaming_report.csv')"
   ]
  },
  {
   "cell_type": "markdown",
   "id": "af241077",
   "metadata": {},
   "source": [
    "The Catawba Indian Nation operates [***one*** Class III facility](https://www.americangaming.org/wp-content/uploads/2025/02/North-Carolina_AGA-Gaming-Regulatory-Fact-Sheet-2025.pdf) in North Carolina. There is a typo in the pdf saying that the facility is in South Carolina, but that is just where the nation is based."
   ]
  },
  {
   "cell_type": "code",
   "execution_count": 274,
   "id": "96004362",
   "metadata": {},
   "outputs": [],
   "source": [
    "report_df_clean.loc[(report_df_clean.iloc[:,0]=='Catawba Indian Nation') & (~report_df_clean['is_facility']),\n",
    "                     'classes'] = 'Class III'"
   ]
  },
  {
   "cell_type": "code",
   "execution_count": 275,
   "id": "971377f3",
   "metadata": {},
   "outputs": [],
   "source": [
    "report_df_clean.loc[(report_df_clean.iloc[:,0]=='Catawba Indian Nation') & (report_df_clean['is_facility']),\n",
    "                     'address'] = '538 Kings Mountain Blvd, Kings Mountain, NC 28086'\n"
   ]
  },
  {
   "cell_type": "code",
   "execution_count": 276,
   "id": "5964d785",
   "metadata": {},
   "outputs": [],
   "source": [
    "report_df_clean.loc[(report_df_clean.iloc[:,0]=='Catawba Indian Nation') & (report_df_clean['is_facility']),\n",
    "                     'state'] = 'NC'\n"
   ]
  },
  {
   "cell_type": "code",
   "execution_count": 277,
   "id": "0cef5f21",
   "metadata": {},
   "outputs": [
    {
     "data": {
      "text/plain": [
       "classes\n",
       "Class II & III    574\n",
       "Class III         142\n",
       "Class II          120\n",
       "Other              26\n",
       "Name: count, dtype: int64"
      ]
     },
     "execution_count": 277,
     "metadata": {},
     "output_type": "execute_result"
    }
   ],
   "source": [
    "report_df_clean['classes'].value_counts()"
   ]
  },
  {
   "cell_type": "code",
   "execution_count": 278,
   "id": "e44eab56",
   "metadata": {},
   "outputs": [],
   "source": [
    "report_df_clean.drop(columns=['classes_raw'], inplace=True)"
   ]
  },
  {
   "cell_type": "code",
   "execution_count": 279,
   "id": "e0a110cf",
   "metadata": {},
   "outputs": [],
   "source": [
    "report_df_clean.rename(columns={'0':'owner_name'}, inplace=True)"
   ]
  },
  {
   "cell_type": "code",
   "execution_count": 325,
   "id": "bfb7d243",
   "metadata": {},
   "outputs": [],
   "source": [
    "owner_name_mapping = report_df_clean.copy().loc[:, ['owner_name', 'state', 'is_facility']]\n",
    "owner_name_mapping = owner_name_mapping.loc[~owner_name_mapping['is_facility'], ['owner_name', 'state']]\n",
    "owner_name_mapping.rename(columns={'state':'owner_state'}, inplace=True)\n"
   ]
  },
  {
   "cell_type": "code",
   "execution_count": 337,
   "id": "8e5b7671",
   "metadata": {},
   "outputs": [],
   "source": [
    "report_df_clean = report_df_clean.merge(owner_name_mapping, on='owner_name')"
   ]
  },
  {
   "cell_type": "code",
   "execution_count": null,
   "id": "f1918573",
   "metadata": {},
   "outputs": [],
   "source": [
    "# report_df_clean.loc[\n",
    "#     :, ['facility_name', 'owner_name', 'is_facility', 'address', 'state', 'owner_state', 'classes']\n",
    "#     ].to_csv('../data/clean/clean_gaming_report.csv', index=False)"
   ]
  },
  {
   "cell_type": "markdown",
   "id": "00f3c800",
   "metadata": {},
   "source": [
    "### Load from here"
   ]
  },
  {
   "cell_type": "code",
   "execution_count": 339,
   "id": "916021de",
   "metadata": {},
   "outputs": [],
   "source": [
    "import pandas as pd\n",
    "report_df_clean = pd.read_csv('../data/clean/clean_gaming_report.csv')"
   ]
  },
  {
   "cell_type": "code",
   "execution_count": 340,
   "id": "53712db4",
   "metadata": {},
   "outputs": [],
   "source": [
    "owner_names = report_df_clean['owner_name'].unique().tolist()"
   ]
  },
  {
   "cell_type": "markdown",
   "id": "4addc754",
   "metadata": {},
   "source": [
    "I really only care about a handful of items from the NIGC gaming report PDF:\n",
    "* Address of the gaming facility\n",
    "    * Extract the state as well\n",
    "* Name of tribe or nation that owns the facility\n",
    "* Name of the facility\n",
    "* Class type (Could be a string with some junk in it, will extract Class number later)\n",
    "* For now, don't really need all the contact info"
   ]
  },
  {
   "cell_type": "markdown",
   "id": "d492574d",
   "metadata": {},
   "source": [
    "## Native Economic Trends"
   ]
  },
  {
   "cell_type": "code",
   "execution_count": 341,
   "id": "81e1baad",
   "metadata": {},
   "outputs": [],
   "source": [
    "import pandas as pd\n",
    "import difflib"
   ]
  },
  {
   "cell_type": "code",
   "execution_count": 342,
   "id": "b0353689",
   "metadata": {},
   "outputs": [],
   "source": [
    "econ = pd.read_excel('../data/native-economic-trends-data_current.xlsx', sheet_name=1)"
   ]
  },
  {
   "cell_type": "code",
   "execution_count": 343,
   "id": "eeea2f33",
   "metadata": {},
   "outputs": [],
   "source": [
    "geonames = econ['geoname_mostrecent'].unique().tolist()"
   ]
  },
  {
   "cell_type": "markdown",
   "id": "9bad3756",
   "metadata": {},
   "source": [
    "I was considering just using ChatGPT or something to automatically create a crosswalk between the `owner_name` column from the NIGC table and `geoname_mostrecent` here. I should be responsible about validating this crosswalk.\n",
    "\n",
    "`difflib` should do the trick, too."
   ]
  },
  {
   "cell_type": "code",
   "execution_count": 344,
   "id": "50c70a0d",
   "metadata": {},
   "outputs": [],
   "source": [
    "best_geonames = []\n",
    "for owner_name in owner_names:\n",
    "    best = difflib.get_close_matches(owner_name, geonames, n=1, cutoff=0.46)\n",
    "    best_geonames.append(best[0] if best else None)"
   ]
  },
  {
   "cell_type": "code",
   "execution_count": 345,
   "id": "1c9b1555",
   "metadata": {},
   "outputs": [
    {
     "data": {
      "text/plain": [
       "36"
      ]
     },
     "execution_count": 345,
     "metadata": {},
     "output_type": "execute_result"
    }
   ],
   "source": [
    "sum([item is None for item in best_geonames]) # Not every owner name had a match!\n",
    "# Increasing get_close_matches cutoff creates erroneous matches"
   ]
  },
  {
   "cell_type": "code",
   "execution_count": 346,
   "id": "027d6afd",
   "metadata": {},
   "outputs": [],
   "source": [
    "owner_land_crosswalk = pd.DataFrame({'owner_name': owner_names, 'geoname_mostrecent':best_geonames})"
   ]
  },
  {
   "cell_type": "code",
   "execution_count": 347,
   "id": "7aad40ac",
   "metadata": {},
   "outputs": [
    {
     "data": {
      "text/plain": [
       "(258, 2)"
      ]
     },
     "execution_count": 347,
     "metadata": {},
     "output_type": "execute_result"
    }
   ],
   "source": [
    "owner_land_crosswalk.shape"
   ]
  },
  {
   "cell_type": "markdown",
   "id": "31b0eb6d",
   "metadata": {},
   "source": [
    "It should be noted that this crosswalk does not go between the gaming facility location and reservation location. However, gaming revenues go toward the owners' economic development, which would be centered on the tribe or nation's location, not necessarily just the facilities' locations."
   ]
  },
  {
   "cell_type": "code",
   "execution_count": 348,
   "id": "b98f262d",
   "metadata": {},
   "outputs": [
    {
     "data": {
      "text/html": [
       "<div>\n",
       "<style scoped>\n",
       "    .dataframe tbody tr th:only-of-type {\n",
       "        vertical-align: middle;\n",
       "    }\n",
       "\n",
       "    .dataframe tbody tr th {\n",
       "        vertical-align: top;\n",
       "    }\n",
       "\n",
       "    .dataframe thead th {\n",
       "        text-align: right;\n",
       "    }\n",
       "</style>\n",
       "<table border=\"1\" class=\"dataframe\">\n",
       "  <thead>\n",
       "    <tr style=\"text-align: right;\">\n",
       "      <th></th>\n",
       "      <th>owner_name</th>\n",
       "      <th>geoname_mostrecent</th>\n",
       "    </tr>\n",
       "  </thead>\n",
       "  <tbody>\n",
       "    <tr>\n",
       "      <th>0</th>\n",
       "      <td>Absentee Shawnee Tribe of Indians of OK</td>\n",
       "      <td>None</td>\n",
       "    </tr>\n",
       "    <tr>\n",
       "      <th>1</th>\n",
       "      <td>Agua Caliente Band of Cahuilla Indians</td>\n",
       "      <td>None</td>\n",
       "    </tr>\n",
       "    <tr>\n",
       "      <th>2</th>\n",
       "      <td>Ak-Chin Indian Communityof the Maricopa Indian...</td>\n",
       "      <td>Prairie Island Indian Community and Off-Reserv...</td>\n",
       "    </tr>\n",
       "    <tr>\n",
       "      <th>3</th>\n",
       "      <td>Alabama-Coushatta Tribe of Texas</td>\n",
       "      <td>Alabama-Coushatta Reservation and Off-Reservat...</td>\n",
       "    </tr>\n",
       "    <tr>\n",
       "      <th>4</th>\n",
       "      <td>Alturas Indian Rancheria, California</td>\n",
       "      <td>Alturas Indian Rancheria</td>\n",
       "    </tr>\n",
       "    <tr>\n",
       "      <th>...</th>\n",
       "      <td>...</td>\n",
       "      <td>...</td>\n",
       "    </tr>\n",
       "    <tr>\n",
       "      <th>253</th>\n",
       "      <td>Yavapai Apache Nation of the Camp Verde Indian...</td>\n",
       "      <td>Yavapai-Apache Nation Reservation</td>\n",
       "    </tr>\n",
       "    <tr>\n",
       "      <th>254</th>\n",
       "      <td>Yavapai-Prescott Indian Tribe</td>\n",
       "      <td>Yavapai-Prescott Reservation</td>\n",
       "    </tr>\n",
       "    <tr>\n",
       "      <th>255</th>\n",
       "      <td>Yocha DeHe Wintun Nation</td>\n",
       "      <td>Yomba Reservation</td>\n",
       "    </tr>\n",
       "    <tr>\n",
       "      <th>256</th>\n",
       "      <td>Ysleta del Sur Pueblo</td>\n",
       "      <td>Isleta Pueblo</td>\n",
       "    </tr>\n",
       "    <tr>\n",
       "      <th>257</th>\n",
       "      <td>Yurok Tribe of the Yurok Reservation</td>\n",
       "      <td>Crow Creek Reservation</td>\n",
       "    </tr>\n",
       "  </tbody>\n",
       "</table>\n",
       "<p>258 rows × 2 columns</p>\n",
       "</div>"
      ],
      "text/plain": [
       "                                            owner_name  \\\n",
       "0              Absentee Shawnee Tribe of Indians of OK   \n",
       "1               Agua Caliente Band of Cahuilla Indians   \n",
       "2    Ak-Chin Indian Communityof the Maricopa Indian...   \n",
       "3                     Alabama-Coushatta Tribe of Texas   \n",
       "4                 Alturas Indian Rancheria, California   \n",
       "..                                                 ...   \n",
       "253  Yavapai Apache Nation of the Camp Verde Indian...   \n",
       "254                      Yavapai-Prescott Indian Tribe   \n",
       "255                           Yocha DeHe Wintun Nation   \n",
       "256                              Ysleta del Sur Pueblo   \n",
       "257               Yurok Tribe of the Yurok Reservation   \n",
       "\n",
       "                                    geoname_mostrecent  \n",
       "0                                                 None  \n",
       "1                                                 None  \n",
       "2    Prairie Island Indian Community and Off-Reserv...  \n",
       "3    Alabama-Coushatta Reservation and Off-Reservat...  \n",
       "4                             Alturas Indian Rancheria  \n",
       "..                                                 ...  \n",
       "253                  Yavapai-Apache Nation Reservation  \n",
       "254                       Yavapai-Prescott Reservation  \n",
       "255                                  Yomba Reservation  \n",
       "256                                      Isleta Pueblo  \n",
       "257                             Crow Creek Reservation  \n",
       "\n",
       "[258 rows x 2 columns]"
      ]
     },
     "execution_count": 348,
     "metadata": {},
     "output_type": "execute_result"
    }
   ],
   "source": [
    "owner_land_crosswalk"
   ]
  },
  {
   "cell_type": "code",
   "execution_count": 349,
   "id": "a79ea91b",
   "metadata": {},
   "outputs": [
    {
     "data": {
      "text/plain": [
       "258"
      ]
     },
     "execution_count": 349,
     "metadata": {},
     "output_type": "execute_result"
    }
   ],
   "source": [
    "owner_land_crosswalk['owner_name'].unique().size"
   ]
  },
  {
   "cell_type": "code",
   "execution_count": 350,
   "id": "465c0ac3",
   "metadata": {},
   "outputs": [
    {
     "data": {
      "text/plain": [
       "258"
      ]
     },
     "execution_count": 350,
     "metadata": {},
     "output_type": "execute_result"
    }
   ],
   "source": [
    "report_df_clean['owner_name'].unique().size"
   ]
  },
  {
   "cell_type": "code",
   "execution_count": 351,
   "id": "47430a00",
   "metadata": {},
   "outputs": [
    {
     "data": {
      "text/plain": [
       "131"
      ]
     },
     "execution_count": 351,
     "metadata": {},
     "output_type": "execute_result"
    }
   ],
   "source": [
    "owner_land_crosswalk['geoname_mostrecent'].unique().size"
   ]
  },
  {
   "cell_type": "code",
   "execution_count": 352,
   "id": "6df2cf9e",
   "metadata": {},
   "outputs": [
    {
     "data": {
      "text/plain": [
       "771"
      ]
     },
     "execution_count": 352,
     "metadata": {},
     "output_type": "execute_result"
    }
   ],
   "source": [
    "econ['geoname_mostrecent'].unique().size"
   ]
  },
  {
   "cell_type": "code",
   "execution_count": 353,
   "id": "47daa221",
   "metadata": {},
   "outputs": [],
   "source": [
    "owner_land_crosswalk.to_csv('../data/unverified_crosswalk.csv', index=False)"
   ]
  },
  {
   "cell_type": "markdown",
   "id": "9ac2ae2f",
   "metadata": {},
   "source": [
    "I will manually edit this crosswalk csv to ensure accuracy. To clarify, there will be a one-to-many mapping from nations to reservations that are shared by multiple nations. For example, \"Citizen Potawatomi Nation-Absentee Shawnee OTSA\" belongs to both \"Absentee Shawnee Tribe of Indians of OK\" and \""
   ]
  },
  {
   "cell_type": "code",
   "execution_count": 354,
   "id": "91647322",
   "metadata": {},
   "outputs": [
    {
     "data": {
      "text/plain": [
       "array(['Acoma Pueblo and Off-Reservation Trust Land', 'Adai Caddo SDTSA',\n",
       "       'Agua Caliente Indian Reservation and Off-Reservation Trust Land',\n",
       "       'Akhiok ANVSA', 'Akiachak ANVSA', 'Akiak ANVSA', 'Akutan ANVSA',\n",
       "       'Alabama-Coushatta Reservation and Off-Reservation Trust Land',\n",
       "       'Alakanuk ANVSA', 'Alatna ANVSA', 'Aleknagik ANVSA',\n",
       "       'Algaaciq ANVSA', 'Allakaket ANVSA', 'Allegany Reservation',\n",
       "       'Alturas Indian Rancheria', 'Ambler ANVSA',\n",
       "       'Anahola (Agricultural) Hawaiian Home Land',\n",
       "       'Anahola (Residential) Hawaiian Home Land', 'Anaktuvuk Pass ANVSA',\n",
       "       'Andreafsky ANVSA', 'Angoon ANVSA', 'Aniak ANVSA',\n",
       "       'Annette Island Reserve', 'Anvik ANVSA', 'Apache Choctaw SDTSA',\n",
       "       'Arctic Village ANVSA', 'Aroostook Band of Micmac Trust Land',\n",
       "       'Atka ANVSA', 'Atmautluak ANVSA', 'Atqasuk ANVSA',\n",
       "       'Auburn Rancheria and Off-Reservation Trust Land',\n",
       "       'Augustine Reservation', 'Auwaiolimu-Kalawahine-Kewalo-Papakolea',\n",
       "       'Bad River Reservation',\n",
       "       'Barona Reservation and Off-Reservation Trust Land',\n",
       "       'Battle Mountain Reservation and Off-Reservation Trust Land',\n",
       "       'Bay Mills Reservation and Off-Reservation Trust Land',\n",
       "       'Bayou Lafourche SDTSA', 'Beaver ANVSA', 'Beaver Creek SDTSA',\n",
       "       'Belkofski ANVSA',\n",
       "       'Benton Paiute Reservation and Off-Reservation Trust Land',\n",
       "       'Berry Creek Rancheria and Off-Reservation Trust Land',\n",
       "       'Bethel ANVSA', 'Big Bend Rancheria', 'Big Cypress Reservation',\n",
       "       'Big Lagoon Rancheria',\n",
       "       'Big Pine Reservation and Off-Reservation Trust Land',\n",
       "       'Big Sandy Rancheria and Off-Reservation Trust Land',\n",
       "       'Big Valley Rancheria', \"Bill Moore's ANVSA\", 'Birch Creek ANVSA',\n",
       "       'Bishop Reservation',\n",
       "       'Blackfeet Indian Reservation and Off-Reservation Trust Land',\n",
       "       'Blue Lake Rancheria and Off-Reservation Trust Land',\n",
       "       'Bois Forte Reservation and Off-Reservation Trust Land',\n",
       "       'Brevig Mission ANVSA',\n",
       "       'Bridgeport Reservation and Off-Reservation Trust Land',\n",
       "       'Brighton Reservation', 'Buckland ANVSA',\n",
       "       'Burns Paiute Indian Colony and Off-Reservation Trust Land',\n",
       "       'Cabazon Reservation', 'Caddo-Wichita-Delaware OTSA',\n",
       "       'Cahuilla Reservation', 'Campbell Ranch',\n",
       "       'Campo Indian Reservation', 'Cantwell ANVSA',\n",
       "       'Canyon Village ANVSA', 'Capitan Grande Reservation',\n",
       "       'Carson Colony',\n",
       "       'Catawba Reservation and Off-Reservation Trust Land',\n",
       "       'Cattaraugus Reservation', 'Cayuga Nation TDSA',\n",
       "       'Cedarville Rancheria and Off-Reservation Trust Land',\n",
       "       'Celilo Village', 'Chalkyitsik ANVSA', 'Chefornak ANVSA',\n",
       "       'Chehalis Reservation and Off-Reservation Trust Land',\n",
       "       'Chemehuevi Reservation', 'Chenega ANVSA', 'Cher-O-Creek SDTSA',\n",
       "       'Cherokee OTSA', 'Cherokee Tribe of Northeast Alabama SDTSA',\n",
       "       'Chevak ANVSA',\n",
       "       'Cheyenne River Reservation and Off-Reservation Trust Land',\n",
       "       'Cheyenne and Arapaho OTSA', 'Chickahominy TDSA',\n",
       "       'Chickaloon ANVSA', 'Chickasaw OTSA',\n",
       "       'Chicken Ranch Rancheria and Off-Reservation Trust Land',\n",
       "       'Chignik ANVSA', 'Chignik Lagoon ANVSA', 'Chignik Lake ANVSA',\n",
       "       'Chilkat ANVSA', 'Chilkoot ANVSA', 'Chistochina ANVSA',\n",
       "       'Chitimacha Reservation', 'Chitina ANVSA', 'Choctaw OTSA',\n",
       "       'Chuathbaluk ANVSA', 'Chuloonawick ANVSA', 'Circle ANVSA',\n",
       "       'Citizen Potawatomi Nation-Absentee Shawnee OTSA',\n",
       "       'Clarks Point ANVSA', 'Clifton Choctaw SDTSA',\n",
       "       'Coconut Creek Trust Land', 'Cocopah Reservation',\n",
       "       \"Coeur d'Alene Reservation\", 'Coharie SDTSA',\n",
       "       'Cold Springs Rancheria', 'Colorado River Indian Reservation',\n",
       "       'Colusa Rancheria',\n",
       "       'Colville Reservation and Off-Reservation Trust Land',\n",
       "       'Coos, Lower Umpqua, and Siuslaw Reservation and Off-Reservation Trust Land',\n",
       "       'Copper Center ANVSA',\n",
       "       'Coquille Reservation and Off-Reservation Trust Land',\n",
       "       'Cortina Indian Rancheria', 'Council ANVSA',\n",
       "       'Coushatta Reservation and Off-Reservation Trust Land',\n",
       "       'Cow Creek Reservation', 'Cowlitz Reservation',\n",
       "       'Coyote Valley Reservation', 'Craig ANVSA', 'Creek OTSA',\n",
       "       'Creek/Seminole joint-use OTSA', 'Crooked Creek ANVSA',\n",
       "       'Crow Creek Reservation',\n",
       "       'Crow Reservation and Off-Reservation Trust Land', 'Deering ANVSA',\n",
       "       'Delaware-Muncie', 'Dillingham ANVSA', 'Dot Lake ANVSA',\n",
       "       'Douglas ANVSA', 'Dresslerville Colony',\n",
       "       'Dry Creek Rancheria and Off-Reservation Trust Land',\n",
       "       'Duck Valley Reservation and Off-Reservation Trust Land',\n",
       "       'Duckwater Reservation', 'Eagle ANVSA',\n",
       "       'East Kapolei Hawaiian Home Land', 'Eastern Cherokee Reservation',\n",
       "       'Eastern Chickahominy TDSA', 'Eastern Shawnee OTSA',\n",
       "       'Echota Cherokee SDTSA', 'Edisto Natchez Kusso SDTSA', 'Eek ANVSA',\n",
       "       'Egegik ANVSA', 'Eklutna ANVSA', 'Ekuk ANVSA', 'Ekwok ANVSA',\n",
       "       'Elim ANVSA',\n",
       "       'Elk Valley Rancheria and Off-Reservation Trust Land',\n",
       "       'Elko Colony', 'Ely Reservation', 'Emmonak ANVSA',\n",
       "       'Enterprise Rancheria and Off-Reservation Trust Land',\n",
       "       'Evansville ANVSA', 'Ewiiaapaayp Reservation', 'Eyak ANVSA',\n",
       "       'Fallon Paiute-Shoshone Colony and Off-Reservation Trust Land',\n",
       "       'Fallon Paiute-Shoshone Reservation and Off-Reservation Trust Land',\n",
       "       'False Pass ANVSA', 'Flandreau Reservation',\n",
       "       'Flathead Reservation', 'Florida Tribe of Eastern Creek',\n",
       "       'Fond du Lac Reservation and Off-Reservation Trust Land',\n",
       "       'Forest County Potawatomi Community and Off-Reservation Trust Land',\n",
       "       'Fort Apache Reservation',\n",
       "       'Fort Belknap Reservation and Off-Reservation Trust Land',\n",
       "       'Fort Berthold Reservation',\n",
       "       'Fort Bidwell Reservation and Off-Reservation Trust Land',\n",
       "       'Fort Hall Reservation and Off-Reservation Trust Land',\n",
       "       'Fort Independence Reservation',\n",
       "       'Fort McDermitt Indian Reservation',\n",
       "       'Fort McDowell Yavapai Nation Reservation',\n",
       "       'Fort Mojave Reservation and Off-Reservation Trust Land',\n",
       "       'Fort Peck Indian Reservation and Off-Reservation Trust Land',\n",
       "       'Fort Pierce Reservation', 'Fort Sill Apache Indian Reservation',\n",
       "       'Fort Yukon ANVSA', 'Fort Yuma Indian Reservation',\n",
       "       'Four Winds Cherokee SDTSA', 'Gakona ANVSA', 'Galena ANVSA',\n",
       "       'Gambell ANVSA', 'Georgetown ANVSA',\n",
       "       'Georgia Tribe of Eastern Cherokee SDTSA',\n",
       "       'Gila River Indian Reservation',\n",
       "       'Golden Hill Paugussett (state) Reservation', 'Golovin ANVSA',\n",
       "       'Goodnews Bay ANVSA', 'Goshute Reservation',\n",
       "       'Grand Caillou/Dulac SDTSA',\n",
       "       'Grand Portage Reservation and Off-Reservation Trust Land',\n",
       "       'Grand Ronde Community and Off-Reservation Trust Land',\n",
       "       'Grand Traverse Reservation and Off-Reservation Trust Land',\n",
       "       'Grayling ANVSA', 'Greenville Rancheria',\n",
       "       'Grindstone Indian Rancheria', 'Grouse Creek Group',\n",
       "       'Guidiville Rancheria and Off-Reservation Trust Land',\n",
       "       'Gulkana ANVSA', 'Haiku Hawaiian Home Land', 'Haliwa-Saponi SDTSA',\n",
       "       'Hamilton ANVSA', 'Hanapepe Hawaiian Home Land',\n",
       "       'Hannahville Indian Community and Off-Reservation Trust Land',\n",
       "       'Hassanamisco (state) Reservation', 'Havasupai Reservation',\n",
       "       'Healy Lake ANVSA',\n",
       "       'Ho-Chunk Nation Reservation and Off-Reservation Trust Land',\n",
       "       'Hoh Indian Reservation and Off-Reservation Trust Land',\n",
       "       'Hollywood Reservation', 'Holy Cross ANVSA',\n",
       "       'Homuula-Upper Piihonua Hawaiian Home Land',\n",
       "       'Honokaia Hawaiian Home Land', 'Honokowai Hawaiian Home Land',\n",
       "       'Honolulu Makai Hawaiian Home Land', 'Honomu Hawaiian Home Land',\n",
       "       'Hoolehua-Palaau Hawaiian Home Land', 'Hoonah ANVSA',\n",
       "       'Hoopa Valley Reservation', 'Hooper Bay ANVSA',\n",
       "       'Hopi Reservation and Off-Reservation Trust Land',\n",
       "       'Hopland Rancheria',\n",
       "       'Houlton Maliseet Reservation and Off-Reservation Trust Land',\n",
       "       'Hualapai Indian Reservation and Off-Reservation Trust Land',\n",
       "       'Hughes ANVSA',\n",
       "       'Huron Potawatomi Reservation and Off-Reservation Trust Land',\n",
       "       'Huslia ANVSA', 'Hydaburg ANVSA', 'Igiugig ANVSA', 'Iliamna ANVSA',\n",
       "       'Immokalee Reservation', 'Inaja and Cosmit Reservation',\n",
       "       'Inalik ANVSA', 'Indian Township Reservation',\n",
       "       'Ione Band of Miwok TDSA',\n",
       "       'Iowa (KS-NE) Reservation and Off-Reservation Trust Land',\n",
       "       'Iowa OTSA', 'Isabella Reservation and Off-Reservation Trust Land',\n",
       "       'Isle de Jean Charles SDTSA', 'Isleta Pueblo', 'Ivanof Bay ANVSA',\n",
       "       'Jackson Rancheria',\n",
       "       \"Jamestown S'Klallam Reservation and Off-Reservation Trust Land\",\n",
       "       'Jamul Indian Village', 'Jemez Pueblo',\n",
       "       'Jena Band of Choctaw Reservation',\n",
       "       'Jicarilla Apache Nation Reservation and Off-Reservation Trust Land',\n",
       "       'Kahikinui Hawaiian Home Land', 'Kaibab Indian Reservation',\n",
       "       'Kakaina-Kumuhau Hawaiian Home Land', 'Kake ANVSA',\n",
       "       'Kaktovik ANVSA', 'Kalaeloa Hawaiian Home Land',\n",
       "       'Kalamaula Hawaiian Home Land', 'Kalaoa Hawaiian Home Land',\n",
       "       'Kalaupapa Hawaiian Home Land', 'Kalawahine Hawaiian Home Land',\n",
       "       'Kalispel Reservation and Off-Reservation Trust Land',\n",
       "       'Kalskag ANVSA', 'Kaltag ANVSA', 'Kamaoa-Puueo Hawaiian Home Land',\n",
       "       'Kamiloloa-Makakupaia Hawaiian Home Land',\n",
       "       'Kamoku-Kapulena Hawaiian Home Land',\n",
       "       'Kanehili Hawaiian Home Land', 'Kaohe-Olaa Hawaiian Home Land',\n",
       "       'Kapaa Hawaiian Home Land', 'Kapaakea Hawaiian Home Land',\n",
       "       'Kapolei Hawaiian Home Land', 'Karluk ANVSA',\n",
       "       'Karuk Reservation and Off-Reservation Trust Land', 'Kasaan ANVSA',\n",
       "       'Kasigluk ANVSA', 'Kaumana Hawaiian Home Land',\n",
       "       'Kaupea Hawaiian Home Land', 'Kaw OTSA',\n",
       "       'Kaw/Ponca joint-use OTSA', 'Kawaihae Hawaiian Home Land',\n",
       "       'Keahuolu Hawaiian Home Land', 'Kealakehe Hawaiian Home Land',\n",
       "       'Keanae-Wailuanui Hawaiian Home Land',\n",
       "       'Keaukaha Hawaiian Home Land', 'Kekaha Hawaiian Home Land',\n",
       "       'Kenaitze ANVSA', 'Keokea (Agricultural) Hawaiian Home Land',\n",
       "       'Keoniki Hawaiian Home Land', 'Ketchikan ANVSA',\n",
       "       'Kewalo Hawaiian Home Land', 'Kiana ANVSA',\n",
       "       'Kickapoo (KS) Reservation',\n",
       "       'Kickapoo (KS) Reservation/Sac and Fox Nation Trust Land joint-use area',\n",
       "       'Kickapoo (TX) Reservation and Off-Reservation Trust Land',\n",
       "       'Kickapoo OTSA', 'King Cove ANVSA', 'King Salmon ANVSA',\n",
       "       'Kiowa-Comanche-Apache-Fort Sill Apache OTSA',\n",
       "       'Kiowa-Comanche-Apache-Ft Sill Apache/Caddo-Wichita-Delaware joint-use OTSA',\n",
       "       'Kipnuk ANVSA', 'Kivalina ANVSA', 'Klamath Reservation',\n",
       "       'Klawock ANVSA', 'Knik ANVSA', 'Kobuk ANVSA', 'Kodiak ANVSA',\n",
       "       'Kokhanok ANVSA', 'Kongiganak ANVSA',\n",
       "       'Kootenai Reservation and Off-Reservation Trust Land',\n",
       "       'Kotlik ANVSA', 'Kotzebue ANVSA', 'Koyuk ANVSA', 'Koyukuk ANVSA',\n",
       "       'Kwethluk ANVSA', 'Kwigillingok ANVSA', 'Kwinhagak ANVSA',\n",
       "       \"L'Anse Reservation and Off-Reservation Trust Land\",\n",
       "       'La Jolla Reservation', 'La Posta Indian Reservation',\n",
       "       'Lac Courte Oreilles Reservation and Off-Reservation Trust Land',\n",
       "       'Lac Vieux Desert Reservation and Off-Reservation Trust Land',\n",
       "       'Lac du Flambeau Reservation',\n",
       "       'Laguna Pueblo and Off-Reservation Trust Land',\n",
       "       'Lake Minchumina ANVSA',\n",
       "       'Lake Traverse Reservation and Off-Reservation Trust Land',\n",
       "       'Lalamilo Hawaiian Home Land', 'Lanai City Hawaiian Home Land',\n",
       "       'Larsen Bay ANVSA', 'Las Vegas Indian Colony',\n",
       "       'Laytonville Rancheria',\n",
       "       'Leech Lake Reservation and Off-Reservation Trust Land',\n",
       "       'Leialii Hawaiian Home Land',\n",
       "       'Lenape Indian Tribe of Delaware SDTSA', 'Lesnoi ANVSA',\n",
       "       'Levelock ANVSA', 'Likely Rancheria', 'Lime Village ANVSA',\n",
       "       'Little River Reservation and Off-Reservation Trust Land',\n",
       "       'Little Traverse Bay Reservation and Off-Reservation Trust Land',\n",
       "       'Lone Pine Reservation', 'Lookout Rancheria',\n",
       "       'Los Coyotes Reservation', 'Lovelock Indian Colony',\n",
       "       'Lower Brule Reservation and Off-Reservation Trust Land',\n",
       "       'Lower Elwha Reservation and Off-Reservation Trust Land',\n",
       "       'Lower Kalskag ANVSA',\n",
       "       'Lower Sioux Indian Community and Off-Reservation Trust Land',\n",
       "       'Lualualei Hawaiian Home Land', 'Lumbee SDTSA',\n",
       "       'Lummi Reservation', 'Lytton Rancheria',\n",
       "       'MOWA Choctaw (state) Reservation', 'MaChis Lower Creek SDTSA',\n",
       "       'Maili Hawaiian Home Land', 'Makah Indian Reservation',\n",
       "       'Makaha Valley Hawaiian Home Land', 'Makuu Hawaiian Home Land',\n",
       "       'Maluohai Hawaiian Home Land', 'Manchester-Point Arena Rancheria',\n",
       "       'Manley Hot Springs ANVSA', 'Manokotak ANVSA',\n",
       "       'Manzanita Reservation and Off-Reservation Trust Land',\n",
       "       'Maricopa (Ak Chin) Indian Reservation and Off-Reservation Trust Land',\n",
       "       'Marshall ANVSA', \"Mary's Igloo ANVSA\",\n",
       "       'Mashantucket Pequot Reservation and Off-Reservation Trust Land',\n",
       "       'Mashpee Wampanoag Trust Land',\n",
       "       'Match-e-be-nash-she-wish Band of Pottawatomi Reservation and Off-Reservation Trust Land',\n",
       "       'Mattaponi (state) Reservation', 'McGrath ANVSA', 'Mechoopda TDSA',\n",
       "       'Medfra', 'Meherrin SDTSA', 'Mekoryuk ANVSA',\n",
       "       'Menominee Reservation and Off-Reservation Trust Land',\n",
       "       'Mentasta Lake ANVSA', 'Mesa Grande Reservation',\n",
       "       'Mescalero Reservation', 'Miami OTSA',\n",
       "       'Miami/Peoria joint-use OTSA',\n",
       "       'Miccosukee Reservation and Off-Reservation Trust Land',\n",
       "       'Middletown Rancheria',\n",
       "       'Mille Lacs Reservation and Off-Reservation Trust Land',\n",
       "       'Minnesota Chippewa Trust Land', 'Minto ANVSA',\n",
       "       'Mississippi Choctaw Reservation and Off-Reservation Trust Land',\n",
       "       'Moapa River Indian Reservation', 'Modoc OTSA',\n",
       "       'Mohegan Reservation', 'Moloaa Hawaiian Home Land',\n",
       "       'Montgomery Creek Rancheria',\n",
       "       'Mooretown Rancheria and Off-Reservation Trust Land',\n",
       "       'Morongo Reservation and Off-Reservation Trust Land',\n",
       "       'Mountain Village ANVSA',\n",
       "       'Muckleshoot Reservation and Off-Reservation Trust Land',\n",
       "       'Naknek ANVSA', 'Nambe Pueblo and Off-Reservation Trust Land',\n",
       "       'Nanakuli Hawaiian Home Land', 'Nanticoke Indian Tribe SDTSA',\n",
       "       'Nanticoke Lenni Lenape SDTSA', 'Nanwalek ANVSA',\n",
       "       'Napaimute ANVSA', 'Napakiak ANVSA', 'Napaskiak ANVSA',\n",
       "       'Narragansett Reservation', 'Natchitoches SDTSA',\n",
       "       'Navajo Nation Reservation and Off-Reservation Trust Land',\n",
       "       'Nelson Lagoon ANVSA', 'Nenana ANVSA', 'New Koliganek ANVSA',\n",
       "       'New Stuyahok ANVSA', 'Newhalen ANVSA', 'Newtok ANVSA',\n",
       "       'Nez Perce Reservation', 'Nienie Hawaiian Home Land',\n",
       "       'Nightmute ANVSA', 'Nikolai ANVSA', 'Nikolski ANVSA',\n",
       "       'Ninilchik ANVSA', 'Nisqually Reservation', 'Noatak ANVSA',\n",
       "       'Nome ANVSA', 'Nondalton ANVSA',\n",
       "       'Nooksack Reservation and Off-Reservation Trust Land',\n",
       "       'Noorvik ANVSA',\n",
       "       'North Fork Rancheria and Off-Reservation Trust Land',\n",
       "       'Northern Cheyenne Indian Reservation and Off-Reservation Trust Land',\n",
       "       'Northway ANVSA', 'Northwestern Shoshone Reservation',\n",
       "       'Nuiqsut ANVSA', 'Nulato ANVSA', 'Nunam Iqua ANVSA',\n",
       "       'Nunapitchuk ANVSA', 'Occaneechi-Saponi SDTSA', 'Ohkay Owingeh',\n",
       "       'Ohogamiut ANVSA', 'Oil Springs Reservation', 'Old Harbor ANVSA',\n",
       "       'Omaha Reservation',\n",
       "       'Oneida (WI) Reservation and Off-Reservation Trust Land',\n",
       "       'Oneida Indian Nation Reservation', 'Onondaga Nation Reservation',\n",
       "       'Ontonagon Reservation', 'Osage Reservation', 'Oscarville ANVSA',\n",
       "       'Otoe-Missouria OTSA', 'Ottawa OTSA', 'Ouzinkie ANVSA',\n",
       "       'Paimiut ANVSA', 'Paiute (UT) Reservation', 'Pala Reservation',\n",
       "       'Pamunkey (state) Reservation',\n",
       "       'Panaewa (Agricultural) Hawaiian Home Land',\n",
       "       'Panaewa (Residential) Hawaiian Home Land',\n",
       "       'Papakolea Hawaiian Home Land',\n",
       "       'Pascua Pueblo Yaqui Reservation and Off-Reservation Trust Land',\n",
       "       'Paskenta Rancheria', 'Passamaquoddy Trust Land',\n",
       "       'Pauahi Hawaiian Home Land',\n",
       "       'Paucatuck Eastern Pequot (state) Reservation',\n",
       "       'Paukukalo Hawaiian Home Land', 'Pauma and Yuima Reservation',\n",
       "       'Pawnee OTSA',\n",
       "       'Pechanga Reservation and Off-Reservation Trust Land',\n",
       "       'Pedro Bay ANVSA', 'Pee Dee SDTSA', 'Pelican',\n",
       "       'Penobscot Reservation and Off-Reservation Trust Land',\n",
       "       'Peoria OTSA', 'Perryville ANVSA', 'Petersburg ANVSA',\n",
       "       'Picayune Rancheria and Off-Reservation Trust Land',\n",
       "       'Picuris Pueblo', 'Piihonua Hawaiian Home Land',\n",
       "       'Pilot Point ANVSA', 'Pilot Station ANVSA',\n",
       "       'Pine Ridge Reservation', 'Pinoleville Rancheria',\n",
       "       'Pit River Trust Land', 'Pitkas Point ANVSA', 'Platinum ANVSA',\n",
       "       'Pleasant Point Reservation',\n",
       "       'Poarch Creek Reservation and Off-Reservation Trust Land',\n",
       "       'Point Hope ANVSA', 'Point Lay ANVSA', 'Pointe-au-Chien SDTSA',\n",
       "       'Pokagon Reservation and Off-Reservation Trust Land',\n",
       "       'Ponca (NE) Trust Land', 'Ponca OTSA',\n",
       "       'Ponohawaii Hawaiian Home Land', 'Poospatuck (state) Reservation',\n",
       "       'Port Alsworth ANVSA',\n",
       "       'Port Gamble Reservation and Off-Reservation Trust Land',\n",
       "       'Port Graham ANVSA', 'Port Heiden ANVSA', 'Port Lions ANVSA',\n",
       "       'Port Madison Reservation', 'Portage Creek ANVSA',\n",
       "       'Prairie Band of Potawatomi Nation Reservation',\n",
       "       'Prairie Island Indian Community and Off-Reservation Trust Land',\n",
       "       'Princess Kahanu Estates Hawaiian Home Land', 'Pueblo de Cochiti',\n",
       "       'Pueblo of Pojoaque and Off-Reservation Trust Land',\n",
       "       'Pulehunui Hawaiian Home Land', 'Puukapu Hawaiian Home Land',\n",
       "       'Puyallup Reservation and Off-Reservation Trust Land',\n",
       "       'Pyramid Lake Paiute Reservation', 'Quapaw OTSA',\n",
       "       'Quartz Valley Reservation and Off-Reservation Trust Land',\n",
       "       'Quileute Reservation', 'Quinault Reservation', 'Ramapough SDTSA',\n",
       "       'Ramona Village', 'Rampart ANVSA', 'Rankokus', 'Rappahannock TDSA',\n",
       "       'Red Cliff Reservation and Off-Reservation Trust Land',\n",
       "       'Red Devil ANVSA', 'Red Lake Reservation', 'Redding Rancheria',\n",
       "       'Redwood Valley Rancheria',\n",
       "       'Reno-Sparks Indian Colony and Off-Reservation Trust Land',\n",
       "       'Resighini Rancheria',\n",
       "       'Rincon Reservation and Off-Reservation Trust Land',\n",
       "       'Roaring Creek Rancheria',\n",
       "       'Robinson Rancheria and Off-Reservation Trust Land',\n",
       "       \"Rocky Boy's Reservation and Off-Reservation Trust Land\",\n",
       "       'Rohnerville (Rancheria) Trust Land',\n",
       "       'Rosebud Indian Reservation and Off-Reservation Trust Land',\n",
       "       'Round Valley Reservation and Off-Reservation Trust Land',\n",
       "       'Ruby ANVSA', 'Rumsey Indian Rancheria', 'Russian Mission ANVSA',\n",
       "       'Sac and Fox Nation Reservation and Off-Reservation Trust Land',\n",
       "       'Sac and Fox OTSA',\n",
       "       'Sac and Fox/Meskwaki Settlement and Off-Reservation Trust Land',\n",
       "       'Salamatof ANVSA', 'Salt River Reservation', 'Samish TDSA',\n",
       "       'San Carlos Reservation', 'San Felipe Pueblo',\n",
       "       'San Felipe Pueblo/Santa Ana Pueblo joint-use area',\n",
       "       'San Felipe Pueblo/Santo Domingo Pueblo joint-use area',\n",
       "       'San Ildefonso Pueblo and Off-Reservation Trust Land',\n",
       "       'San Manuel Reservation',\n",
       "       'San Pasqual Reservation and Off-Reservation Trust Land',\n",
       "       'Sand Point ANVSA', 'Sandia Pueblo and Off-Reservation Trust Land',\n",
       "       'Santa Ana Pueblo',\n",
       "       'Santa Clara Pueblo and Off-Reservation Trust Land',\n",
       "       'Santa Rosa Rancheria', 'Santa Rosa Reservation',\n",
       "       'Santa Ynez Reservation', 'Santa Ysabel Reservation',\n",
       "       'Santee Reservation', 'Santee SDTSA', 'Santo Domingo Pueblo',\n",
       "       'Sappony SDTSA', 'Sauk-Suiattle Reservation',\n",
       "       'Sault Ste. Marie Reservation and Off-Reservation Trust Land',\n",
       "       'Savoonga ANVSA', 'Saxman ANVSA', 'Scammon Bay ANVSA',\n",
       "       'Schaghticoke (state) Reservation', 'Selawik ANVSA',\n",
       "       'Seldovia ANVSA', 'Seminole (FL) Trust Land', 'Seminole OTSA',\n",
       "       'Seneca-Cayuga OTSA', 'Shageluk ANVSA',\n",
       "       'Shakopee Mdewakanton Sioux Community and Off-Reservation Trust Land',\n",
       "       'Shaktoolik ANVSA', 'Sheep Ranch',\n",
       "       'Sherwood Valley Rancheria and Off-Reservation Trust Land',\n",
       "       'Shingle Springs Rancheria and Off-Reservation Trust Land',\n",
       "       'Shinnecock (state) Reservation', 'Shishmaref ANVSA',\n",
       "       'Shoalwater Bay Indian Reservation and Off-Reservation Trust Land',\n",
       "       'Shungnak ANVSA',\n",
       "       'Siletz Reservation and Off-Reservation Trust Land', 'Sitka ANVSA',\n",
       "       'Skagway ANVSA',\n",
       "       'Skokomish Reservation and Off-Reservation Trust Land',\n",
       "       'Skull Valley Reservation', 'Slana', 'Sleetmute ANVSA',\n",
       "       'Smith River Rancheria and Off-Reservation Trust Land',\n",
       "       'Snoqualmie Reservation and Off-Reservation Trust Land',\n",
       "       'Soboba Reservation and Off-Reservation Trust Land',\n",
       "       'Sokaogon Chippewa Community and Off-Reservation Trust Land',\n",
       "       'Solomon ANVSA',\n",
       "       'South Fork Reservation and Off-Reservation Trust Land',\n",
       "       'South Maui Hawaiian Home Land', 'South Naknek ANVSA',\n",
       "       'Southeastern Mvskoke Nation SDTSA', 'Southern Ute Reservation',\n",
       "       'Spirit Lake Reservation',\n",
       "       'Spokane Reservation and Off-Reservation Trust Land',\n",
       "       'Squaxin Island Reservation and Off-Reservation Trust Land',\n",
       "       'St. Croix Reservation and Off-Reservation Trust Land',\n",
       "       'St. George ANVSA', 'St. Michael ANVSA', 'St. Paul ANVSA',\n",
       "       'St. Regis Mohawk Reservation', 'Standing Rock Reservation',\n",
       "       'Stebbins ANVSA', 'Stevens Village ANVSA', 'Stewart Community',\n",
       "       'Stewarts Point Rancheria and Off-Reservation Trust Land',\n",
       "       'Stillaguamish Reservation and Off-Reservation Trust Land',\n",
       "       'Stockbridge Munsee Community and Off-Reservation Trust Land',\n",
       "       'Stony River ANVSA', 'Sulphur Bank Rancheria',\n",
       "       'Summit Lake Reservation and Off-Reservation Trust Land',\n",
       "       'Susanville Indian Rancheria and Off-Reservation Trust Land',\n",
       "       'Swinomish Reservation and Off-Reservation Trust Land',\n",
       "       'Sycuan Reservation and Off-Reservation Trust Land',\n",
       "       'Table Bluff Reservation',\n",
       "       'Table Mountain Rancheria and Off-Reservation Trust Land',\n",
       "       'Takotna ANVSA', 'Tama (state) Reservation', 'Tampa Reservation',\n",
       "       'Tanacross ANVSA', 'Tanana ANVSA',\n",
       "       'Taos Pueblo and Off-Reservation Trust Land', 'Tatitlek ANVSA',\n",
       "       'Tazlina ANVSA', 'Telida ANVSA', 'Teller ANVSA', 'Tenakee Springs',\n",
       "       'Tesuque Pueblo and Off-Reservation Trust Land', 'Tetlin ANVSA',\n",
       "       'Timbi-Sha Shoshone Reservation and Off-Reservation Trust Land',\n",
       "       'Togiak ANVSA',\n",
       "       \"Tohono O'odham Nation Reservation and Off-Reservation Trust Land\",\n",
       "       'Tok', 'Toksook Bay ANVSA', 'Tonawanda Reservation',\n",
       "       'Tonkawa OTSA',\n",
       "       'Tonto Apache Reservation and Off-Reservation Trust Land',\n",
       "       'Torres-Martinez Reservation and Off-Reservation Trust Land',\n",
       "       'Trinidad Rancheria and Off-Reservation Trust Land',\n",
       "       'Tulalip Reservation and Off-Reservation Trust Land',\n",
       "       'Tule River Reservation and Off-Reservation Trust Land',\n",
       "       'Tuluksak ANVSA',\n",
       "       'Tunica-Biloxi Reservation and Off-Reservation Trust Land',\n",
       "       'Tuntutuliak ANVSA', 'Tununak ANVSA', 'Tuolumne Rancheria',\n",
       "       'Turtle Mountain Reservation and Off-Reservation Trust Land',\n",
       "       'Tuscarora Nation Reservation',\n",
       "       'Twenty-Nine Palms Reservation and Off-Reservation Trust Land',\n",
       "       'Twin Hills ANVSA', 'Tyonek ANVSA', 'Ualapue Hawaiian Home Land',\n",
       "       'Ugashik ANVSA',\n",
       "       'Uintah and Ouray Reservation and Off-Reservation Trust Land',\n",
       "       'Ukivok', 'Umatilla Reservation and Off-Reservation Trust Land',\n",
       "       'Unalakleet ANVSA', 'Unalaska ANVSA',\n",
       "       'United Cherokee Ani-Yun-Wiya Nation SDTSA',\n",
       "       'United Houma Nation SDTSA', 'Upolu Hawaiian Home Land',\n",
       "       'Upper Lake Rancheria',\n",
       "       'Upper Sioux Community and Off-Reservation Trust Land',\n",
       "       'Upper Skagit Reservation and Off-Reservation Trust Land',\n",
       "       'Upper South Carolina Pee Dee SDTSA',\n",
       "       'Ute Mountain Reservation and Off-Reservation Trust Land',\n",
       "       'Utqiagvik (formerly Barrow) ANVSA', 'Uyak ANVSA', 'Venetie ANVSA',\n",
       "       'Viejas Reservation and Off-Reservation Trust Land',\n",
       "       'Waccamaw SDTSA', 'Waccamaw Siouan SDTSA',\n",
       "       'Waiahole Hawaiian Home Land', 'Waiakea Hawaiian Home Land',\n",
       "       'Waianae Hawaiian Home Land', 'Waianae Kai Hawaiian Home Land',\n",
       "       'Waiawa Hawaiian Home Land', 'Waiehu Hawaiian Home Land',\n",
       "       'Waiku-Hana Hawaiian Home Land', 'Wailau Hawaiian Home Land',\n",
       "       'Wailua Hawaiian Home Land', 'Waimanalo Hawaiian Home Land',\n",
       "       'Waimanu Hawaiian Home Land', 'Waimea Hawaiian Home Land',\n",
       "       'Wainwright ANVSA', 'Waiohinu Hawaiian Home Land',\n",
       "       'Waiohuli (Residential) Hawaiian Home Land', 'Wales ANVSA',\n",
       "       'Walker River Reservation', 'Wampanoag-Aquinnah Trust Land',\n",
       "       'Wampanoag-Gay Head',\n",
       "       'Warm Springs Reservation and Off-Reservation Trust Land',\n",
       "       'Washoe Ranches Trust Land', 'Wassamasaw SDTSA', 'Wells Colony',\n",
       "       'White Earth Reservation and Off-Reservation Trust Land',\n",
       "       'White Mountain ANVSA',\n",
       "       'Wind River Reservation and Off-Reservation Trust Land',\n",
       "       'Winnebago Reservation and Off-Reservation Trust Land',\n",
       "       'Winnemucca Indian Colony', 'Wiseman', 'Woodfords Community',\n",
       "       'Wrangell ANVSA', 'Wyandotte OTSA', 'XL Ranch Rancheria',\n",
       "       'Yakama Nation Reservation and Off-Reservation Trust Land',\n",
       "       'Yakutat ANVSA', 'Yankton Reservation',\n",
       "       'Yavapai-Apache Nation Reservation',\n",
       "       'Yavapai-Prescott Reservation', 'Yerington Colony',\n",
       "       'Yomba Reservation',\n",
       "       'Ysleta del Sur Pueblo and Off-Reservation Trust Land',\n",
       "       'Yurok Reservation', 'Zia Pueblo and Off-Reservation Trust Land',\n",
       "       'Zuni Reservation and Off-Reservation Trust Land',\n",
       "       'Alabama (state)', 'Alaska (state)', 'Arizona (state)',\n",
       "       'Arkansas (state)', 'California (state)', 'Colorado (state)',\n",
       "       'Connecticut (state)', 'Delaware (state)',\n",
       "       'District of Columbia (state)', 'Florida (state)',\n",
       "       'Georgia (state)', 'Hawaii (state)', 'Idaho (state)',\n",
       "       'Illinois (state)', 'Indiana (state)', 'Iowa (state)',\n",
       "       'Kansas (state)', 'Kentucky (state)', 'Louisiana (state)',\n",
       "       'Maine (state)', 'Maryland (state)', 'Massachusetts (state)',\n",
       "       'Michigan (state)', 'Minnesota (state)', 'Mississippi (state)',\n",
       "       'Missouri (state)', 'Montana (state)', 'Nebraska (state)',\n",
       "       'Nevada (state)', 'New Hampshire (state)', 'New Jersey (state)',\n",
       "       'New Mexico (state)', 'New York (state)', 'North Carolina (state)',\n",
       "       'North Dakota (state)', 'Ohio (state)', 'Oklahoma (state)',\n",
       "       'Oregon (state)', 'Pennsylvania (state)',\n",
       "       'Puerto Rico (commonwealth)', 'Rhode Island (state)',\n",
       "       'South Carolina (state)', 'South Dakota (state)',\n",
       "       'Tennessee (state)', 'Texas (state)', 'Utah (state)',\n",
       "       'Vermont (state)', 'Virginia (state)', 'Washington (state)',\n",
       "       'West Virginia (state)', 'Wisconsin (state)', 'Wyoming (state)',\n",
       "       'United States (national)'], dtype=object)"
      ]
     },
     "execution_count": 354,
     "metadata": {},
     "output_type": "execute_result"
    }
   ],
   "source": [
    "econ['geoname_mostrecent'].unique()"
   ]
  },
  {
   "cell_type": "code",
   "execution_count": null,
   "id": "217f2010",
   "metadata": {},
   "outputs": [],
   "source": []
  }
 ],
 "metadata": {
  "kernelspec": {
   "display_name": "static-visualization-project",
   "language": "python",
   "name": "python3"
  },
  "language_info": {
   "codemirror_mode": {
    "name": "ipython",
    "version": 3
   },
   "file_extension": ".py",
   "mimetype": "text/x-python",
   "name": "python",
   "nbconvert_exporter": "python",
   "pygments_lexer": "ipython3",
   "version": "3.13.7"
  }
 },
 "nbformat": 4,
 "nbformat_minor": 5
}
