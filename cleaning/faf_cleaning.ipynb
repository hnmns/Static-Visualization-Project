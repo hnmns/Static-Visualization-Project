{
 "cells": [
  {
   "cell_type": "code",
   "execution_count": 1,
   "id": "81c5cb2a",
   "metadata": {},
   "outputs": [],
   "source": [
    "import polars as pl"
   ]
  },
  {
   "cell_type": "code",
   "execution_count": 2,
   "id": "2a85d196",
   "metadata": {},
   "outputs": [],
   "source": [
    "faf_path = '../data/FAF_Metallic_Coal_Freight_AllODPairs/faf_selected_subset.csv'\n",
    "faf = pl.read_csv(faf_path)"
   ]
  },
  {
   "cell_type": "code",
   "execution_count": 3,
   "id": "b3024f39",
   "metadata": {},
   "outputs": [
    {
     "data": {
      "text/html": [
       "<div><style>\n",
       ".dataframe > thead > tr,\n",
       ".dataframe > tbody > tr {\n",
       "  text-align: right;\n",
       "  white-space: pre-wrap;\n",
       "}\n",
       "</style>\n",
       "<small>shape: (5, 17)</small><table border=\"1\" class=\"dataframe\"><thead><tr><th>dms_orig</th><th>dms_dest</th><th>sctg2</th><th>dms_mode</th><th>thousand tons in 2019</th><th>million dollars in 2019</th><th>million ton-miles in 2019</th><th>thousand tons in 2024</th><th>million dollars in 2024</th><th>million ton-miles in 2024</th><th>thousand tons in 2030</th><th>thousand tons in 2030_low</th><th>thousand tons in 2030_high</th><th>million dollars in 2030</th><th>million dollars in 2030_low</th><th>million dollars in 2030_high</th><th>million ton-miles in 2030</th></tr><tr><td>str</td><td>str</td><td>str</td><td>str</td><td>f64</td><td>f64</td><td>f64</td><td>f64</td><td>f64</td><td>f64</td><td>f64</td><td>f64</td><td>f64</td><td>f64</td><td>f64</td><td>f64</td><td>f64</td></tr></thead><tbody><tr><td>&quot;011-Birmingham AL&quot;</td><td>&quot;011-Birmingham AL&quot;</td><td>&quot;14-Metallic ores&quot;</td><td>&quot;1-Truck&quot;</td><td>0.7979</td><td>0.2515</td><td>0.0316</td><td>0.7647</td><td>0.241</td><td>0.0303</td><td>0.8657</td><td>0.8585</td><td>0.9136</td><td>0.2728</td><td>0.2706</td><td>0.288</td><td>0.0343</td></tr><tr><td>&quot;011-Birmingham AL&quot;</td><td>&quot;011-Birmingham AL&quot;</td><td>&quot;15-Coal&quot;</td><td>&quot;1-Truck&quot;</td><td>3889.6427</td><td>260.3397</td><td>116.9759</td><td>3443.3999</td><td>230.472</td><td>103.5557</td><td>2179.0815</td><td>2160.8311</td><td>2301.599</td><td>145.8492</td><td>144.6277</td><td>154.0495</td><td>65.533</td></tr><tr><td>&quot;011-Birmingham AL&quot;</td><td>&quot;019-Rest of AL&quot;</td><td>&quot;15-Coal&quot;</td><td>&quot;1-Truck&quot;</td><td>26.1426</td><td>2.9859</td><td>2.4495</td><td>23.1434</td><td>2.6434</td><td>2.1685</td><td>17.247</td><td>17.1045</td><td>18.2065</td><td>1.9699</td><td>1.9536</td><td>2.0795</td><td>1.616</td></tr><tr><td>&quot;011-Birmingham AL&quot;</td><td>&quot;131-Atlanta GA&quot;</td><td>&quot;14-Metallic ores&quot;</td><td>&quot;1-Truck&quot;</td><td>0.0103</td><td>0.0275</td><td>0.0017</td><td>0.0099</td><td>0.0263</td><td>0.0017</td><td>0.0082</td><td>0.0081</td><td>0.0087</td><td>0.0218</td><td>0.0216</td><td>0.0232</td><td>0.0014</td></tr><tr><td>&quot;011-Birmingham AL&quot;</td><td>&quot;280-Mississippi&quot;</td><td>&quot;15-Coal&quot;</td><td>&quot;1-Truck&quot;</td><td>0.0936</td><td>0.0194</td><td>0.0211</td><td>0.0828</td><td>0.0171</td><td>0.0186</td><td>0.0502</td><td>0.0488</td><td>0.0535</td><td>0.0104</td><td>0.0101</td><td>0.0111</td><td>0.0113</td></tr></tbody></table></div>"
      ],
      "text/plain": [
       "shape: (5, 17)\n",
       "┌───────────┬───────────┬───────────┬──────────┬───┬───────────┬───────────┬───────────┬───────────┐\n",
       "│ dms_orig  ┆ dms_dest  ┆ sctg2     ┆ dms_mode ┆ … ┆ million   ┆ million   ┆ million   ┆ million   │\n",
       "│ ---       ┆ ---       ┆ ---       ┆ ---      ┆   ┆ dollars   ┆ dollars   ┆ dollars   ┆ ton-miles │\n",
       "│ str       ┆ str       ┆ str       ┆ str      ┆   ┆ in 2030   ┆ in        ┆ in        ┆ in 2030   │\n",
       "│           ┆           ┆           ┆          ┆   ┆ ---       ┆ 2030_low  ┆ 2030_high ┆ ---       │\n",
       "│           ┆           ┆           ┆          ┆   ┆ f64       ┆ ---       ┆ ---       ┆ f64       │\n",
       "│           ┆           ┆           ┆          ┆   ┆           ┆ f64       ┆ f64       ┆           │\n",
       "╞═══════════╪═══════════╪═══════════╪══════════╪═══╪═══════════╪═══════════╪═══════════╪═══════════╡\n",
       "│ 011-Birmi ┆ 011-Birmi ┆ 14-Metall ┆ 1-Truck  ┆ … ┆ 0.2728    ┆ 0.2706    ┆ 0.288     ┆ 0.0343    │\n",
       "│ ngham AL  ┆ ngham AL  ┆ ic ores   ┆          ┆   ┆           ┆           ┆           ┆           │\n",
       "│ 011-Birmi ┆ 011-Birmi ┆ 15-Coal   ┆ 1-Truck  ┆ … ┆ 145.8492  ┆ 144.6277  ┆ 154.0495  ┆ 65.533    │\n",
       "│ ngham AL  ┆ ngham AL  ┆           ┆          ┆   ┆           ┆           ┆           ┆           │\n",
       "│ 011-Birmi ┆ 019-Rest  ┆ 15-Coal   ┆ 1-Truck  ┆ … ┆ 1.9699    ┆ 1.9536    ┆ 2.0795    ┆ 1.616     │\n",
       "│ ngham AL  ┆ of AL     ┆           ┆          ┆   ┆           ┆           ┆           ┆           │\n",
       "│ 011-Birmi ┆ 131-Atlan ┆ 14-Metall ┆ 1-Truck  ┆ … ┆ 0.0218    ┆ 0.0216    ┆ 0.0232    ┆ 0.0014    │\n",
       "│ ngham AL  ┆ ta GA     ┆ ic ores   ┆          ┆   ┆           ┆           ┆           ┆           │\n",
       "│ 011-Birmi ┆ 280-Missi ┆ 15-Coal   ┆ 1-Truck  ┆ … ┆ 0.0104    ┆ 0.0101    ┆ 0.0111    ┆ 0.0113    │\n",
       "│ ngham AL  ┆ ssippi    ┆           ┆          ┆   ┆           ┆           ┆           ┆           │\n",
       "└───────────┴───────────┴───────────┴──────────┴───┴───────────┴───────────┴───────────┴───────────┘"
      ]
     },
     "execution_count": 3,
     "metadata": {},
     "output_type": "execute_result"
    }
   ],
   "source": [
    "faf.head()"
   ]
  },
  {
   "cell_type": "code",
   "execution_count": 4,
   "id": "77e060d2",
   "metadata": {},
   "outputs": [
    {
     "data": {
      "text/html": [
       "<div><style>\n",
       ".dataframe > thead > tr,\n",
       ".dataframe > tbody > tr {\n",
       "  text-align: right;\n",
       "  white-space: pre-wrap;\n",
       "}\n",
       "</style>\n",
       "<small>shape: (18_460, 6)</small><table border=\"1\" class=\"dataframe\"><thead><tr><th>dms_orig</th><th>dms_dest</th><th>dms_mode</th><th>sctg2</th><th>variable</th><th>value</th></tr><tr><td>str</td><td>str</td><td>str</td><td>str</td><td>str</td><td>f64</td></tr></thead><tbody><tr><td>&quot;011-Birmingham AL&quot;</td><td>&quot;011-Birmingham AL&quot;</td><td>&quot;1-Truck&quot;</td><td>&quot;14-Metallic ores&quot;</td><td>&quot;thousand tons in 2019&quot;</td><td>0.7979</td></tr><tr><td>&quot;011-Birmingham AL&quot;</td><td>&quot;011-Birmingham AL&quot;</td><td>&quot;1-Truck&quot;</td><td>&quot;15-Coal&quot;</td><td>&quot;thousand tons in 2019&quot;</td><td>3889.6427</td></tr><tr><td>&quot;011-Birmingham AL&quot;</td><td>&quot;019-Rest of AL&quot;</td><td>&quot;1-Truck&quot;</td><td>&quot;15-Coal&quot;</td><td>&quot;thousand tons in 2019&quot;</td><td>26.1426</td></tr><tr><td>&quot;011-Birmingham AL&quot;</td><td>&quot;131-Atlanta GA&quot;</td><td>&quot;1-Truck&quot;</td><td>&quot;14-Metallic ores&quot;</td><td>&quot;thousand tons in 2019&quot;</td><td>0.0103</td></tr><tr><td>&quot;011-Birmingham AL&quot;</td><td>&quot;280-Mississippi&quot;</td><td>&quot;1-Truck&quot;</td><td>&quot;15-Coal&quot;</td><td>&quot;thousand tons in 2019&quot;</td><td>0.0936</td></tr><tr><td>&hellip;</td><td>&hellip;</td><td>&hellip;</td><td>&hellip;</td><td>&hellip;</td><td>&hellip;</td></tr><tr><td>&quot;560-Wyoming&quot;</td><td>&quot;559-Rest of WI&quot;</td><td>&quot;1-Truck&quot;</td><td>&quot;15-Coal&quot;</td><td>&quot;million ton-miles in 2030&quot;</td><td>0.9293</td></tr><tr><td>&quot;560-Wyoming&quot;</td><td>&quot;559-Rest of WI&quot;</td><td>&quot;2-Rail&quot;</td><td>&quot;15-Coal&quot;</td><td>&quot;million ton-miles in 2030&quot;</td><td>6375.4261</td></tr><tr><td>&quot;560-Wyoming&quot;</td><td>&quot;560-Wyoming&quot;</td><td>&quot;1-Truck&quot;</td><td>&quot;14-Metallic ores&quot;</td><td>&quot;million ton-miles in 2030&quot;</td><td>0.0045</td></tr><tr><td>&quot;560-Wyoming&quot;</td><td>&quot;560-Wyoming&quot;</td><td>&quot;1-Truck&quot;</td><td>&quot;15-Coal&quot;</td><td>&quot;million ton-miles in 2030&quot;</td><td>2.7708</td></tr><tr><td>&quot;560-Wyoming&quot;</td><td>&quot;560-Wyoming&quot;</td><td>&quot;2-Rail&quot;</td><td>&quot;15-Coal&quot;</td><td>&quot;million ton-miles in 2030&quot;</td><td>2095.2712</td></tr></tbody></table></div>"
      ],
      "text/plain": [
       "shape: (18_460, 6)\n",
       "┌──────────────────┬──────────────────┬──────────┬──────────────────┬──────────────────┬───────────┐\n",
       "│ dms_orig         ┆ dms_dest         ┆ dms_mode ┆ sctg2            ┆ variable         ┆ value     │\n",
       "│ ---              ┆ ---              ┆ ---      ┆ ---              ┆ ---              ┆ ---       │\n",
       "│ str              ┆ str              ┆ str      ┆ str              ┆ str              ┆ f64       │\n",
       "╞══════════════════╪══════════════════╪══════════╪══════════════════╪══════════════════╪═══════════╡\n",
       "│ 011-Birmingham   ┆ 011-Birmingham   ┆ 1-Truck  ┆ 14-Metallic ores ┆ thousand tons in ┆ 0.7979    │\n",
       "│ AL               ┆ AL               ┆          ┆                  ┆ 2019             ┆           │\n",
       "│ 011-Birmingham   ┆ 011-Birmingham   ┆ 1-Truck  ┆ 15-Coal          ┆ thousand tons in ┆ 3889.6427 │\n",
       "│ AL               ┆ AL               ┆          ┆                  ┆ 2019             ┆           │\n",
       "│ 011-Birmingham   ┆ 019-Rest of AL   ┆ 1-Truck  ┆ 15-Coal          ┆ thousand tons in ┆ 26.1426   │\n",
       "│ AL               ┆                  ┆          ┆                  ┆ 2019             ┆           │\n",
       "│ 011-Birmingham   ┆ 131-Atlanta GA   ┆ 1-Truck  ┆ 14-Metallic ores ┆ thousand tons in ┆ 0.0103    │\n",
       "│ AL               ┆                  ┆          ┆                  ┆ 2019             ┆           │\n",
       "│ 011-Birmingham   ┆ 280-Mississippi  ┆ 1-Truck  ┆ 15-Coal          ┆ thousand tons in ┆ 0.0936    │\n",
       "│ AL               ┆                  ┆          ┆                  ┆ 2019             ┆           │\n",
       "│ …                ┆ …                ┆ …        ┆ …                ┆ …                ┆ …         │\n",
       "│ 560-Wyoming      ┆ 559-Rest of WI   ┆ 1-Truck  ┆ 15-Coal          ┆ million          ┆ 0.9293    │\n",
       "│                  ┆                  ┆          ┆                  ┆ ton-miles in     ┆           │\n",
       "│                  ┆                  ┆          ┆                  ┆ 2030             ┆           │\n",
       "│ 560-Wyoming      ┆ 559-Rest of WI   ┆ 2-Rail   ┆ 15-Coal          ┆ million          ┆ 6375.4261 │\n",
       "│                  ┆                  ┆          ┆                  ┆ ton-miles in     ┆           │\n",
       "│                  ┆                  ┆          ┆                  ┆ 2030             ┆           │\n",
       "│ 560-Wyoming      ┆ 560-Wyoming      ┆ 1-Truck  ┆ 14-Metallic ores ┆ million          ┆ 0.0045    │\n",
       "│                  ┆                  ┆          ┆                  ┆ ton-miles in     ┆           │\n",
       "│                  ┆                  ┆          ┆                  ┆ 2030             ┆           │\n",
       "│ 560-Wyoming      ┆ 560-Wyoming      ┆ 1-Truck  ┆ 15-Coal          ┆ million          ┆ 2.7708    │\n",
       "│                  ┆                  ┆          ┆                  ┆ ton-miles in     ┆           │\n",
       "│                  ┆                  ┆          ┆                  ┆ 2030             ┆           │\n",
       "│ 560-Wyoming      ┆ 560-Wyoming      ┆ 2-Rail   ┆ 15-Coal          ┆ million          ┆ 2095.2712 │\n",
       "│                  ┆                  ┆          ┆                  ┆ ton-miles in     ┆           │\n",
       "│                  ┆                  ┆          ┆                  ┆ 2030             ┆           │\n",
       "└──────────────────┴──────────────────┴──────────┴──────────────────┴──────────────────┴───────────┘"
      ]
     },
     "execution_count": 4,
     "metadata": {},
     "output_type": "execute_result"
    }
   ],
   "source": [
    "import polars.selectors as cs\n",
    "\n",
    "faf.unpivot(cs.numeric(), index=['dms_orig', 'dms_dest', 'dms_mode', 'sctg2'])"
   ]
  },
  {
   "cell_type": "markdown",
   "id": "28e2fc62",
   "metadata": {},
   "source": [
    "Now make two new columns:\n",
    "1. `year`\n",
    "2. `estimate`, which takes values `low`, `high`, `not_estimate`"
   ]
  },
  {
   "cell_type": "code",
   "execution_count": null,
   "id": "2c13cc4d",
   "metadata": {},
   "outputs": [],
   "source": []
  }
 ],
 "metadata": {
  "kernelspec": {
   "display_name": "static-visualization-project",
   "language": "python",
   "name": "python3"
  },
  "language_info": {
   "codemirror_mode": {
    "name": "ipython",
    "version": 3
   },
   "file_extension": ".py",
   "mimetype": "text/x-python",
   "name": "python",
   "nbconvert_exporter": "python",
   "pygments_lexer": "ipython3",
   "version": "3.13.7"
  }
 },
 "nbformat": 4,
 "nbformat_minor": 5
}
