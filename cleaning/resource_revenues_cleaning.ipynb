{
 "cells": [
  {
   "cell_type": "code",
   "execution_count": 1,
   "id": "04f532fe",
   "metadata": {},
   "outputs": [],
   "source": [
    "import polars as pl\n"
   ]
  },
  {
   "cell_type": "code",
   "execution_count": 2,
   "id": "1e28ec25",
   "metadata": {},
   "outputs": [],
   "source": [
    "rsrc = pl.read_csv('../data/calendar_year_revenue.csv')"
   ]
  },
  {
   "cell_type": "code",
   "execution_count": 6,
   "id": "8d3bd161",
   "metadata": {},
   "outputs": [
    {
     "data": {
      "text/html": [
       "<div><style>\n",
       ".dataframe > thead > tr,\n",
       ".dataframe > tbody > tr {\n",
       "  text-align: right;\n",
       "  white-space: pre-wrap;\n",
       "}\n",
       "</style>\n",
       "<small>shape: (2,)</small><table border=\"1\" class=\"dataframe\"><thead><tr><th>Land Class</th></tr><tr><td>str</td></tr></thead><tbody><tr><td>&quot;Federal&quot;</td></tr><tr><td>&quot;Native American&quot;</td></tr></tbody></table></div>"
      ],
      "text/plain": [
       "shape: (2,)\n",
       "Series: 'Land Class' [str]\n",
       "[\n",
       "\t\"Federal\"\n",
       "\t\"Native American\"\n",
       "]"
      ]
     },
     "execution_count": 6,
     "metadata": {},
     "output_type": "execute_result"
    }
   ],
   "source": [
    "rsrc['Land Class'].unique()"
   ]
  },
  {
   "cell_type": "code",
   "execution_count": 16,
   "id": "037a8e81",
   "metadata": {},
   "outputs": [
    {
     "data": {
      "text/html": [
       "<div><style>\n",
       ".dataframe > thead > tr,\n",
       ".dataframe > tbody > tr {\n",
       "  text-align: right;\n",
       "  white-space: pre-wrap;\n",
       "}\n",
       "</style>\n",
       "<small>shape: (990, 12)</small><table border=\"1\" class=\"dataframe\"><thead><tr><th>Calendar Year</th><th>Land Class</th><th>Land Category</th><th>State</th><th>County</th><th>FIPS Code</th><th>Offshore Region</th><th>Revenue Type</th><th>Mineral Lease Type</th><th>Commodity</th><th>Product</th><th>Revenue</th></tr><tr><td>i64</td><td>str</td><td>str</td><td>str</td><td>str</td><td>i64</td><td>str</td><td>str</td><td>str</td><td>str</td><td>str</td><td>f64</td></tr></thead><tbody><tr><td>2003</td><td>&quot;Native American&quot;</td><td>&quot;Onshore&quot;</td><td>&quot;&quot;</td><td>&quot;&quot;</td><td>null</td><td>&quot;&quot;</td><td>&quot;Royalties&quot;</td><td>&quot;Cinders&quot;</td><td>&quot;Cinders&quot;</td><td>&quot;Cinders&quot;</td><td>6846.75</td></tr><tr><td>2003</td><td>&quot;Native American&quot;</td><td>&quot;Onshore&quot;</td><td>&quot;&quot;</td><td>&quot;&quot;</td><td>null</td><td>&quot;&quot;</td><td>&quot;Rents&quot;</td><td>&quot;Coal&quot;</td><td>&quot;Coal&quot;</td><td>&quot;&quot;</td><td>-354950.56</td></tr><tr><td>2003</td><td>&quot;Native American&quot;</td><td>&quot;Onshore&quot;</td><td>&quot;&quot;</td><td>&quot;&quot;</td><td>null</td><td>&quot;&quot;</td><td>&quot;Other revenues&quot;</td><td>&quot;Coal&quot;</td><td>&quot;Coal&quot;</td><td>&quot;&quot;</td><td>-2.2785e6</td></tr><tr><td>2003</td><td>&quot;Native American&quot;</td><td>&quot;Onshore&quot;</td><td>&quot;&quot;</td><td>&quot;&quot;</td><td>null</td><td>&quot;&quot;</td><td>&quot;Royalties&quot;</td><td>&quot;Coal&quot;</td><td>&quot;Coal&quot;</td><td>&quot;Coal&quot;</td><td>5.4529e7</td></tr><tr><td>2003</td><td>&quot;Native American&quot;</td><td>&quot;Onshore&quot;</td><td>&quot;&quot;</td><td>&quot;&quot;</td><td>null</td><td>&quot;&quot;</td><td>&quot;Royalties&quot;</td><td>&quot;Coal&quot;</td><td>&quot;Coal&quot;</td><td>&quot;Coal-Bituminous-Raw&quot;</td><td>5814.85</td></tr><tr><td>&hellip;</td><td>&hellip;</td><td>&hellip;</td><td>&hellip;</td><td>&hellip;</td><td>&hellip;</td><td>&hellip;</td><td>&hellip;</td><td>&hellip;</td><td>&hellip;</td><td>&hellip;</td><td>&hellip;</td></tr><tr><td>2024</td><td>&quot;Native American&quot;</td><td>&quot;Onshore&quot;</td><td>&quot;&quot;</td><td>&quot;&quot;</td><td>null</td><td>&quot;&quot;</td><td>&quot;Royalties&quot;</td><td>&quot;Oil &amp; Gas&quot;</td><td>&quot;Gas&quot;</td><td>&quot;Pipeline Fuel/Loss&quot;</td><td>1.0134e6</td></tr><tr><td>2024</td><td>&quot;Native American&quot;</td><td>&quot;Onshore&quot;</td><td>&quot;&quot;</td><td>&quot;&quot;</td><td>null</td><td>&quot;&quot;</td><td>&quot;Royalties&quot;</td><td>&quot;Oil &amp; Gas&quot;</td><td>&quot;Gas&quot;</td><td>&quot;Gas Lost Prior to Royalty Meas…</td><td>1735.82</td></tr><tr><td>2024</td><td>&quot;Native American&quot;</td><td>&quot;Onshore&quot;</td><td>&quot;&quot;</td><td>&quot;&quot;</td><td>null</td><td>&quot;&quot;</td><td>&quot;Royalties&quot;</td><td>&quot;Oil &amp; Gas&quot;</td><td>&quot;Gas&quot;</td><td>&quot;Gas Lost - Flared or Vented&quot;</td><td>-1.4054e6</td></tr><tr><td>2024</td><td>&quot;Native American&quot;</td><td>&quot;Onshore&quot;</td><td>&quot;&quot;</td><td>&quot;&quot;</td><td>null</td><td>&quot;&quot;</td><td>&quot;Royalties&quot;</td><td>&quot;Oil &amp; Gas&quot;</td><td>&quot;Gas&quot;</td><td>&quot;Flared Oil Well Gas&quot;</td><td>1.8637e6</td></tr><tr><td>2024</td><td>&quot;Native American&quot;</td><td>&quot;Onshore&quot;</td><td>&quot;&quot;</td><td>&quot;&quot;</td><td>null</td><td>&quot;&quot;</td><td>&quot;Royalties&quot;</td><td>&quot;Oil &amp; Gas&quot;</td><td>&quot;Gas&quot;</td><td>&quot;Flared Gas Well Gas&quot;</td><td>273265.58</td></tr></tbody></table></div>"
      ],
      "text/plain": [
       "shape: (990, 12)\n",
       "┌────────────┬────────────┬────────────┬───────┬───┬───────────┬───────────┬───────────┬───────────┐\n",
       "│ Calendar   ┆ Land Class ┆ Land       ┆ State ┆ … ┆ Mineral   ┆ Commodity ┆ Product   ┆ Revenue   │\n",
       "│ Year       ┆ ---        ┆ Category   ┆ ---   ┆   ┆ Lease     ┆ ---       ┆ ---       ┆ ---       │\n",
       "│ ---        ┆ str        ┆ ---        ┆ str   ┆   ┆ Type      ┆ str       ┆ str       ┆ f64       │\n",
       "│ i64        ┆            ┆ str        ┆       ┆   ┆ ---       ┆           ┆           ┆           │\n",
       "│            ┆            ┆            ┆       ┆   ┆ str       ┆           ┆           ┆           │\n",
       "╞════════════╪════════════╪════════════╪═══════╪═══╪═══════════╪═══════════╪═══════════╪═══════════╡\n",
       "│ 2003       ┆ Native     ┆ Onshore    ┆       ┆ … ┆ Cinders   ┆ Cinders   ┆ Cinders   ┆ 6846.75   │\n",
       "│            ┆ American   ┆            ┆       ┆   ┆           ┆           ┆           ┆           │\n",
       "│ 2003       ┆ Native     ┆ Onshore    ┆       ┆ … ┆ Coal      ┆ Coal      ┆           ┆ -354950.5 │\n",
       "│            ┆ American   ┆            ┆       ┆   ┆           ┆           ┆           ┆ 6         │\n",
       "│ 2003       ┆ Native     ┆ Onshore    ┆       ┆ … ┆ Coal      ┆ Coal      ┆           ┆ -2.2785e6 │\n",
       "│            ┆ American   ┆            ┆       ┆   ┆           ┆           ┆           ┆           │\n",
       "│ 2003       ┆ Native     ┆ Onshore    ┆       ┆ … ┆ Coal      ┆ Coal      ┆ Coal      ┆ 5.4529e7  │\n",
       "│            ┆ American   ┆            ┆       ┆   ┆           ┆           ┆           ┆           │\n",
       "│ 2003       ┆ Native     ┆ Onshore    ┆       ┆ … ┆ Coal      ┆ Coal      ┆ Coal-Bitu ┆ 5814.85   │\n",
       "│            ┆ American   ┆            ┆       ┆   ┆           ┆           ┆ minous-Ra ┆           │\n",
       "│            ┆            ┆            ┆       ┆   ┆           ┆           ┆ w         ┆           │\n",
       "│ …          ┆ …          ┆ …          ┆ …     ┆ … ┆ …         ┆ …         ┆ …         ┆ …         │\n",
       "│ 2024       ┆ Native     ┆ Onshore    ┆       ┆ … ┆ Oil & Gas ┆ Gas       ┆ Pipeline  ┆ 1.0134e6  │\n",
       "│            ┆ American   ┆            ┆       ┆   ┆           ┆           ┆ Fuel/Loss ┆           │\n",
       "│ 2024       ┆ Native     ┆ Onshore    ┆       ┆ … ┆ Oil & Gas ┆ Gas       ┆ Gas Lost  ┆ 1735.82   │\n",
       "│            ┆ American   ┆            ┆       ┆   ┆           ┆           ┆ Prior to  ┆           │\n",
       "│            ┆            ┆            ┆       ┆   ┆           ┆           ┆ Royalty   ┆           │\n",
       "│            ┆            ┆            ┆       ┆   ┆           ┆           ┆ Meas…     ┆           │\n",
       "│ 2024       ┆ Native     ┆ Onshore    ┆       ┆ … ┆ Oil & Gas ┆ Gas       ┆ Gas Lost  ┆ -1.4054e6 │\n",
       "│            ┆ American   ┆            ┆       ┆   ┆           ┆           ┆ - Flared  ┆           │\n",
       "│            ┆            ┆            ┆       ┆   ┆           ┆           ┆ or Vented ┆           │\n",
       "│ 2024       ┆ Native     ┆ Onshore    ┆       ┆ … ┆ Oil & Gas ┆ Gas       ┆ Flared    ┆ 1.8637e6  │\n",
       "│            ┆ American   ┆            ┆       ┆   ┆           ┆           ┆ Oil Well  ┆           │\n",
       "│            ┆            ┆            ┆       ┆   ┆           ┆           ┆ Gas       ┆           │\n",
       "│ 2024       ┆ Native     ┆ Onshore    ┆       ┆ … ┆ Oil & Gas ┆ Gas       ┆ Flared    ┆ 273265.58 │\n",
       "│            ┆ American   ┆            ┆       ┆   ┆           ┆           ┆ Gas Well  ┆           │\n",
       "│            ┆            ┆            ┆       ┆   ┆           ┆           ┆ Gas       ┆           │\n",
       "└────────────┴────────────┴────────────┴───────┴───┴───────────┴───────────┴───────────┴───────────┘"
      ]
     },
     "execution_count": 16,
     "metadata": {},
     "output_type": "execute_result"
    }
   ],
   "source": [
    "rsrc.filter(pl.col('Land Class')=='Native American')#.filter(pl.col('FIPS Code')>0)"
   ]
  }
 ],
 "metadata": {
  "kernelspec": {
   "display_name": "static-visualization-project",
   "language": "python",
   "name": "python3"
  },
  "language_info": {
   "codemirror_mode": {
    "name": "ipython",
    "version": 3
   },
   "file_extension": ".py",
   "mimetype": "text/x-python",
   "name": "python",
   "nbconvert_exporter": "python",
   "pygments_lexer": "ipython3",
   "version": "3.13.7"
  }
 },
 "nbformat": 4,
 "nbformat_minor": 5
}
