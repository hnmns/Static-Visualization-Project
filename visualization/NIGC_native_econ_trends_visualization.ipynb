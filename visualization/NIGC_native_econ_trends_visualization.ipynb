{
 "cells": [
  {
   "cell_type": "code",
   "execution_count": 106,
   "id": "beee0b20",
   "metadata": {},
   "outputs": [],
   "source": [
    "import altair as alt\n",
    "import pandas as pd\n",
    "import numpy as np"
   ]
  },
  {
   "cell_type": "markdown",
   "id": "c14dde42",
   "metadata": {},
   "source": [
    "## Merging Native Economic Trends and NIGC data"
   ]
  },
  {
   "cell_type": "code",
   "execution_count": 40,
   "id": "58c9c14d",
   "metadata": {},
   "outputs": [],
   "source": [
    "net = pd.read_excel('../data/native-economic-trends-data_current.xlsx', sheet_name=1)\n",
    "nigc = pd.read_csv('../data/clean/clean_gaming_report.csv')"
   ]
  },
  {
   "cell_type": "code",
   "execution_count": 41,
   "id": "9bf9d8db",
   "metadata": {},
   "outputs": [],
   "source": [
    "crosswalk = pd.read_csv('../data/clean/verified_crosswalk.csv')"
   ]
  },
  {
   "cell_type": "code",
   "execution_count": 42,
   "id": "0ac96e6a",
   "metadata": {},
   "outputs": [],
   "source": [
    "# Let's grab the number of facilities listed in each owner.\n",
    "# This is not really a reliable count because many facilities appear to be multi-counted.\n",
    "# But that is mostly a hunch.\n",
    "# nigc.loc[nigc['owner_name']=='Casino Morongo',:]"
   ]
  },
  {
   "cell_type": "code",
   "execution_count": 43,
   "id": "8f64f2a3",
   "metadata": {},
   "outputs": [
    {
     "data": {
      "text/plain": [
       "(774, 7)"
      ]
     },
     "execution_count": 43,
     "metadata": {},
     "output_type": "execute_result"
    }
   ],
   "source": [
    "nigc.drop_duplicates().shape"
   ]
  },
  {
   "cell_type": "code",
   "execution_count": 44,
   "id": "4f2a6573",
   "metadata": {},
   "outputs": [
    {
     "data": {
      "text/plain": [
       "(831, 7)"
      ]
     },
     "execution_count": 44,
     "metadata": {},
     "output_type": "execute_result"
    }
   ],
   "source": [
    "nigc.shape"
   ]
  },
  {
   "cell_type": "code",
   "execution_count": 45,
   "id": "5bed72cd",
   "metadata": {},
   "outputs": [],
   "source": [
    "nigc.drop_duplicates(inplace=True)"
   ]
  },
  {
   "cell_type": "code",
   "execution_count": 46,
   "id": "4bea8488",
   "metadata": {},
   "outputs": [
    {
     "data": {
      "text/html": [
       "<div>\n",
       "<style scoped>\n",
       "    .dataframe tbody tr th:only-of-type {\n",
       "        vertical-align: middle;\n",
       "    }\n",
       "\n",
       "    .dataframe tbody tr th {\n",
       "        vertical-align: top;\n",
       "    }\n",
       "\n",
       "    .dataframe thead th {\n",
       "        text-align: right;\n",
       "    }\n",
       "</style>\n",
       "<table border=\"1\" class=\"dataframe\">\n",
       "  <thead>\n",
       "    <tr style=\"text-align: right;\">\n",
       "      <th></th>\n",
       "      <th>is_facility</th>\n",
       "    </tr>\n",
       "    <tr>\n",
       "      <th>owner_name</th>\n",
       "      <th></th>\n",
       "    </tr>\n",
       "  </thead>\n",
       "  <tbody>\n",
       "    <tr>\n",
       "      <th>Chickasaw Nation, Oklahoma</th>\n",
       "      <td>25</td>\n",
       "    </tr>\n",
       "    <tr>\n",
       "      <th>Choctaw Nation of Oklahoma</th>\n",
       "      <td>23</td>\n",
       "    </tr>\n",
       "    <tr>\n",
       "      <th>White Earth Nation</th>\n",
       "      <td>21</td>\n",
       "    </tr>\n",
       "    <tr>\n",
       "      <th>Muscogee (Creek) Nation, Oklahoma</th>\n",
       "      <td>12</td>\n",
       "    </tr>\n",
       "    <tr>\n",
       "      <th>Cherokee Nation, Oklahoma</th>\n",
       "      <td>10</td>\n",
       "    </tr>\n",
       "    <tr>\n",
       "      <th>...</th>\n",
       "      <td>...</td>\n",
       "    </tr>\n",
       "    <tr>\n",
       "      <th>Washoe Tribe of Nevada and California</th>\n",
       "      <td>1</td>\n",
       "    </tr>\n",
       "    <tr>\n",
       "      <th>Yavapai Apache Nation of the Camp Verde Indian Reservation, AZ</th>\n",
       "      <td>1</td>\n",
       "    </tr>\n",
       "    <tr>\n",
       "      <th>Yocha DeHe Wintun Nation</th>\n",
       "      <td>1</td>\n",
       "    </tr>\n",
       "    <tr>\n",
       "      <th>Ysleta del Sur Pueblo</th>\n",
       "      <td>1</td>\n",
       "    </tr>\n",
       "    <tr>\n",
       "      <th>Yurok Tribe of the Yurok Reservation</th>\n",
       "      <td>1</td>\n",
       "    </tr>\n",
       "  </tbody>\n",
       "</table>\n",
       "<p>240 rows × 1 columns</p>\n",
       "</div>"
      ],
      "text/plain": [
       "                                                    is_facility\n",
       "owner_name                                                     \n",
       "Chickasaw Nation, Oklahoma                                   25\n",
       "Choctaw Nation of Oklahoma                                   23\n",
       "White Earth Nation                                           21\n",
       "Muscogee (Creek) Nation, Oklahoma                            12\n",
       "Cherokee Nation, Oklahoma                                    10\n",
       "...                                                         ...\n",
       "Washoe Tribe of Nevada and California                         1\n",
       "Yavapai Apache Nation of the Camp Verde Indian ...            1\n",
       "Yocha DeHe Wintun Nation                                      1\n",
       "Ysleta del Sur Pueblo                                         1\n",
       "Yurok Tribe of the Yurok Reservation                          1\n",
       "\n",
       "[240 rows x 1 columns]"
      ]
     },
     "execution_count": 46,
     "metadata": {},
     "output_type": "execute_result"
    }
   ],
   "source": [
    "nigc_facility_counts = nigc.loc[:, ['owner_name', 'is_facility']].groupby(\n",
    "    by=['owner_name']\n",
    "    ).sum(\n",
    "\n",
    "    ).sort_values(\n",
    "        'is_facility', ascending=False\n",
    "    )\n",
    "nigc_facility_counts = nigc_facility_counts.loc[nigc_facility_counts['is_facility']>0, :]\n",
    "nigc_facility_counts\n",
    "# These counts are wrong, at least for top 2 nations"
   ]
  },
  {
   "cell_type": "code",
   "execution_count": 51,
   "id": "37fea37b",
   "metadata": {},
   "outputs": [],
   "source": [
    "nigc_classes_counts_long = nigc.loc[nigc['is_facility'], ['owner_name', 'classes']].groupby(['owner_name', 'classes']).size()"
   ]
  },
  {
   "cell_type": "code",
   "execution_count": 64,
   "id": "b4a83db2",
   "metadata": {},
   "outputs": [],
   "source": [
    "nigc_classes_counts_long = pd.DataFrame(nigc_classes_counts_long).reset_index().rename(columns={0:'count'})"
   ]
  },
  {
   "cell_type": "code",
   "execution_count": 99,
   "id": "bd7a04f4",
   "metadata": {},
   "outputs": [],
   "source": [
    "nigc_classes_counts_wide = nigc_classes_counts_long.pivot(index='owner_name', columns='classes', values='count')#.reset_index(drop=True)\n"
   ]
  },
  {
   "cell_type": "code",
   "execution_count": 101,
   "id": "8d6ad4c1",
   "metadata": {},
   "outputs": [],
   "source": [
    "nigc_classes_counts_wide.columns.name = None"
   ]
  },
  {
   "cell_type": "code",
   "execution_count": 104,
   "id": "468dfd26",
   "metadata": {},
   "outputs": [],
   "source": [
    "nigc_classes_counts_wide.reset_index(inplace=True)"
   ]
  },
  {
   "cell_type": "code",
   "execution_count": 108,
   "id": "b16f4065",
   "metadata": {},
   "outputs": [],
   "source": [
    "\n",
    "nigc_classes_counts_wide.replace(np.nan, 0, inplace=True)"
   ]
  },
  {
   "cell_type": "code",
   "execution_count": 109,
   "id": "8c22de9c",
   "metadata": {},
   "outputs": [
    {
     "data": {
      "text/plain": [
       "Index(['owner_name', 'Class II', 'Class II & III', 'Class III', 'Other'], dtype='object')"
      ]
     },
     "execution_count": 109,
     "metadata": {},
     "output_type": "execute_result"
    }
   ],
   "source": [
    "nigc_classes_counts_wide.columns"
   ]
  },
  {
   "cell_type": "code",
   "execution_count": 111,
   "id": "a03cdfd7",
   "metadata": {},
   "outputs": [],
   "source": [
    "nigc_classes_counts_wide.loc[:, ['Class II', 'Class II & III', 'Class III', 'Other']] = nigc_classes_counts_wide.loc[:, ['Class II', 'Class II & III', 'Class III', 'Other']].astype(int)"
   ]
  },
  {
   "cell_type": "code",
   "execution_count": 113,
   "id": "70f1c9d3",
   "metadata": {},
   "outputs": [],
   "source": [
    "nigc_all_counts = nigc_facility_counts.merge(nigc_classes_counts_wide, on='owner_name')"
   ]
  },
  {
   "cell_type": "code",
   "execution_count": 130,
   "id": "46c5783c",
   "metadata": {},
   "outputs": [],
   "source": [
    "nigc_all_counts.fillna(0, inplace=True)"
   ]
  },
  {
   "cell_type": "code",
   "execution_count": null,
   "id": "afa259ec",
   "metadata": {},
   "outputs": [],
   "source": [
    "\n",
    "cols_to_int = ['is_facility', 'Class II', 'Class II & III', 'Class III', 'Other']\n",
    "nigc_all_counts[cols_to_int] = nigc_all_counts[cols_to_int].astype(int)"
   ]
  },
  {
   "cell_type": "code",
   "execution_count": 146,
   "id": "54ab9f39",
   "metadata": {},
   "outputs": [
    {
     "data": {
      "text/html": [
       "<div>\n",
       "<style scoped>\n",
       "    .dataframe tbody tr th:only-of-type {\n",
       "        vertical-align: middle;\n",
       "    }\n",
       "\n",
       "    .dataframe tbody tr th {\n",
       "        vertical-align: top;\n",
       "    }\n",
       "\n",
       "    .dataframe thead th {\n",
       "        text-align: right;\n",
       "    }\n",
       "</style>\n",
       "<table border=\"1\" class=\"dataframe\">\n",
       "  <thead>\n",
       "    <tr style=\"text-align: right;\">\n",
       "      <th></th>\n",
       "      <th>owner_name</th>\n",
       "      <th>is_facility</th>\n",
       "      <th>Class II</th>\n",
       "      <th>Class II &amp; III</th>\n",
       "      <th>Class III</th>\n",
       "      <th>Other</th>\n",
       "    </tr>\n",
       "  </thead>\n",
       "  <tbody>\n",
       "    <tr>\n",
       "      <th>0</th>\n",
       "      <td>Chickasaw Nation, Oklahoma</td>\n",
       "      <td>25</td>\n",
       "      <td>2</td>\n",
       "      <td>23</td>\n",
       "      <td>0</td>\n",
       "      <td>0</td>\n",
       "    </tr>\n",
       "    <tr>\n",
       "      <th>1</th>\n",
       "      <td>Choctaw Nation of Oklahoma</td>\n",
       "      <td>23</td>\n",
       "      <td>0</td>\n",
       "      <td>23</td>\n",
       "      <td>0</td>\n",
       "      <td>0</td>\n",
       "    </tr>\n",
       "    <tr>\n",
       "      <th>2</th>\n",
       "      <td>White Earth Nation</td>\n",
       "      <td>21</td>\n",
       "      <td>19</td>\n",
       "      <td>2</td>\n",
       "      <td>0</td>\n",
       "      <td>0</td>\n",
       "    </tr>\n",
       "    <tr>\n",
       "      <th>3</th>\n",
       "      <td>Muscogee (Creek) Nation, Oklahoma</td>\n",
       "      <td>12</td>\n",
       "      <td>0</td>\n",
       "      <td>12</td>\n",
       "      <td>0</td>\n",
       "      <td>0</td>\n",
       "    </tr>\n",
       "    <tr>\n",
       "      <th>4</th>\n",
       "      <td>Cherokee Nation, Oklahoma</td>\n",
       "      <td>10</td>\n",
       "      <td>0</td>\n",
       "      <td>10</td>\n",
       "      <td>0</td>\n",
       "      <td>0</td>\n",
       "    </tr>\n",
       "    <tr>\n",
       "      <th>...</th>\n",
       "      <td>...</td>\n",
       "      <td>...</td>\n",
       "      <td>...</td>\n",
       "      <td>...</td>\n",
       "      <td>...</td>\n",
       "      <td>...</td>\n",
       "    </tr>\n",
       "    <tr>\n",
       "      <th>235</th>\n",
       "      <td>Washoe Tribe of Nevada and California</td>\n",
       "      <td>1</td>\n",
       "      <td>0</td>\n",
       "      <td>0</td>\n",
       "      <td>1</td>\n",
       "      <td>0</td>\n",
       "    </tr>\n",
       "    <tr>\n",
       "      <th>236</th>\n",
       "      <td>Yavapai Apache Nation of the Camp Verde Indian...</td>\n",
       "      <td>1</td>\n",
       "      <td>0</td>\n",
       "      <td>1</td>\n",
       "      <td>0</td>\n",
       "      <td>0</td>\n",
       "    </tr>\n",
       "    <tr>\n",
       "      <th>237</th>\n",
       "      <td>Yocha DeHe Wintun Nation</td>\n",
       "      <td>1</td>\n",
       "      <td>0</td>\n",
       "      <td>1</td>\n",
       "      <td>0</td>\n",
       "      <td>0</td>\n",
       "    </tr>\n",
       "    <tr>\n",
       "      <th>238</th>\n",
       "      <td>Ysleta del Sur Pueblo</td>\n",
       "      <td>1</td>\n",
       "      <td>0</td>\n",
       "      <td>1</td>\n",
       "      <td>0</td>\n",
       "      <td>0</td>\n",
       "    </tr>\n",
       "    <tr>\n",
       "      <th>239</th>\n",
       "      <td>Yurok Tribe of the Yurok Reservation</td>\n",
       "      <td>1</td>\n",
       "      <td>0</td>\n",
       "      <td>0</td>\n",
       "      <td>1</td>\n",
       "      <td>0</td>\n",
       "    </tr>\n",
       "  </tbody>\n",
       "</table>\n",
       "<p>240 rows × 6 columns</p>\n",
       "</div>"
      ],
      "text/plain": [
       "                                            owner_name  is_facility  Class II  \\\n",
       "0                           Chickasaw Nation, Oklahoma           25         2   \n",
       "1                           Choctaw Nation of Oklahoma           23         0   \n",
       "2                                   White Earth Nation           21        19   \n",
       "3                    Muscogee (Creek) Nation, Oklahoma           12         0   \n",
       "4                            Cherokee Nation, Oklahoma           10         0   \n",
       "..                                                 ...          ...       ...   \n",
       "235              Washoe Tribe of Nevada and California            1         0   \n",
       "236  Yavapai Apache Nation of the Camp Verde Indian...            1         0   \n",
       "237                           Yocha DeHe Wintun Nation            1         0   \n",
       "238                              Ysleta del Sur Pueblo            1         0   \n",
       "239               Yurok Tribe of the Yurok Reservation            1         0   \n",
       "\n",
       "     Class II & III  Class III  Other  \n",
       "0                23          0      0  \n",
       "1                23          0      0  \n",
       "2                 2          0      0  \n",
       "3                12          0      0  \n",
       "4                10          0      0  \n",
       "..              ...        ...    ...  \n",
       "235               0          1      0  \n",
       "236               1          0      0  \n",
       "237               1          0      0  \n",
       "238               1          0      0  \n",
       "239               0          1      0  \n",
       "\n",
       "[240 rows x 6 columns]"
      ]
     },
     "execution_count": 146,
     "metadata": {},
     "output_type": "execute_result"
    }
   ],
   "source": [
    "nigc_all_counts"
   ]
  },
  {
   "cell_type": "markdown",
   "id": "9371fbfa",
   "metadata": {},
   "source": [
    "### Applying crosswalk"
   ]
  },
  {
   "cell_type": "code",
   "execution_count": 148,
   "id": "2faa342f",
   "metadata": {},
   "outputs": [],
   "source": [
    "# crosswalk = crosswalk.loc[:, ['owner_name', 'geoname_mostrecent']]\n",
    "# crosswalk.drop(columns=['no_reservation_or_not_listed'])"
   ]
  },
  {
   "cell_type": "code",
   "execution_count": 149,
   "id": "df972626",
   "metadata": {},
   "outputs": [],
   "source": [
    "nigc_all_counts = nigc_all_counts.merge(crosswalk, on='owner_name')"
   ]
  },
  {
   "cell_type": "code",
   "execution_count": null,
   "id": "13af3ddf",
   "metadata": {},
   "outputs": [],
   "source": [
    "# Outer join bc we care about non-gaming nations as well, of course\n",
    "trends = nigc_all_counts.merge(net, on='geoname_mostrecent', how='outer')"
   ]
  },
  {
   "cell_type": "markdown",
   "id": "2f8704df",
   "metadata": {},
   "source": [
    "## Visualizations"
   ]
  },
  {
   "cell_type": "code",
   "execution_count": null,
   "id": "99782473",
   "metadata": {},
   "outputs": [],
   "source": []
  }
 ],
 "metadata": {
  "kernelspec": {
   "display_name": "static-visualization-project",
   "language": "python",
   "name": "python3"
  },
  "language_info": {
   "codemirror_mode": {
    "name": "ipython",
    "version": 3
   },
   "file_extension": ".py",
   "mimetype": "text/x-python",
   "name": "python",
   "nbconvert_exporter": "python",
   "pygments_lexer": "ipython3",
   "version": "3.13.7"
  }
 },
 "nbformat": 4,
 "nbformat_minor": 5
}
